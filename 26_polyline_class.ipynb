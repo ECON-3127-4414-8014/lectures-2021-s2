{
 "cells": [
  {
   "cell_type": "markdown",
   "metadata": {
    "slideshow": {
     "slide_type": "slide"
    }
   },
   "source": [
    "# Foundations of Computational Economics #26\n",
    "\n",
    "by Fedor Iskhakov, ANU\n",
    "\n",
    "<img src=\"_static/img/dag3logo.png\" style=\"width:256px;\">"
   ]
  },
  {
   "cell_type": "markdown",
   "metadata": {
    "slideshow": {
     "slide_type": "fragment"
    }
   },
   "source": [
    "## Polyline class for piecewise linear curve approximation\n",
    "\n",
    "<img src=\"_static/img/lab.png\" style=\"width:64px;\">"
   ]
  },
  {
   "cell_type": "markdown",
   "metadata": {
    "slideshow": {
     "slide_type": "subslide"
    }
   },
   "source": [
    "<img src=\"_static/img/youtube.png\" style=\"width:65px;\">\n",
    "\n",
    "[https://youtu.be/echmNfDfaD8](https://youtu.be/echmNfDfaD8)\n",
    "\n",
    "Description: Precomputation of complex curves in the equilibrium model (coding from scratch)."
   ]
  },
  {
   "cell_type": "markdown",
   "metadata": {
    "slideshow": {
     "slide_type": "slide"
    }
   },
   "source": [
    "- In this exercise we are writing a useful class to represent linearly\n",
    "  interpolated functions and correspondences.  \n",
    "- It will be useful for various models, including those in midterm projects.  \n",
    "- The main use case for the class is precomputing and storing function\n",
    "  approximations, before analyzing them further.  \n",
    "- This is useful when computing functions directly is costly  "
   ]
  },
  {
   "cell_type": "markdown",
   "metadata": {
    "slideshow": {
     "slide_type": "slide"
    }
   },
   "source": [
    "### Modeling market equilibrium\n",
    "\n",
    "- Consider the following product market\n",
    "  - Demand and supply be given by the code and plots below  \n",
    "- Supply is subject to batched production technology, where each batch requires a certain fixed\n",
    "  cost, leading to the wavy structure of the curve  \n",
    "- Demand curved is affected by three groups of customers with different willingness to pay\n",
    "  whose effect is clearly seen compared to the aggregated average  \n",
    "- Assume that each point on the curves are hard to compute  \n",
    "\n",
    "\n",
    "The task is to compute the equilibrium given the functions `demand(p)` and `supply(p)`"
   ]
  },
  {
   "cell_type": "code",
   "execution_count": null,
   "metadata": {
    "hide-output": false,
    "slideshow": {
     "slide_type": "slide"
    }
   },
   "outputs": [],
   "source": [
    "import numpy as np\n",
    "import matplotlib.pyplot as plt\n",
    "%matplotlib inline\n",
    "plt.rcParams['figure.figsize'] = [12, 8]\n",
    "np.seterr(all=None, divide='ignore', over=None, under=None, invalid='ignore')  # turn off sqrt(-1) warning\n",
    "\n",
    "def supply(p):\n",
    "    '''Vectorized function to compute supply'''\n",
    "    const = 5*np.arange(10)  # cost thresholds\n",
    "    p = np.asarray(p).reshape((1,-1))  # row vector\n",
    "    s = np.kron(np.ones((const.size,1)),p)  # repeat rows\n",
    "    for i,c in enumerate(const):\n",
    "        s[i,:] = np.log(s[i,:]*.2-c)+c+3  # separate transform for each row\n",
    "    return np.nanmax(s,axis=0)\n",
    "\n",
    "def demand(p):\n",
    "    '''Vectorized function to compute demand'''\n",
    "    res = np.asarray(100/p + 1/(1+np.exp(p-75))\n",
    "                           + 2/(1+np.exp(p-50))\n",
    "                           + 3/(1+np.exp(p-25)))\n",
    "    res[res>20] = np.nan  # avoid large numbers for plots\n",
    "    return res\n",
    "\n",
    "def plotline(fun,lbl=None,ax=None,**kwargs):\n",
    "    # quick plotting function on given axis\n",
    "    if ax==None:\n",
    "        ax = plt.axes()\n",
    "    pr = np.linspace(0,100,1000)\n",
    "    ax.plot(fun(pr),pr,**kwargs)\n",
    "    if lbl:\n",
    "        ax.text(fun(60)+1,60,lbl,fontsize=12)\n",
    "    ax.set_xlabel('Quantity')\n",
    "    ax.set_ylabel('Price')\n",
    "    return ax\n",
    "\n",
    "ax = plotline(demand,lbl='Demand',c='b')\n",
    "plotline(supply,lbl='Supply',c='r',ax=ax)\n",
    "plt.show()"
   ]
  },
  {
   "cell_type": "markdown",
   "metadata": {
    "slideshow": {
     "slide_type": "slide"
    }
   },
   "source": [
    "### Straightforward approach\n",
    "\n",
    "- Write down the market equilibrium condition $ S(p)-D(p)=0 $ and use any of the solvers\n",
    "  we have came across in this course to solver the equation  \n",
    "- Downside: have to compute supply and demand at each iteration, potentially large number of times!  "
   ]
  },
  {
   "cell_type": "markdown",
   "metadata": {
    "slideshow": {
     "slide_type": "slide"
    }
   },
   "source": [
    "### Precomputation approach\n",
    "\n",
    "1. Approximate supply and demand curves with piecewise linear curves\n",
    "  - requires a fixed and known number of calculations of supply and demand\n",
    "  - can consciously trade computational load vs. accuracy  \n",
    "1. Compute the intersection of the piecewise linear approximations  \n",
    "\n",
    "\n",
    "Need a tool for that!"
   ]
  },
  {
   "cell_type": "markdown",
   "metadata": {
    "slideshow": {
     "slide_type": "slide"
    }
   },
   "source": [
    "#### Polyline class\n",
    "\n",
    "We will write a simple class `polyline` that:\n",
    "\n",
    "- holds the coordinates of computed points of the line  \n",
    "- implements simple operations on the lines  \n",
    "- contains methods to compute intersection points  "
   ]
  },
  {
   "cell_type": "markdown",
   "metadata": {
    "slideshow": {
     "slide_type": "slide"
    }
   },
   "source": [
    "### Specification for the class\n",
    "\n",
    "The methods which have to be implemented:\n",
    "\n",
    "- `__init__` with three arguments: vector of $ x $, vector of $ y $, and an optional label\n",
    "  - all types of that are convertible to NumPy array should be accepted in $ x $ and $ y $ arguments  \n",
    "- `__repr__` as string representation  \n",
    "- `__call__` should return the interpolated values of $ f(x) $ for the passed\n",
    "  array $ x $. The output should be the same shape as the input.\n",
    "  Use [scipy.interpolate.interp1d()](https://docs.scipy.org/doc/scipy/reference/generated/scipy.interpolate.interp1d.html#scipy.interpolate.interp1d)\n",
    "  function, and return nan for extrapolated values (set bounds_error=False, fill_value=‘nan’).  \n",
    "- `__add__` should concatenate polylines  \n",
    "- `plot` should make a plot of the polyline  \n",
    "- `intersect` should return the array of intersection points for two polylines, using the method below  \n",
    "- `self_intersect` should return the array of intersection points within one polyline.  "
   ]
  },
  {
   "cell_type": "markdown",
   "metadata": {
    "slideshow": {
     "slide_type": "slide"
    }
   },
   "source": [
    "### Task\n",
    "\n",
    "1. Write the code for the polyline class  \n",
    "1. Along class code development, write unit tests to each of the methods  \n",
    "1. Run graphical tests below for intersection functions  \n",
    "1. Compute the equilibrium in the model above using the polyline class  "
   ]
  },
  {
   "cell_type": "markdown",
   "metadata": {
    "slideshow": {
     "slide_type": "slide"
    }
   },
   "source": [
    "#### Finding the intersecting point of two line segments\n",
    "\n",
    "Given two line segments in $ \\mathbb{R}^2 $ with endpoint\n",
    "coordinates as\n",
    "\n",
    "$$\n",
    "(x^1_1,y^1_1),(x^1_2,y^1_2) \\text{  and  } (x^2_1,y^2_1),(x^2_2,y^2_2),\n",
    "$$\n",
    "\n",
    "where superscripts indicate the segment, subscripts indicate beginning\n",
    "and end of the line, find whether the segments intersect, and if so,\n",
    "what is the intersection point.\n",
    "\n",
    "Let intersection be given by $ (x_0,y_0) $, and introduce two more\n",
    "variables $ t_1 $ and $ t_2 $ that equal to the distance from\n",
    "the starting points $ (x^1_1,y^1_1) $ and $ (x^2_1,y^2_1) $ to\n",
    "the intersection point, relative to the corresponding segment lengths.\n",
    "Then we can write the following system of equations\n",
    "\n",
    "$$\n",
    "\\begin{eqnarray*}\n",
    "(x^1_2 - x^1_1) \\cdot t_1 &=& x_0 - x^1_1 \\\\\n",
    "(x^2_2 - x^2_1) \\cdot t_2 &=& x_0 - x^2_1 \\\\\n",
    "(y^1_2 - y^1_1) \\cdot t_1 &=& y_0 - y^1_1 \\\\\n",
    "(y^2_2 - y^2_1) \\cdot t_2 &=& y_0 - y^2_1 \\\\\n",
    "\\end{eqnarray*}\n",
    "$$\n",
    "\n",
    "In matrix notation $ Az=b $ where\n",
    "\n",
    "$$\n",
    "A=\n",
    "\\begin{pmatrix}\n",
    "x^1_2 - x^1_1 & 0 & -1 & 0 \\\\\n",
    "0 & x^2_2 - x^2_1 & -1 & 0 \\\\\n",
    "y^1_2 - y^1_1 & 0 & 0 & -1 \\\\\n",
    "0 & y^2_2 - y^2_1 & 0 & -1 \\\\\n",
    "\\end{pmatrix},\\;\\;\n",
    "b=\\begin{pmatrix}\n",
    "-x^1_1\\\\\n",
    "-x^2_1\\\\\n",
    "-y^1_1\\\\\n",
    "-y^2_1\\\\\n",
    "\\end{pmatrix},\\;\\;\n",
    "z=(t_1,t_2,x_0,y_0)\n",
    "$$\n",
    "\n",
    "Then if solution exists, compute, check $ t_1 $ and $ t_2 $ - If\n",
    "both belong to $ [0,1] $, the intersection point exists and is given\n",
    "by the computed $ (x_0,y_0) $ - Otherwise, it the segments do not\n",
    "intersect"
   ]
  },
  {
   "cell_type": "code",
   "execution_count": null,
   "metadata": {
    "hide-output": false,
    "slideshow": {
     "slide_type": "slide"
    }
   },
   "outputs": [],
   "source": [
    "import numpy as np\n",
    "from scipy import interpolate\n",
    "import matplotlib.pyplot as plt\n",
    "%matplotlib inline\n",
    "plt.rcParams['figure.figsize'] = [12, 8]\n",
    "\n",
    "class polyline():\n",
    "    '''Class that implements the linearly interpolated function'''\n",
    "\n",
    "    # Write your code here"
   ]
  },
  {
   "cell_type": "code",
   "execution_count": null,
   "metadata": {
    "hide-output": false,
    "slideshow": {
     "slide_type": "slide"
    }
   },
   "outputs": [],
   "source": [
    "# write unit tests here\n",
    "import unittest\n",
    "# see examples at https://docs.python.org/3/library/unittest.html\n",
    "\n",
    "class TestDemo(unittest.TestCase):\n",
    "    \"\"\"Example of how to use unittest in Jupyter\"\"\"\n",
    "\n",
    "    def test1(self):\n",
    "        '''first test'''\n",
    "        self.assertTrue(True)\n",
    "\n",
    "    # add more here\n",
    "\n",
    "# this is the way to run tests\n",
    "if __name__ == '__main__':\n",
    "    # tweaking for Jupyter Notebook\n",
    "    unittest.main(argv=['first-arg-is-ignored'], exit=False)\n",
    "    # from command line\n",
    "    # unittest.main()"
   ]
  },
  {
   "cell_type": "markdown",
   "metadata": {
    "slideshow": {
     "slide_type": "slide"
    }
   },
   "source": [
    "### Graphical test\n",
    "\n",
    "The correctness of calculated intersection points is easiest to check\n",
    "with a **picture**"
   ]
  },
  {
   "cell_type": "code",
   "execution_count": null,
   "metadata": {
    "hide-output": false,
    "slideshow": {
     "slide_type": "slide"
    }
   },
   "outputs": [],
   "source": [
    "# Graphical test\n",
    "N=10\n",
    "p1 = polyline(np.random.rand(N),np.random.rand(N),'first line')\n",
    "p2 = polyline(np.random.rand(N),np.random.rand(N),'second line')\n",
    "intrs=p1.intersect(p2)\n",
    "\n",
    "p1.plot()\n",
    "p2.plot()\n",
    "if intrs.size>0:\n",
    "    plt.scatter(x=intrs[:,0],y=intrs[:,1],c='red')\n",
    "    print('Intersection points', intrs.size//2)\n",
    "plt.legend()\n",
    "plt.show()\n",
    "\n",
    "intrs=p1.self_intersect()\n",
    "p1.plot()\n",
    "if intrs.size>0:\n",
    "    plt.scatter(x=intrs[:,0],y=intrs[:,1],c='red')\n",
    "    print('Intersection points', intrs.size//2)\n",
    "plt.legend()\n",
    "plt.show()"
   ]
  },
  {
   "cell_type": "markdown",
   "metadata": {
    "slideshow": {
     "slide_type": "slide"
    }
   },
   "source": [
    "#### Back to the equilibrium model\n",
    "\n",
    "- create two polylines to represent supply and demand  \n",
    "- compute the intersection point  \n",
    "- plot  "
   ]
  },
  {
   "cell_type": "code",
   "execution_count": null,
   "metadata": {
    "hide-output": false,
    "slideshow": {
     "slide_type": "slide"
    }
   },
   "outputs": [],
   "source": [
    "# Write your code here"
   ]
  },
  {
   "cell_type": "markdown",
   "metadata": {
    "slideshow": {
     "slide_type": "slide"
    }
   },
   "source": [
    "#### Further learning resources\n",
    "\n",
    "- Example of precomputation in computed visual effects (<6min)\n",
    "  [https://www.youtube.com/watch?v=PJ4dJgGEOrc](https://www.youtube.com/watch?v=PJ4dJgGEOrc)  "
   ]
  },
  {
   "cell_type": "code",
   "execution_count": null,
   "metadata": {
    "hide-output": false,
    "slideshow": {
     "slide_type": "slide"
    }
   },
   "outputs": [],
   "source": [
    "import numpy as np\n",
    "from scipy import interpolate\n",
    "import matplotlib.pyplot as plt\n",
    "%matplotlib inline\n",
    "plt.rcParams['figure.figsize'] = [12, 8]\n",
    "\n",
    "class polyline():\n",
    "    '''Class that implements the linearly interpolated function'''\n",
    "\n",
    "    def __init__(self,x,y,label='no label'):\n",
    "        '''Initializer of the polyline object\n",
    "        '''\n",
    "        self.x,self.y = np.asarray(x,dtype=float).ravel(),np.asarray(y,dtype=float).ravel()\n",
    "        if self.x.size != self.y.size:\n",
    "            raise ValueError('The input arguments to polyline should be the same length')\n",
    "        self.label = '{:s}'.format(label)  # string label\n",
    "\n",
    "    def __len__(self):\n",
    "        '''Length of the polyline'''\n",
    "        return self.x.size\n",
    "\n",
    "    def __repr__(self):\n",
    "        '''String representation of polyline'''\n",
    "        return 'Polyline with {} points labeled \"{}\"\\nx={}\\ny={}'.format(len(self),self.label,self.x,self.y)\n",
    "\n",
    "    def __call__(self,x):\n",
    "        '''Returns the values of the polyline computed for given points x'''\n",
    "        interp = interpolate.interp1d(self.x,self.y,bounds_error=False, fill_value=np.nan)\n",
    "        return interp(x)\n",
    "\n",
    "    def __add__(self,other):\n",
    "        '''Overload of + to concatinate two polylines'''\n",
    "        if not isinstance(other,polyline):\n",
    "            raise TypeError('Only polyline can be added to another polyline')\n",
    "        x = np.concatenate((self.x, other.x))\n",
    "        y = np.concatenate((self.y, other.y))\n",
    "        label = self.label + ' + ' + other.label\n",
    "        return polyline(x,y,label=label)\n",
    "\n",
    "    def plot(self,ax=None,**kwargs):\n",
    "        '''Makes a plot of polyline'''\n",
    "        if not ax:\n",
    "            ax = plt.axes()\n",
    "        ax.plot(self.x,self.y,label=self.label,**kwargs)\n",
    "        return ax\n",
    "\n",
    "    def intersect(self,other):\n",
    "        '''Return the 2-dim numpy array of intersection points between two polylines (in row)'''\n",
    "        if not isinstance(other,polyline):\n",
    "            raise TypeError('Only polyline can be added to another polyline')\n",
    "        ub = (len(self)-1)*(len(other)-1)\n",
    "        out = np.empty((ub,2))  # space for the intersection point\n",
    "        k = 0  # number of intersection points so far\n",
    "        for x11,y11,x12,y12 in zip(self.x,self.y,self.x[1:],self.y[1:]):\n",
    "            for x21,y21,x22,y22 in zip(other.x,other.y,other.x[1:],other.y[1:]):\n",
    "                pp = self.__intersect_segments(x11,y11,x12,y12,x21,y21,x22,y22)\n",
    "                if pp:\n",
    "                    out[k,0],out[k,1] = pp\n",
    "                    k += 1\n",
    "        out = out[:k,:]\n",
    "        return out\n",
    "\n",
    "    def self_intersect(self):\n",
    "        '''Return the 2-dim numpy array of self-intersection points (in row)'''\n",
    "        ub = (len(self)-1)**2\n",
    "        out = np.empty((ub,2))  # space for the intersection point\n",
    "        k = 0  # number of intersection points so far\n",
    "        for x11,y11,x12,y12 in zip(self.x,self.y,self.x[1:],self.y[1:]):\n",
    "            for x21,y21,x22,y22 in zip(self.x,self.y,self.x[1:],self.y[1:]):\n",
    "                pp = self.__intersect_segments(x11,y11,x12,y12,x21,y21,x22,y22)\n",
    "                if pp:\n",
    "                    out[k,0],out[k,1] = pp\n",
    "                    k += 1\n",
    "        out = out[:k,:]\n",
    "        return out\n",
    "\n",
    "\n",
    "    def __intersect_segments(self,*args):\n",
    "        '''Find intersection point of a segment, or return None'''\n",
    "        # unpack parameters\n",
    "        x11,y11,x12,y12=args[:4] #first line segment\n",
    "        x21,y21,x22,y22=args[4:] #second line segment\n",
    "        # check if segmets are identical\n",
    "        if np.all(np.abs(np.asarray(args[:4])-np.asarray(args[4:]))<1e-10):\n",
    "            return None\n",
    "        # check if segmets share a point\n",
    "        if np.all(np.abs(np.asarray(args[:2])-np.asarray(args[4:6]))<1e-10):\n",
    "            return None\n",
    "        if np.all(np.abs(np.asarray(args[:2])-np.asarray(args[6:]))<1e-10):\n",
    "            return None\n",
    "        if np.all(np.abs(np.asarray(args[2:4])-np.asarray(args[4:6]))<1e-10):\n",
    "            return None\n",
    "        if np.all(np.abs(np.asarray(args[2:4])-np.asarray(args[6:]))<1e-10):\n",
    "            return None\n",
    "        # bounding box check: whether intersection is possible in principle\n",
    "        bb = ( min(x11,x12)<max(x21,x22) and min(x21,x22)<max(x11,x12) and\n",
    "               min(y11,y12)<max(y21,y22) and min(y21,y22)<max(y11,y12) )\n",
    "        if not bb:\n",
    "            return None\n",
    "        # form system of equations\n",
    "        A = np.array([[x12-x11,0,-1,0],[0,x22-x21,-1,0],[y12-y11,0,0,-1],[0,y22-y21,0,-1]])\n",
    "        b = np.array([-x11,-x21,-y11,-y21])\n",
    "        t1,t2,x0,y0 = np.linalg.solve(A,b)\n",
    "        if 0 <= t1 <= 1 and 0 <= t2 <= 1:\n",
    "            return x0,y0\n",
    "        else:\n",
    "            return None"
   ]
  },
  {
   "cell_type": "code",
   "execution_count": null,
   "metadata": {
    "hide-output": false,
    "slideshow": {
     "slide_type": "slide"
    }
   },
   "outputs": [],
   "source": [
    "# write unit tests here\n",
    "import unittest\n",
    "# see examples at https://docs.python.org/3/library/unittest.html\n",
    "\n",
    "class TestPolyline(unittest.TestCase):\n",
    "    '''Tests for the polyline class'''\n",
    "\n",
    "    def test_init(self):\n",
    "        '''Tests for the initializer'''\n",
    "        self.assertEqual(str(polyline([1,2,5,6],[[5,6,5,6]])),\n",
    "                        'Polyline with 4 points labeled \"no label\"\\nx=[1. 2. 5. 6.]\\ny=[5. 6. 5. 6.]')\n",
    "        self.assertEqual(str(polyline([[1],[2],[5],[6]],[[5,6,5,6]])),\n",
    "                        'Polyline with 4 points labeled \"no label\"\\nx=[1. 2. 5. 6.]\\ny=[5. 6. 5. 6.]')\n",
    "        self.assertEqual(str(polyline(np.array([[1],[2],[5],[6]]),[[5,6,5,6]])),\n",
    "                        'Polyline with 4 points labeled \"no label\"\\nx=[1. 2. 5. 6.]\\ny=[5. 6. 5. 6.]')\n",
    "        self.assertRaises(ValueError,polyline,[1],[2,4])\n",
    "        self.assertRaises(ValueError,polyline,[1],[2],6758)\n",
    "        self.assertRaises(ValueError,polyline,[1,2,],'string')\n",
    "\n",
    "    def test_call(self):\n",
    "        a = polyline(np.array([[1],[2],[5],[6]]),[[5,6,5,6]])\n",
    "        dt0 = a([2.3,4,5,23])\n",
    "        dt1 = np.asarray([5.9,5.33333333,5.,np.nan])\n",
    "        self.assertAlmostEqual(dt0[:3].sum(),dt1[:3].sum())\n",
    "        self.assertTrue(np.isnan(dt0[3]))\n",
    "\n",
    "    def test_add(self):\n",
    "        a = polyline([0,0,1,2],[9,9,3,4])\n",
    "        b = polyline([9,9,1,2],[9,8,7,8])\n",
    "        c = a + b\n",
    "        with self.assertRaises(TypeError):\n",
    "            a + 'string'\n",
    "            a + 56\n",
    "        self.assertListEqual(list(c.x),[0,0,1,2,9,9,1,2])\n",
    "        self.assertListEqual(list(c.y),[9,9,3,4,9,8,7,8])\n",
    "\n",
    "    def test_intersect(self):\n",
    "        a = polyline([0,0,1,2],[9,9,3,4])\n",
    "        b = polyline([9,9,1,2],[9,8,7,8])\n",
    "        with self.assertRaises(TypeError):\n",
    "            a.intersect('string')\n",
    "            a.intersect(56)\n",
    "\n",
    "\n",
    "    # add more here\n",
    "\n",
    "# this is the way to run tests\n",
    "if __name__ == '__main__':\n",
    "    # tweaking for Jupyter Notebook\n",
    "    unittest.main(argv=['first-arg-is-ignored'], exit=False)\n",
    "    # from command line\n",
    "    # unittest.main()"
   ]
  },
  {
   "cell_type": "code",
   "execution_count": null,
   "metadata": {
    "hide-output": false,
    "slideshow": {
     "slide_type": "slide"
    }
   },
   "outputs": [],
   "source": [
    "# Graphical test\n",
    "N=10\n",
    "p1 = polyline(np.random.rand(N),np.random.rand(N),'first line')\n",
    "p2 = polyline(np.random.rand(N),np.random.rand(N),'second line')\n",
    "intrs=p1.intersect(p2)\n",
    "\n",
    "ax = p1.plot()\n",
    "p2.plot(ax=ax)\n",
    "if intrs.size>0:\n",
    "    plt.scatter(x=intrs[:,0],y=intrs[:,1],c='red')\n",
    "    print('Intersection points', intrs.size//2)\n",
    "plt.legend()\n",
    "plt.show()\n",
    "\n",
    "intrs=p1.self_intersect()\n",
    "p1.plot()\n",
    "if intrs.size>0:\n",
    "    plt.scatter(x=intrs[:,0],y=intrs[:,1],c='red')\n",
    "    print('Intersection points', intrs.size//2)\n",
    "plt.legend()\n",
    "plt.show()"
   ]
  },
  {
   "cell_type": "code",
   "execution_count": null,
   "metadata": {
    "hide-output": false,
    "slideshow": {
     "slide_type": "slide"
    }
   },
   "outputs": [],
   "source": [
    "pr = np.linspace(0,100,50)\n",
    "p1 = polyline(pr,demand(pr),label='demand')\n",
    "p2 = polyline(pr,supply(pr),label='supply')\n",
    "intrs=p1.intersect(p2)\n",
    "\n",
    "ax = p1.plot()\n",
    "p2.plot(ax=ax)\n",
    "if intrs.size>0:\n",
    "    plt.scatter(x=intrs[:,0],y=intrs[:,1],c='red')\n",
    "    print('Intersection points', intrs.size//2)\n",
    "plt.legend()\n",
    "plt.show()\n",
    "print('Equilibrium price is {} and quantity is {}'.format(intrs[0,0],intrs[0,1]))"
   ]
  }
 ],
 "metadata": {
  "celltoolbar": "Slideshow",
  "date": 1627474986.3297331,
  "filename": "26_polyline_class.rst",
  "kernelspec": {
   "display_name": "Python",
   "language": "python3",
   "name": "python3"
  },
  "title": "Foundations of Computational Economics #26"
 },
 "nbformat": 4,
 "nbformat_minor": 4
}