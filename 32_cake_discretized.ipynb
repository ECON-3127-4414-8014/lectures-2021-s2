{
 "cells": [
  {
   "cell_type": "markdown",
   "metadata": {
    "slideshow": {
     "slide_type": "slide"
    }
   },
   "source": [
    "# Foundations of Computational Economics #32\n",
    "\n",
    "by Fedor Iskhakov, ANU\n",
    "\n",
    "<img src=\"_static/img/dag3logo.png\" style=\"width:256px;\">"
   ]
  },
  {
   "cell_type": "markdown",
   "metadata": {
    "slideshow": {
     "slide_type": "fragment"
    }
   },
   "source": [
    "## Cake eating model with discretized choice\n",
    "\n",
    "<img src=\"_static/img/lab.png\" style=\"width:64px;\">"
   ]
  },
  {
   "cell_type": "markdown",
   "metadata": {
    "slideshow": {
     "slide_type": "subslide"
    }
   },
   "source": [
    "<img src=\"_static/img/youtube.png\" style=\"width:65px;\">\n",
    "\n",
    "[https://youtu.be/EDcCoXkIU34](https://youtu.be/EDcCoXkIU34)\n",
    "\n",
    "Description: Using function interpolation to solve cake eating problem with discretized choice."
   ]
  },
  {
   "cell_type": "markdown",
   "metadata": {
    "slideshow": {
     "slide_type": "slide"
    }
   },
   "source": [
    "### Cake eating problem\n",
    "\n",
    "<img src=\"_static/img/cake.png\" style=\"width:128px;\">\n",
    "\n",
    "  \n",
    "- Cake of initial size $ W_0 $  \n",
    "- How much of the cake to eat each period $ t $, $ c_t $?  \n",
    "- Time is discrete, $ t=1,2,\\dots,\\infty $  \n",
    "- What is not eaten in period $ t $ is left for the future $ W_{t+1}=W_t-c_t $  "
   ]
  },
  {
   "cell_type": "markdown",
   "metadata": {
    "slideshow": {
     "slide_type": "slide"
    }
   },
   "source": [
    "### Bellman equation\n",
    "\n",
    "$$\n",
    "V(W_{t})=\\max_{0 \\le c_{t} \\le W_t}\\big\\{\\log(c_{t})+\\beta V(\\underset{=W_{t+1}}{\\underbrace{W_{t}-c_{t}}})\\big\\}\n",
    "$$\n",
    "\n",
    "$$\n",
    "c^{\\star}(W_t)=\\arg\\max_{0 \\le c_{t} \\le W_t}\\big\\{\\log(c_{t})+\\beta V(\\underset{=W_{t+1}}{\\underbrace{W_{t}-c_{t}}})\\big\\}\n",
    "$$"
   ]
  },
  {
   "cell_type": "markdown",
   "metadata": {
    "slideshow": {
     "slide_type": "slide"
    }
   },
   "source": [
    "### Recap: components of the dynamic model\n",
    "\n",
    "- **State variables** — vector of variables that describe all relevant\n",
    "  information about the modeled decision process, $ W_t $  \n",
    "- **Decision variables** — vector of variables describing the choices,\n",
    "  $ c_t $  \n",
    "- **Instantaneous payoff** — utility function, $ u(c_t)=\\log(c_t) $, with\n",
    "  time separable discounted utility  \n",
    "- **Motion rules** — agent’s beliefs of how state variable evolve\n",
    "  through time, conditional on choices, $ W_{t+1}=W_t-c_t $  \n",
    "- **Value function** — maximum attainable utility, $ V(W_t) $  \n",
    "- **Policy function** — mapping from state space to action space that\n",
    "  returns the optimal choice, $ c^{\\star}(W_t) $  "
   ]
  },
  {
   "cell_type": "markdown",
   "metadata": {
    "slideshow": {
     "slide_type": "slide"
    }
   },
   "source": [
    "### Value function iterations (VFI) solution\n",
    "\n",
    "Numerically solve\n",
    "\n",
    "$$\n",
    "V(W) = \\max_{0 \\le c \\le W} \\big[ u(c)+\\beta V(W-c) \\big ]\n",
    "$$\n",
    "\n",
    "Solve the **functional fixed point equation** $ T({V})(W) = V(W) $ for $ V(W) $, where\n",
    "\n",
    "$$\n",
    "T(V)(W) \\equiv \\max_{0 \\le c \\le W} \\big[u(c)+\\beta V(W-c)\\big]\n",
    "$$"
   ]
  },
  {
   "cell_type": "markdown",
   "metadata": {
    "slideshow": {
     "slide_type": "slide"
    }
   },
   "source": [
    "### VFI algorithm\n",
    "\n",
    "- Start with an arbitrary guess $ V_0(W) $\n",
    "  (will see next time that the initial guess is not important)  \n",
    "- At each iteration $ i $ compute  \n",
    "\n",
    "\n",
    "$$\n",
    "\\begin{eqnarray*}\n",
    "V_i(W) = T(V_{i-1})(W) &=&\n",
    "\\max_{0 \\le c \\le W} \\big\\{u(c)+\\beta V_{i-1}(W-c) \\big \\}  \\\\\n",
    "c_{i-1}(W) &=&\n",
    "\\underset{0 \\le c \\le W}{\\arg\\max} \\big\\{u(c)+\\beta V_{i-1}(W-c) \\big \\}\n",
    "\\end{eqnarray*}\n",
    "$$\n",
    "\n",
    "- Repeat until convergence  "
   ]
  },
  {
   "cell_type": "markdown",
   "metadata": {
    "slideshow": {
     "slide_type": "slide"
    }
   },
   "source": [
    "### Numerical implementation of the Bellman operator\n",
    "\n",
    "- Cake is continuous $ \\rightarrow $ value function is a function\n",
    "  of continuous variable  \n",
    "- Solution: **discretize** $ W $\n",
    "  Construct a *grid* (vector) of cake-sizes\n",
    "  $ \\vec{W}\\in\\{0,\\dots\\overline{W}\\} $  \n",
    "\n",
    "\n",
    "$$\n",
    "V_{i}(\\vec{W})=\\max_{0 \\le c \\le \\vec{W}}\\{u(c)+\\beta V_{i-1}(\\vec{W}-c)\\}\n",
    "$$\n",
    "\n",
    "- Compute value and policy function sequentially point-by-point  \n",
    "- May need to compute the value function *between grid points*\n",
    "  $ \\Rightarrow $ Interpolation and function approximation  "
   ]
  },
  {
   "cell_type": "markdown",
   "metadata": {
    "slideshow": {
     "slide_type": "slide"
    }
   },
   "source": [
    "### Solution “on the grid”\n",
    "\n",
    "- allows to avoid computation of value function between the grid points  \n",
    "- but have to rewrite the model with choices in terms of $ W_{t+1} $  \n",
    "- consumption is then taken as the difference $ W_{t+1}-W_t $  \n",
    "- very crude representation of consumption choice, thus terribly low accuracy of the solution  "
   ]
  },
  {
   "cell_type": "code",
   "execution_count": null,
   "metadata": {
    "hide-output": false,
    "slideshow": {
     "slide_type": "slide"
    }
   },
   "outputs": [],
   "source": [
    "import numpy as np\n",
    "class cake_ongrid():\n",
    "    '''Simple class to implement cake eating problem on the grid'''\n",
    "\n",
    "    def __init__(self,beta=.9, Wbar=10, ngrid=50):\n",
    "        '''Initializer'''\n",
    "        self.beta = beta    # Discount factor\n",
    "        self.Wbar = Wbar    # Upper bound on cake size\n",
    "        self.ngrid = ngrid  # Number of grid points\n",
    "        self.epsilon = np.finfo(float).eps # smallest positive float number\n",
    "        self.grid = np.linspace(self.epsilon,Wbar,ngrid) # grid for both state and decision space\n",
    "\n",
    "    def bellman(self,V0):\n",
    "        '''Bellman operator, V0 is one-dim vector of values on grid'''\n",
    "        c = self.grid - self.grid[:,np.newaxis] # current state in columns and choices in rows\n",
    "        c[c==0] = self.epsilon # add small quantity to avoid log(0)\n",
    "        mask = c>0 # mask off infeasible choices\n",
    "        matV1 = np.full((self.ngrid,self.ngrid),-np.inf) # init V with -inf\n",
    "        matV0 = np.repeat(V0.reshape(self.ngrid,1),self.ngrid,1) #current value function repeated in columns\n",
    "        matV1[mask] = np.log(c[mask])+self.beta*matV0[mask] # maximand of the Bellman equation\n",
    "        V1 = np.amax(matV1,axis=0,keepdims=False) # maximum in every column\n",
    "        c1 = self.grid - self.grid[np.argmax(matV1,axis=0)] # consumption (index of maximum in every column)\n",
    "        return V1, c1\n",
    "\n",
    "    def solve(self, maxiter=1000, tol=1e-4, callback=None):\n",
    "        '''Solves the model using VFI (successive approximations)'''\n",
    "        V0=np.log(self.grid) # on first iteration assume consuming everything\n",
    "        for iter in range(maxiter):\n",
    "            V1,c1=self.bellman(V0)\n",
    "            if callback: callback(iter,self.grid,V1,c1) # callback for making plots\n",
    "            if np.all(abs(V1-V0) < tol):\n",
    "                break\n",
    "            V0=V1\n",
    "        else:  # when i went up to maxiter\n",
    "            print('No convergence: maximum number of iterations achieved!')\n",
    "        return V1,c1"
   ]
  },
  {
   "cell_type": "markdown",
   "metadata": {
    "slideshow": {
     "slide_type": "slide"
    }
   },
   "source": [
    "### Comparison to analytic solution\n",
    "\n",
    "In video 30 we derived the analytic solution of the cake eating problem\n",
    "\n",
    "$$\n",
    "c^{\\star}(W) =  \\frac {W} {1 + \\beta B} = \\frac {W} {1 + \\frac{\\beta}{1-\\beta}} = (1-\\beta)W\n",
    "$$\n",
    "\n",
    "$$\n",
    "V(W) = \\frac{\\log(W)}{1-\\beta} + \\frac{\\log(1-\\beta)}{1-\\beta} + \\frac{\\beta \\log(\\beta)}{(1-\\beta)^2}\n",
    "$$"
   ]
  },
  {
   "cell_type": "code",
   "execution_count": null,
   "metadata": {
    "hide-output": false,
    "slideshow": {
     "slide_type": "slide"
    }
   },
   "outputs": [],
   "source": [
    "import matplotlib.pyplot as plt\n",
    "%matplotlib inline\n",
    "\n",
    "def check_analytic(model):\n",
    "    '''Check the cake eating numerical solution against the analytic solution'''\n",
    "    # analytic solution\n",
    "    aV = lambda w: np.log(w)/(1 - model.beta) + np.log(1 - model.beta)/(1 - model.beta) + model.beta* np.log(model.beta)/((1 - model.beta)**2)\n",
    "    aP = lambda w: (1 - model.beta) * w\n",
    "    grid = model.grid  # grid from the model\n",
    "    xg = np.linspace(model.epsilon,model.Wbar,1000)  # dense grid for analytical solution\n",
    "    V,policy = model.solve()  # solve the model\n",
    "    # make plots\n",
    "    fig1, (ax1,ax2) = plt.subplots(1,2,figsize=(14,8))\n",
    "    ax1.grid(b=True, which='both', color='0.65', linestyle='-')\n",
    "    ax2.grid(b=True, which='both', color='0.65', linestyle='-')\n",
    "    ax1.set_title('Value functions')\n",
    "    ax2.set_title('Policy functions')\n",
    "    ax1.set_xlabel('Cake size, W')\n",
    "    ax2.set_xlabel('Cake size, W')\n",
    "    ax1.set_ylabel('Value function')\n",
    "    ax2.set_ylabel('Policy function')\n",
    "    ax1.plot(grid[1:],V[1:],linewidth=1.5,label='Numerical')\n",
    "    ax1.plot(xg,aV(xg),linewidth=1.5,label='Analytical')\n",
    "    ax2.plot(grid,policy,linewidth=1.5,label='Numerical')\n",
    "    ax2.plot(grid,aP(grid),linewidth=1.5,label='Analytical')\n",
    "    ax1.legend()\n",
    "    ax2.legend()\n",
    "    plt.show()"
   ]
  },
  {
   "cell_type": "code",
   "execution_count": null,
   "metadata": {
    "hide-output": false,
    "slideshow": {
     "slide_type": "slide"
    }
   },
   "outputs": [],
   "source": [
    "m1 = cake_ongrid(beta=0.9,Wbar=10,ngrid=50)\n",
    "check_analytic(m1)"
   ]
  },
  {
   "cell_type": "markdown",
   "metadata": {
    "slideshow": {
     "slide_type": "slide"
    }
   },
   "source": [
    "#### Interpolation of the value function\n",
    "\n",
    "Rather than trying to avoid interpolation by rewriting the problem\n",
    "in terms of the next period choice, today we will\n",
    "\n",
    "- discretize the choice variable to avoid solving optimization problem for\n",
    "  each value of wealth  \n",
    "- use interpolation of already computed next period value function  "
   ]
  },
  {
   "cell_type": "markdown",
   "metadata": {
    "slideshow": {
     "slide_type": "slide"
    }
   },
   "source": [
    "### Cake eating with discretized choices\n",
    "\n",
    "*Control for grid over state space separately from the discretization of\n",
    "the choice variables to increase accuracy*\n",
    "\n",
    "- As before solve cake eating Bellman equation by VFI  \n",
    "- Discretize state space with $ \\vec{W}\\in\\{0,\\dots\\overline{W}\\} $  \n",
    "- Discretize decision space with\n",
    "  $ \\vec{D}\\in\\{0,\\dots\\overline{D}\\} $, usually\n",
    "  $ \\overline{D}=\\overline{W} $  \n",
    "\n",
    "\n",
    "$$\n",
    "V_{i}(\\vec{W})=\\max_{c \\in \\vec{D}}\\{u(c)+\\beta V_{i-1}(\\vec{W}-c)\\}\n",
    "$$"
   ]
  },
  {
   "cell_type": "markdown",
   "metadata": {
    "slideshow": {
     "slide_type": "slide"
    }
   },
   "source": [
    "- Compute value/policy function point-by-point on grid $ \\vec{W} $  \n",
    "- Find the maximum over the points of grid $ \\vec{D} $ that satisfy\n",
    "  the choice set condition $ 0 \\le \\vec{D} \\le W $  \n",
    "- In each iteration, the value function $ V_{i}(\\vec{W}) $ is\n",
    "  computed on a set of grid points  \n",
    "- But for iteration $ i+1 $ we need to compute\n",
    "  $ V_{i}(\\vec{W}-c)\\}=V_{i}(\\vec{W}-\\vec{D})\\} $  \n",
    "- **Interpolation of the value function**  "
   ]
  },
  {
   "cell_type": "code",
   "execution_count": null,
   "metadata": {
    "hide-output": false,
    "slideshow": {
     "slide_type": "slide"
    }
   },
   "outputs": [],
   "source": [
    "# CODE DEVELOPED IN THE VIDEO\n",
    "\n",
    "import numpy as np\n",
    "from scipy import interpolate # Interpolation routines\n",
    "\n",
    "class cake_discretized():\n",
    "    '''Class to implement the cake eating model with discretized choice'''\n",
    "\n",
    "    def __init__(self,beta=.9, Wbar=10, ngrid=50, nchgrid=100, optim_ch=True):\n",
    "        '''Initializer'''\n",
    "        self.beta = beta    # Discount factor\n",
    "        self.Wbar = Wbar    # Upper bound on cake size\n",
    "        self.ngrid = ngrid  # Number of grid points\n",
    "        self.nchgrid = nchgrid  # Number of grid points for choice grid\n",
    "        self.epsilon = np.finfo(float).eps # smallest positive float number\n",
    "        self.grid = np.linspace(self.epsilon,Wbar,ngrid) # grid for state space\n",
    "        self.chgrid = np.linspace(self.epsilon,Wbar,nchgrid) # grid for decision space\n",
    "        self.optim_ch = optim_ch\n",
    "\n",
    "    def bellman(self,V0):\n",
    "        '''Bellman operator, V0 is one-dim vector of values on state grid'''\n",
    "        c = self.chgrid[:,np.newaxis]  # column vector\n",
    "        if self.optim_ch:\n",
    "            c = c + np.zeros(self.ngrid)  # matrix of consumption values\n",
    "            c *= self.grid/self.Wbar  # scale choices to ensure c<W\n",
    "        W = self.grid  # one-dim (like row vector)\n",
    "        interp = interpolate.interp1d(self.grid,V0,bounds_error=False,fill_value='extrapolate')\n",
    "        matV1 = np.log(c) + self.beta * interp(W-c)\n",
    "        matV1[c>W] = -np.inf  # infeasible choices\n",
    "        V1 = np.amax(matV1,axis=0,keepdims=False) # maximum in every column\n",
    "        if self.optim_ch:\n",
    "            c1 = c[np.argmax(matV1,axis=0),np.arange(self.ngrid)]\n",
    "        else:\n",
    "            c1 = c[np.argmax(matV1,axis=0)]  # consumption (index of maximum in every column)\n",
    "        return V1, c1\n",
    "\n",
    "    def solve(self, maxiter=1000, tol=1e-4, callback=None):\n",
    "        '''Solves the model using VFI (successive approximations)'''\n",
    "        V0=np.log(self.grid) # on first iteration assume consuming everything\n",
    "        for iter in range(maxiter):\n",
    "            V1,c1=self.bellman(V0)\n",
    "            if callback: callback(iter,self.grid,V1,c1) # callback for making plots\n",
    "            if np.all(abs(V1-V0) < tol):\n",
    "                break\n",
    "            V0=V1\n",
    "        else:  # when i went up to maxiter\n",
    "            print('No convergence: maximum number of iterations achieved!')\n",
    "        return V1,c1"
   ]
  },
  {
   "cell_type": "code",
   "execution_count": null,
   "metadata": {
    "hide-output": false,
    "slideshow": {
     "slide_type": "slide"
    }
   },
   "outputs": [],
   "source": [
    "# CODE DEVELOPED IN THE VIDEO\n",
    "\n",
    "# m1 = cake_ongrid(     beta=0.9,Wbar=10,ngrid=50)\n",
    "m2 = cake_discretized(beta=0.9,Wbar=10,ngrid=100,nchgrid=100,optim_ch=False)\n",
    "m3 = cake_discretized(beta=0.9,Wbar=10,ngrid=100,nchgrid=100,optim_ch=True)\n",
    "# check_analytic(m1)\n",
    "check_analytic(m2)\n",
    "check_analytic(m3)"
   ]
  },
  {
   "cell_type": "code",
   "execution_count": null,
   "metadata": {
    "hide-output": false,
    "slideshow": {
     "slide_type": "slide"
    }
   },
   "outputs": [],
   "source": [
    "# Previously written solution\n",
    "\n",
    "class cake_discretized():\n",
    "\n",
    "    def __init__(self,beta=.9, Wbar=10, ngrid=50, ngrid_choice=100):\n",
    "        self.beta = beta    # Discount factor\n",
    "        self.Wbar = Wbar    # Upper bound on cake size\n",
    "        self.ngrid = ngrid  # Number of grid points for the size of cake\n",
    "        self.ngrid_choice = ngrid_choice  # Number of grid points for how much of cake to consume\n",
    "        self.epsilon = np.finfo(float).eps # smallest positive float number\n",
    "        self.grid = np.linspace(self.epsilon,Wbar,ngrid) # grid for state space\n",
    "        self.grid_choice = np.linspace(self.epsilon,Wbar,ngrid_choice) # grid for decision space\n",
    "\n",
    "    def bellman(self,V0):\n",
    "        #Bellman operator, V0 is one-dim vector of values on grid\n",
    "        matW = np.repeat(np.reshape(self.grid,(1,-1)),self.ngrid_choice,0) # matrix with state space repeated in rows\n",
    "        c = np.repeat(np.reshape(self.grid_choice,(-1,1)),self.ngrid,1) # decisions grid repeated by columns\n",
    "        #c *= np.reshape(self.grid,(1,-1)) /self.Wbar # normalize max choice to current wealth\n",
    "        matWpr = matW-c # size of cake in the next period\n",
    "        matWpr[matWpr==0] = self.epsilon # add small quantity to avoid log(0)\n",
    "        mask = matWpr>0 # mask off infeasible choices\n",
    "        matV1 = np.interp(matWpr,self.grid,V0) # INPERPOLATE values of next period value at next period case sizes\n",
    "        preV1 = np.full((self.ngrid_choice,self.ngrid),-np.inf) # init V with -inf\n",
    "        preV1[mask] = np.log(c[mask]) + self.beta*matV1[mask] # maximand of the Bellman equation\n",
    "        V1 = np.amax(preV1,0,keepdims=False) # maximum in every column\n",
    "        c1 = c[np.argmax(preV1,axis=0),range(self.ngrid)] # choose the max attaining levels of c\n",
    "        return V1, c1\n",
    "\n",
    "    def solve(self, maxiter=1000, tol=1e-4, callback=None):\n",
    "        '''Solves the model using successive approximations'''\n",
    "        V0=np.log(self.grid) # on first iteration assume consuming everything\n",
    "        for iter in range(maxiter):\n",
    "            V1,c1=self.bellman(V0)\n",
    "            if callback: callback(iter,self.grid,V1,c1) # callback for making plots\n",
    "            if np.all(abs(V1-V0) < tol):\n",
    "                break\n",
    "            V0=V1\n",
    "        else:  # when i went up to maxiter\n",
    "            print('No convergence: maximum number of iterations achieved!')\n",
    "        return V1,c1\n",
    "\n",
    "    def solve_plot(self, maxiter=1000, tol=1e-4):\n",
    "        '''Illustrate solution'''\n",
    "        fig1, (ax1,ax2) = plt.subplots(1,2,figsize=(14,8))\n",
    "        ax1.grid(b=True, which='both', color='0.65', linestyle='-')\n",
    "        ax2.grid(b=True, which='both', color='0.65', linestyle='-')\n",
    "        ax1.set_title('Value function convergence with VFI')\n",
    "        ax2.set_title('Policy function convergence with VFI')\n",
    "        ax1.set_xlabel('Cake size, W')\n",
    "        ax2.set_xlabel('Cake size, W')\n",
    "        ax1.set_ylabel('Value function')\n",
    "        ax2.set_ylabel('Policy function')\n",
    "        def callback(iter,grid,v,c):\n",
    "            ax1.plot(grid[1:],v[1:],color='k',alpha=0.25)\n",
    "            ax2.plot(grid,c,color='k',alpha=0.25)\n",
    "        V,c = self.solve(maxiter=maxiter,tol=tol,callback=callback)\n",
    "        # add solutions\n",
    "        ax1.plot(self.grid[1:],V[1:],color='r',linewidth=2.5)\n",
    "        ax2.plot(self.grid,c,color='r',linewidth=2.5)\n",
    "        plt.show()\n",
    "        return V,c\n",
    "\n",
    "m2 = cake_discretized(beta=0.9,Wbar=10,ngrid=50,ngrid_choice=50)\n",
    "V2,c2 = m2.solve_plot() # make convergence plot"
   ]
  },
  {
   "cell_type": "code",
   "execution_count": null,
   "metadata": {
    "hide-output": false,
    "slideshow": {
     "slide_type": "slide"
    }
   },
   "outputs": [],
   "source": [
    "m1 = cake_ongrid(beta=0.9,Wbar=10,ngrid=50)\n",
    "m2 = cake_discretized(beta=0.9,Wbar=10,ngrid=50)\n",
    "check_analytic(m1)\n",
    "check_analytic(m2)"
   ]
  },
  {
   "cell_type": "markdown",
   "metadata": {
    "slideshow": {
     "slide_type": "slide"
    }
   },
   "source": [
    "### How to increase the accuracy?\n",
    "\n",
    "- increase the number of grid points, both in state space and especially in choice space  \n",
    "- optimize the use of the grid points in the choice space by accounting for the constraints of the model  \n",
    "- relocate the state grid points towards the ares of higher curvature of the value function  \n",
    "- use a more sophisticated approximation technique  "
   ]
  },
  {
   "cell_type": "markdown",
   "metadata": {
    "slideshow": {
     "slide_type": "slide"
    }
   },
   "source": [
    "#### Further learning resources\n",
    "\n",
    "- 📖 Adda and Cooper “Dynamic Economics. Quantitative Methods and Applications.” *Chapters: 2*  \n",
    "- QuantEcon DP sectionx [https://lectures.quantecon.org/py/index_dynamic_programming.html](https://lectures.quantecon.org/py/index_dynamic_programming.html)  "
   ]
  }
 ],
 "metadata": {
  "celltoolbar": "Slideshow",
  "date": 1627474986.605818,
  "filename": "32_cake_discretized.rst",
  "kernelspec": {
   "display_name": "Python",
   "language": "python3",
   "name": "python3"
  },
  "title": "Foundations of Computational Economics #32"
 },
 "nbformat": 4,
 "nbformat_minor": 4
}