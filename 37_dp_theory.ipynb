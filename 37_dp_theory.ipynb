{
 "cells": [
  {
   "cell_type": "markdown",
   "metadata": {
    "slideshow": {
     "slide_type": "slide"
    }
   },
   "source": [
    "# Foundations of Computational Economics #37\n",
    "\n",
    "by Fedor Iskhakov, ANU\n",
    "\n",
    "<img src=\"_static/img/dag3logo.png\" style=\"width:256px;\">"
   ]
  },
  {
   "cell_type": "markdown",
   "metadata": {
    "slideshow": {
     "slide_type": "fragment"
    }
   },
   "source": [
    "## Dynamic programming theory and overview of solution methods\n",
    "\n",
    "<img src=\"_static/img/lecture.png\" style=\"width:64px;\">"
   ]
  },
  {
   "cell_type": "markdown",
   "metadata": {
    "slideshow": {
     "slide_type": "subslide"
    }
   },
   "source": [
    "<img src=\"_static/img/youtube.png\" style=\"width:65px;\">\n",
    "\n",
    "[https://youtu.be/7Ta-zq2aXjc](https://youtu.be/7Ta-zq2aXjc)\n",
    "\n",
    "Description: Overview of dynamic programming problem formulations and solution methods. Theoretical foundations of dynamic programming in infinite horizon. Contraction mappings and fixed points."
   ]
  },
  {
   "cell_type": "markdown",
   "metadata": {
    "slideshow": {
     "slide_type": "slide"
    }
   },
   "source": [
    "### Plan\n",
    "\n",
    "1. Classification of dynamic models  \n",
    "1. The list of solution methods and their domains  \n",
    "1. Contraction mappings and fixed points  "
   ]
  },
  {
   "cell_type": "markdown",
   "metadata": {
    "slideshow": {
     "slide_type": "slide"
    }
   },
   "source": [
    "#### General form of Bellman equation\n",
    "\n",
    "$$\n",
    "V(\\text{state}) = \\max_{\\text{decisions}} \\big[ U(\\text{state},\\text{decision}) + \\beta \\mathbb{E}\\big\\{ V(\\text{next state})  \\big| \\text{state},\\text{decision} \\big\\} \\big]\n",
    "$$\n",
    "\n",
    "- $ V(\\text{state}) $ is **value function** = maximum attainable (discounted) expected reward/utility/payoff  \n",
    "- $ U(\\text{state},\\text{decision}) $ is per-period/flow/instantaneous reward/utility/payoff  \n",
    "- (*next state*) is the *stochastic* next period state resulting from current state and decision  \n",
    "- expectation $ \\mathbb{E}\\{\\cdot\\} $ is taken over the distribution of the next period state conditional on current state and decision  \n",
    "- $ \\beta $ is a discount factor to measure future rewards in terms of current ones  \n",
    "\n",
    "\n",
    "The optimal choices are revealed along the solution of the Bellman equation as decisions which solve the maximization problem in the right hand side!"
   ]
  },
  {
   "cell_type": "markdown",
   "metadata": {
    "slideshow": {
     "slide_type": "slide"
    }
   },
   "source": [
    "### Variety of problems: existence of choice\n",
    "\n",
    "Problems with no optimal choice (solved by dynamic programming)\n",
    "\n",
    "- tiling problems (video 27)  \n",
    "- in computer science rather than economics  \n",
    "\n",
    "\n",
    "Dynamic (or sequential) discrete/discretized choice\n",
    "\n",
    "- deal or no deal problem (video 27)  \n",
    "- inventory management model (video 27)  \n",
    "- Rust model of bus engine replacement (video 28, 29)  \n",
    "- cake eating problem (video 30, 32)  \n",
    "- consumption-savings problem (video 35)  "
   ]
  },
  {
   "cell_type": "markdown",
   "metadata": {
    "slideshow": {
     "slide_type": "slide"
    }
   },
   "source": [
    "### Variety of problems: nature of choice\n",
    "\n",
    "Problems with discrete choice\n",
    "\n",
    "- deal or no deal problem, inventory management model (video 27)  \n",
    "- Rust model of bus engine replacement (video 28, 29)  \n",
    "\n",
    "\n",
    "Problems with continuous choice\n",
    "\n",
    "- discretized: cake eating problem (video 30), consumption-savings models (video 35)  \n",
    "- treated as continuous: coming up next  \n",
    "- require interpolating of value function in Bellman equation  \n",
    "\n",
    "\n",
    "Problems with discrete and continuous choice\n",
    "\n",
    "- much more complicated: kinks in value functions, discontinuous policy function  \n",
    "- problems go away if choices are discretized  "
   ]
  },
  {
   "cell_type": "markdown",
   "metadata": {
    "slideshow": {
     "slide_type": "slide"
    }
   },
   "source": [
    "### What about state space?\n",
    "\n",
    "- When choice is discrete, typically state space is also finite  \n",
    "- Even when state variables are continuous, by discretization it is *converted* to discrete  \n",
    "\n",
    "\n",
    "This is true in general when using numerical solvers: state space is discretized within some reasonable bounds\n",
    "\n",
    "- choice of upper bounds, number and placement of grid points influence the (accuracy of the) solution  \n",
    "\n",
    "\n",
    "Another approach is to approximate the value function, for example, using orthogonal polynomials\n",
    "\n",
    "- only works well when value function is sufficiently smooth  "
   ]
  },
  {
   "cell_type": "markdown",
   "metadata": {
    "slideshow": {
     "slide_type": "slide"
    }
   },
   "source": [
    "### Variety of problems: continuity of time\n",
    "\n",
    "Discrete time\n",
    "\n",
    "- time periods $ t $, $ t+1 $  \n",
    "- dynamics given by difference equations  \n",
    "\n",
    "\n",
    "Continuous time\n",
    "\n",
    "- all entities in the model are functions of time  \n",
    "- dynamics given by differential equation  \n",
    "- so, math is very different  \n",
    "- continuous time for cleaner theoretical models, sometimes also solved numerically  \n",
    "- *not part of this course*  "
   ]
  },
  {
   "cell_type": "markdown",
   "metadata": {
    "slideshow": {
     "slide_type": "slide"
    }
   },
   "source": [
    "### Variety of problems: horizon\n",
    "\n",
    "Finite horizon\n",
    "\n",
    "- there is terminal period $ T $  \n",
    "- special form of Bellman equation in period $ T $  \n",
    "- value function and policy function are time dependent  \n",
    "- solved by backwards induction with $ T $ number of steps  \n",
    "\n",
    "\n",
    "Infinite horizon\n",
    "\n",
    "- time subscripts are dropped, primes for next period values instead  \n",
    "- solution is given by fixed point of the Bellman operator  \n",
    "- have to actually solve a functional equation  \n",
    "\n",
    "\n",
    "*Most problems can be specified in finite or infinite horizon*"
   ]
  },
  {
   "cell_type": "markdown",
   "metadata": {
    "slideshow": {
     "slide_type": "slide"
    }
   },
   "source": [
    "### Variety of problems: stochasticity\n",
    "\n",
    "Deterministic models\n",
    "\n",
    "- No random elements, all motion rules deterministic  \n",
    "- No need for expectation operator in Bellman equation  \n",
    "\n",
    "\n",
    "Stochastic models with idiosyncratic shocks (Rust model, stochastic inventory dynamics)\n",
    "\n",
    "- expectation does not have to be conditioned on current period shocks  \n",
    "- solving the fixed point in expected value function space is beneficial  \n",
    "\n",
    "\n",
    "General form stochastic models\n",
    "\n",
    "- expectation in Bellman equation has to be computed with quadrature or Monte Carlo integration  "
   ]
  },
  {
   "cell_type": "markdown",
   "metadata": {
    "slideshow": {
     "slide_type": "slide"
    }
   },
   "source": [
    "#### Classification of dynamic models\n",
    "\n",
    "- Discrete or continuous time?  \n",
    "- Finite or infinite horizon?  \n",
    "- Choice space (discrete, continuous, mixed)?  \n",
    "- State space (finite, discretized)?  \n",
    "- Stochastic or deterministic evolution of states?  "
   ]
  },
  {
   "cell_type": "markdown",
   "metadata": {
    "slideshow": {
     "slide_type": "slide"
    }
   },
   "source": [
    "#### Solving (discrete time) dynamic models\n",
    "\n",
    "Various types of dynamic models require different implementations and admit various solution methods:\n",
    "\n",
    "- Choice space (discrete, continuous, mixed)?  \n",
    "- State space (finite, discretized)?  \n",
    "- Stochastic or deterministic evolution of states?  \n",
    "\n",
    "\n",
    "$ \\Rightarrow $ influence how Bellman operator is formulated and implemented numerically\n",
    "\n",
    "- Choice space (discrete, continuous, mixed)?  \n",
    "- Finite or infinite horizon?  \n",
    "\n",
    "\n",
    "$ \\Rightarrow $ decides which overall solution method can be applied"
   ]
  },
  {
   "cell_type": "markdown",
   "metadata": {
    "slideshow": {
     "slide_type": "slide"
    }
   },
   "source": [
    "### Solving finite horizon dynamic models\n",
    "\n",
    "1. Standard backwards induction: solving Bellman equation sequentially (video 27)  \n",
    "1. Backwards induction using F.O.C. of Bellman maximization problem (for problems with continuous choice)  \n",
    "1. Finite horizon version of endogenous gridpoint method (for a particular class of problems)  "
   ]
  },
  {
   "cell_type": "markdown",
   "metadata": {
    "slideshow": {
     "slide_type": "slide"
    }
   },
   "source": [
    "### Solving infinite horizon dynamic models\n",
    "\n",
    "1. Value function iterations (successive approximations to solve for the fixed point of Bellman operator) (video 28-35)  \n",
    "1. Time iterations (successive approximations to solve for the fixed point of Coleman-Reffett operator in policy function space)  \n",
    "1. Policy iteration method (Howard’s policy improvement algorithm, iterative solution for the fixed point of Bellman operator)  \n",
    "1. Newton-Kantorovich method (Newton solver for the fixed point of Bellman operator)  \n",
    "1. Endogenous gridpoint method (for a particular class of problems)  "
   ]
  },
  {
   "cell_type": "markdown",
   "metadata": {
    "slideshow": {
     "slide_type": "slide"
    }
   },
   "source": [
    "#### Convergence of infinite horizon solution methods\n",
    "\n",
    "- In infinite horizon all solution methods continue until convergence.  \n",
    "- How can we be sure that the algorithm would terminate?  \n",
    "\n",
    "\n",
    "The answer is given by the theory of contraction mappings:\n",
    "\n",
    "- Bellman operator is generally a contraction mapping  \n",
    "- Banach theorem guarantees uniqueness of the fixed point, and  \n",
    "- successive approximation solver is globally convergent (works with any starting point)  "
   ]
  },
  {
   "cell_type": "markdown",
   "metadata": {
    "slideshow": {
     "slide_type": "slide"
    }
   },
   "source": [
    "### Definition of contraction mapping\n",
    "\n",
    "Let\n",
    "- $ (S,\\rho) $ be a complete metric space\n",
    "- $ T: S \\rightarrow S $ denote an operator mapping $ S $ to itself\n",
    "\n",
    "$ T $ is called a *contraction* on $ S $ with modulus $ \\lambda $ if $ 0 \\le \\lambda < 1 $ and\n",
    "\n",
    "$$\n",
    "\\rho(Tx,Ty) \\le \\lambda \\rho(x,y) \\; \\forall x,y \\in S\n",
    "$$\n",
    "\n",
    "*Contraction mapping brings points in its domain “closer” to each other!*"
   ]
  },
  {
   "cell_type": "markdown",
   "metadata": {
    "slideshow": {
     "slide_type": "slide"
    }
   },
   "source": [
    "### Simple example of contraction mapping\n",
    "\n",
    "$$\n",
    "\\stackrel{\\nearrow}{V} \\quad\n",
    "\\stackrel{\\searrow}{c} \\quad\n",
    "\\stackrel{\\searrow}{c} \\quad\n",
    "\\stackrel{\\searrow}{c} \\quad\n",
    "\\dots\n",
    "$$\n",
    "\n",
    "- interest rate $ r $  \n",
    "- What is the value of the annuity $ V $?  "
   ]
  },
  {
   "cell_type": "markdown",
   "metadata": {
    "slideshow": {
     "slide_type": "slide"
    }
   },
   "source": [
    "### Value of annuity\n",
    "\n",
    "$$\n",
    "\\stackrel{\\nearrow}{V} \\quad\n",
    "\\stackrel{\\searrow}{c} \\quad\n",
    "\\stackrel{\\searrow}{c} \\quad\n",
    "\\stackrel{\\searrow}{c} \\quad\n",
    "\\dots\n",
    "$$\n",
    "\n",
    "$$\n",
    "V=\\quad\n",
    "\\frac{c}{(1+r)^0} + \\quad\n",
    "\\frac{c}{(1+r)^1} + \\quad\n",
    "\\frac{c}{(1+r)^2} + \\quad\n",
    "\\frac{c}{(1+r)^3} + \\quad\n",
    "\\dots\n",
    "$$\n",
    "\n",
    "$$\n",
    "\\beta = \\frac{1}{1+r}\n",
    "$$\n",
    "\n",
    "$$\n",
    "V=\\quad\n",
    "c + \\quad\n",
    "c \\beta + \\quad\n",
    "c \\beta^2 + \\quad\n",
    "c \\beta^3 + \\quad\n",
    "\\dots\n",
    "=\n",
    "\\sum_{t=0}^{\\infty} \\beta^t c\n",
    "$$"
   ]
  },
  {
   "cell_type": "markdown",
   "metadata": {
    "slideshow": {
     "slide_type": "slide"
    }
   },
   "source": [
    "### Answer by the geometric series formula\n",
    "\n",
    "Assuming $ \\beta<1 $\n",
    "\n",
    "$$\n",
    "V = \\sum_{t=0}^{\\infty} \\beta^t c = \\frac{c}{1-\\beta}\n",
    "$$\n",
    "\n",
    "Can reformulate recursively (as “Bellman equation” without choice)\n",
    "\n",
    "$$\n",
    "V = c + \\beta ( c + \\beta c + \\beta^2 c + \\dots ) = c + \\beta V\n",
    "$$"
   ]
  },
  {
   "cell_type": "markdown",
   "metadata": {
    "slideshow": {
     "slide_type": "slide"
    }
   },
   "source": [
    "### Contraction!\n",
    "\n",
    "$$\n",
    "T(V) = c + \\beta V\n",
    "$$\n",
    "\n",
    "$$\n",
    "|T(V_1) - T(V_2)| = |(c + \\beta V_1) - (c + \\beta V_2)| = \\beta | V_1 -  V_2 |\n",
    "$$\n",
    "\n",
    "- contraction mapping under Euclidean norm  \n",
    "- modulus $ \\beta $  "
   ]
  },
  {
   "cell_type": "markdown",
   "metadata": {
    "slideshow": {
     "slide_type": "slide"
    }
   },
   "source": [
    "### Successive approximations\n",
    "\n",
    "1. Start with a guess $ V_0 $  \n",
    "1. Insert into the “Bellman equation”  \n",
    "\n",
    "\n",
    "$$\n",
    "V_{i+1} = c + \\beta V_i\n",
    "$$\n",
    "\n",
    "1. Repeat until convergence  \n",
    "\n",
    "\n",
    "$$\n",
    "||V_{i}-V_{i-1}|| \\le \\varepsilon \\text{ (small number)}\n",
    "$$"
   ]
  },
  {
   "cell_type": "code",
   "execution_count": null,
   "metadata": {
    "hide-output": false,
    "slideshow": {
     "slide_type": "slide"
    }
   },
   "outputs": [],
   "source": [
    "import numpy as np\n",
    "import matplotlib.pyplot as plt\n",
    "%matplotlib inline\n",
    "\n",
    "class annuity():\n",
    "\n",
    "    def __init__(self,c=1,beta=.9):\n",
    "        self.c = c           # Annual payment\n",
    "        self.beta = beta     # Discount factor\n",
    "        self.analytic = c/(1-beta)  # compute analytic solution right away\n",
    "\n",
    "    def bellman(self,V):\n",
    "        '''Bellman equation'''\n",
    "        return self.c + self.beta*V\n",
    "\n",
    "    def solve(self, maxiter = 1000, tol=1e-4, verbose=False):\n",
    "        '''Solves the model using successive approximations'''\n",
    "        if verbose: print('{:<4} {:>15} {:>15}'.format('Iter','Value','Error'))\n",
    "        V0=0\n",
    "        for i in range(maxiter):\n",
    "            V1=self.bellman(V0)\n",
    "            if verbose: print('{:<4d} {:>15.8f} {:>15.8f}'.format(i,V1,V1-self.analytic))\n",
    "            if abs(V1-V0) < tol:\n",
    "                break\n",
    "            V0=V1\n",
    "        else:  # when i went up to maxiter\n",
    "            print('No convergence: maximum number of iterations achieved!')\n",
    "        return V1"
   ]
  },
  {
   "cell_type": "code",
   "execution_count": null,
   "metadata": {
    "hide-output": false,
    "slideshow": {
     "slide_type": "slide"
    }
   },
   "outputs": [],
   "source": [
    "a = annuity(c=10,beta=0.954)\n",
    "print('Analytic solution is',a.analytic)\n",
    "print('Numeric solution is ',a.solve())"
   ]
  },
  {
   "cell_type": "code",
   "execution_count": null,
   "metadata": {
    "hide-output": false,
    "slideshow": {
     "slide_type": "slide"
    }
   },
   "outputs": [],
   "source": [
    "a.solve(verbose=True)"
   ]
  },
  {
   "cell_type": "markdown",
   "metadata": {
    "slideshow": {
     "slide_type": "slide"
    }
   },
   "source": [
    "### Banach contraction mapping theorem (fixed point theorem)\n",
    "\n",
    "Let $ (S,\\rho) $ be a complete metric space with a contraction mapping $ T: S \\rightarrow S $.\n",
    "Then\n",
    "\n",
    "1. $ T $ admits a unique fixed-point $ V^{\\star} \\in S $, i.e. $ T(V^{\\star}) = V^{\\star} $.  \n",
    "1. $ V^{\\star} $ can be found by repeated application of the operator $ T $, i.e. $ T^n(V) \\rightarrow V^{\\star} $ as $ n\\rightarrow \\infty $.  \n",
    "\n",
    "\n",
    "*In other words, the fixed point can be found by successive approximations from any starting point* $ \\rightarrow $ *VFI method follows*"
   ]
  },
  {
   "cell_type": "markdown",
   "metadata": {
    "slideshow": {
     "slide_type": "slide"
    }
   },
   "source": [
    "### What about Bellman operator?\n",
    "\n",
    "$$\n",
    "T(V)(\\text{state}) = \\max_{\\text{decisions}} \\big[ U(\\text{state},\\text{decision}) + \\beta \\mathbb{E}\\big\\{ V(\\text{next state})  \\big| \\text{state},\\text{decision} \\big\\} \\big]\n",
    "$$\n",
    "\n",
    "- Bellman operator $ T: U \\rightarrow U $ from functional space $ U $ to itself  \n",
    "- metric space $ (U,d_{\\infty}) $ with uniform/infinity/sup norm (max abs distance between functions over their domain)  "
   ]
  },
  {
   "cell_type": "markdown",
   "metadata": {
    "slideshow": {
     "slide_type": "slide"
    }
   },
   "source": [
    "### Blackwell sufficient conditions for contraction\n",
    "\n",
    "Let $ X \\subseteq \\mathbb{R}^n $ and $ B(x) $ be the space of bounded functions $ f: X \\rightarrow \\mathbb{R} $ defined on $ X $.\n",
    "Suppose that $ T: B(X) \\rightarrow B(X) $ is an operator satisfying the following conditions:\n",
    "\n",
    "1. (monotonicity) For any $ f,g \\in B(X) $ and $ f(x) \\le g(x) $ for all $ x\\in X $ implies $ T(f)(x) \\le T(g)(x) $ for all $ x\\in X $,  \n",
    "1. (discounting) There exists $ \\beta \\in (0,1) $ such that  \n",
    "\n",
    "\n",
    "$$\n",
    "T(f+a)(x) \\le T(f)(x) + \\beta a, \\text{ for all } f\\in B(X), a \\ge 0, x\\in X,\n",
    "$$\n",
    "\n",
    "Then $ T $ is a contraction mapping with modulus $ \\beta $."
   ]
  },
  {
   "cell_type": "markdown",
   "metadata": {
    "slideshow": {
     "slide_type": "slide"
    }
   },
   "source": [
    "### Bellman operator is contraction mapping by Blackwell condition\n",
    "\n",
    "- Monotonicity of Bellman equation follows trivially due to maximization in $ T(V)(x) $  \n",
    "- Discounting: satisfied by elementary argument when $ \\beta<1 $  \n",
    "\n",
    "\n",
    "Under additional boundedness conditions, **Bellman operator is a contraction mapping** by Blackwell sufficient conditions\n",
    "\n",
    "$ \\Rightarrow $\n",
    "\n",
    "- unique solution  \n",
    "- VFI algorithm is globally convergent  \n",
    "- does not depend on the numerical implementation of the Bellman operator  "
   ]
  },
  {
   "cell_type": "markdown",
   "metadata": {
    "slideshow": {
     "slide_type": "slide"
    }
   },
   "source": [
    "### Examples of other contraction mappings\n",
    "\n",
    "- All successive approximation examples (video 22)  \n",
    "- Markov chain stationary distributions  \n",
    "- Platform market equilibrium model  \n",
    "- Bellman operators in all infinite horizon models we have considered  "
   ]
  },
  {
   "cell_type": "markdown",
   "metadata": {
    "slideshow": {
     "slide_type": "slide"
    }
   },
   "source": [
    "### Why do we need other solution algorithms?\n",
    "\n",
    "Although VFI is guaranteed to find the solution, it may be very inefficient when modulus of contraction (discount factor $ \\beta $) is close to one.\n",
    "\n",
    "- Time iterations algorithm (sequentially solving F.O.C.) have the same linear convergence  \n",
    "- Newton-based method converge quadratically, but are not globally convergent, have to be initialized at their domain of attraction  \n",
    "\n",
    "\n",
    "Polyalgorithm would be a good idea!"
   ]
  },
  {
   "cell_type": "markdown",
   "metadata": {
    "slideshow": {
     "slide_type": "slide"
    }
   },
   "source": [
    "#### Further learning resources\n",
    "\n",
    "- Banach spaces crash course [https://www.youtube.com/watch?v=yDdxFBcvSGw&list=PLBh2i93oe2qsGKDOsuVVw-OCAfprrnGfr&ab_channel=TheBrightSideOfMathematics](https://www.youtube.com/watch?v=yDdxFBcvSGw&list=PLBh2i93oe2qsGKDOsuVVw-OCAfprrnGfr&ab_channel=TheBrightSideOfMathematics)  \n",
    "- Fixed points around us [https://www.youtube.com/watch?v=csInNn6pfT4&ab_channel=Vsauce](https://www.youtube.com/watch?v=csInNn6pfT4&ab_channel=Vsauce)  "
   ]
  }
 ],
 "metadata": {
  "celltoolbar": "Slideshow",
  "date": 1627474986.8079731,
  "filename": "37_dp_theory.rst",
  "kernelspec": {
   "display_name": "Python",
   "language": "python3",
   "name": "python3"
  },
  "title": "Foundations of Computational Economics #37"
 },
 "nbformat": 4,
 "nbformat_minor": 4
}