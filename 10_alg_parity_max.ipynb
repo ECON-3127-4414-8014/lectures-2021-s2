{
 "cells": [
  {
   "cell_type": "markdown",
   "metadata": {
    "slideshow": {
     "slide_type": "slide"
    }
   },
   "source": [
    "# Foundations of Computational Economics #10\n",
    "\n",
    "by Fedor Iskhakov, ANU\n",
    "\n",
    "<img src=\"_static/img/dag3logo.png\" style=\"width:256px;\">"
   ]
  },
  {
   "cell_type": "markdown",
   "metadata": {
    "slideshow": {
     "slide_type": "fragment"
    }
   },
   "source": [
    "## Two simple algorithms: parity and max\n",
    "\n",
    "<img src=\"_static/img/lab.png\" style=\"width:64px;\">"
   ]
  },
  {
   "cell_type": "markdown",
   "metadata": {
    "slideshow": {
     "slide_type": "subslide"
    }
   },
   "source": [
    "<img src=\"_static/img/youtube.png\" style=\"width:65px;\">\n",
    "\n",
    "[https://youtu.be/fKFZZc77if0](https://youtu.be/fKFZZc77if0)\n",
    "\n",
    "Description: Parity of a number, bitwise operations in Python. Finding maximum in an array."
   ]
  },
  {
   "cell_type": "markdown",
   "metadata": {
    "slideshow": {
     "slide_type": "slide"
    }
   },
   "source": [
    "### Divisibility by number base\n",
    "\n",
    "Whether a decimal number is divisible by 10 can be easily seen from its last digit.\n",
    "\n",
    "Similarly, whether a binary number is divisible by 2 can be easily seen from its last digit.\n",
    "\n",
    "**If last digit of a number is 0, it is divisible by its base!**"
   ]
  },
  {
   "cell_type": "markdown",
   "metadata": {
    "slideshow": {
     "slide_type": "slide"
    }
   },
   "source": [
    "#### Parity of a number algorithm\n",
    "\n",
    "1. Convert the number to binary  \n",
    "1. Check if last digit is zero  \n",
    "\n",
    "\n",
    "- All integers already have a clear binary representation  \n",
    "\n",
    "\n",
    "*This algorithm only applies to integers*"
   ]
  },
  {
   "cell_type": "markdown",
   "metadata": {
    "slideshow": {
     "slide_type": "slide"
    }
   },
   "source": [
    "### Bitwise operations in Python\n",
    "\n",
    "- bitwise AND **&**  \n",
    "- bitwise OR **|**  \n",
    "- bitwise XOR **^**  \n",
    "- bitwise NOT **~** (including sign bit!)  \n",
    "- right shift **>>**  \n",
    "- left shift **<<** (without overflow!)  "
   ]
  },
  {
   "cell_type": "markdown",
   "metadata": {
    "slideshow": {
     "slide_type": "slide"
    }
   },
   "source": [
    "#### Bitwise AND, OR and XOR\n",
    "\n",
    "<img src=\"_static/img/bitwise.png\" style=\"width:600px;\">"
   ]
  },
  {
   "cell_type": "code",
   "execution_count": null,
   "metadata": {
    "hide-output": false,
    "slideshow": {
     "slide_type": "slide"
    }
   },
   "outputs": [],
   "source": [
    "# bitwise logic\n",
    "a,b = 3,5  # 3=0011, 5=0101\n",
    "print('  a = {0:d} ({0:04b})\\n  b = {1:d} ({1:04b})'.format(a,b))\n",
    "print('a&b = {0:d} ({0:04b})'.format(a&b))\n",
    "# print('a|b = {0:d} ({0:04b})'.format(a|b))\n",
    "# print('a^b = {0:d} ({0:04b})'.format(a^b))"
   ]
  },
  {
   "cell_type": "markdown",
   "metadata": {
    "slideshow": {
     "slide_type": "slide"
    }
   },
   "source": [
    "#### Bit shifts in Python\n",
    "\n",
    "<img src=\"_static/img/bitshift.png\" style=\"width:600px;\">"
   ]
  },
  {
   "cell_type": "markdown",
   "metadata": {
    "slideshow": {
     "slide_type": "slide"
    }
   },
   "source": [
    "#### Replacing arithmetic operations with bit operations\n",
    "\n",
    "Is it possible?\n",
    "Which operations can be done in this *geeky* way?"
   ]
  },
  {
   "cell_type": "code",
   "execution_count": null,
   "metadata": {
    "hide-output": false,
    "slideshow": {
     "slide_type": "slide"
    }
   },
   "outputs": [],
   "source": [
    "# bit shifts\n",
    "a = 0b11100011\n",
    "b = a >> 1\n",
    "print('  a = {0:4d} ({0:016b})\\n  b = {1:4d} ({1:016b})\\n'.format(a,b))\n",
    "b = a << 2\n",
    "print('  a = {0:4d} ({0:016b})\\n  b = {1:4d} ({1:016b})\\n'.format(a,b))"
   ]
  },
  {
   "cell_type": "code",
   "execution_count": null,
   "metadata": {
    "hide-output": false,
    "slideshow": {
     "slide_type": "slide"
    }
   },
   "outputs": [],
   "source": [
    "# arythmetic operations with bit shifts\n",
    "a = 0b11100011\n",
    "print('  a = {0:4d} ({0:016b})'.format(a))\n",
    "\n",
    "for i in range(1,10):\n",
    "    x = 2**i\n",
    "    d = a//x\n",
    "    s = a>>i\n",
    "    print('a//%d = %d, a>>%d = %d' % (x,d,i,s))"
   ]
  },
  {
   "cell_type": "markdown",
   "metadata": {
    "slideshow": {
     "slide_type": "slide"
    }
   },
   "source": [
    "### Parity algorithm\n",
    "\n",
    "Run a single bitwise AND operation to\n",
    "compare against **0b0000001** which is simply 1 in decimal\n",
    "\n",
    "Complexity is constant because only one bit must be checked!\n",
    "\n",
    "*However, when running AND are all bits checked?*"
   ]
  },
  {
   "cell_type": "code",
   "execution_count": null,
   "metadata": {
    "hide-output": false,
    "slideshow": {
     "slide_type": "slide"
    }
   },
   "outputs": [],
   "source": [
    "# parity check\n",
    "def parity (n,verbose=False):\n",
    "    '''Returns 1 if passed integer number is odd\n",
    "    '''\n",
    "    pass"
   ]
  },
  {
   "cell_type": "code",
   "execution_count": null,
   "metadata": {
    "hide-output": false,
    "slideshow": {
     "slide_type": "slide"
    }
   },
   "outputs": [],
   "source": [
    "# check parity of various numbers\n",
    "for n in [2,4,7,32,543,671,780]:\n",
    "    print('n = {0:5d} ({0:08b}), parity={1:d}'.format(n,parity(n)))"
   ]
  },
  {
   "cell_type": "code",
   "execution_count": null,
   "metadata": {
    "hide-output": false,
    "slideshow": {
     "slide_type": "slide"
    }
   },
   "outputs": [],
   "source": [
    "def parity (n,verbose=False):\n",
    "    '''Returns 1 if passed integer number is odd\n",
    "    '''\n",
    "    if not isinstance(n, int): raise TypeError('Only integers in parity()')\n",
    "    if verbose: print('n = {:08b}'.format(n))  # print binary form of the number\n",
    "    return n & 1  # bitwise and operation returns the value of last bit"
   ]
  },
  {
   "cell_type": "markdown",
   "metadata": {
    "slideshow": {
     "slide_type": "slide"
    }
   },
   "source": [
    "### Finding max/min in a list\n",
    "\n",
    "- In the worst case, there is no way to avoid checking *all elements*  \n",
    "- Complexity is linear in the number of elements on the list  "
   ]
  },
  {
   "cell_type": "code",
   "execution_count": null,
   "metadata": {
    "hide-output": false,
    "slideshow": {
     "slide_type": "slide"
    }
   },
   "outputs": [],
   "source": [
    "def maximum_from_list (vars):\n",
    "    '''Returns the maximum from a list of values\n",
    "    '''\n",
    "    pass"
   ]
  },
  {
   "cell_type": "code",
   "execution_count": null,
   "metadata": {
    "hide-output": false,
    "slideshow": {
     "slide_type": "slide"
    }
   },
   "outputs": [],
   "source": [
    "# find maximum in some random lists\n",
    "import numpy as np\n",
    "for i in range(5):\n",
    "    list = np.random.uniform(low=0.0, high=100.0, size=10)\n",
    "    m = maximum_from_list(list)\n",
    "    print('Maximum in {} is {:.2f}'.format(list,m))"
   ]
  },
  {
   "cell_type": "code",
   "execution_count": null,
   "metadata": {
    "hide-output": false,
    "slideshow": {
     "slide_type": "slide"
    }
   },
   "outputs": [],
   "source": [
    "def maximum_from_list (vars):\n",
    "    '''Returns the maximum from a list of values\n",
    "    '''\n",
    "    m=float('-inf')  # init with the worst value\n",
    "    for v in vars:\n",
    "        if v > m: m = v\n",
    "    return m"
   ]
  },
  {
   "cell_type": "markdown",
   "metadata": {
    "slideshow": {
     "slide_type": "slide"
    }
   },
   "source": [
    "### Further learning resources\n",
    "\n",
    "- Formatting strings\n",
    "  [https://www.digitalocean.com/community/tutorials/how-to-use-string-formatters-in-python-3](https://www.digitalocean.com/community/tutorials/how-to-use-string-formatters-in-python-3)  \n",
    "- Bitwise operations post on Geeksforgeeks\n",
    "  [https://www.geeksforgeeks.org/python-bitwise-operators/](https://www.geeksforgeeks.org/python-bitwise-operators/)  "
   ]
  }
 ],
 "metadata": {
  "celltoolbar": "Slideshow",
  "date": 1627474985.862944,
  "filename": "10_alg_parity_max.rst",
  "kernelspec": {
   "display_name": "Python",
   "language": "python3",
   "name": "python3"
  },
  "title": "Foundations of Computational Economics #10"
 },
 "nbformat": 4,
 "nbformat_minor": 4
}