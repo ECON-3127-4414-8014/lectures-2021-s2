{
 "cells": [
  {
   "cell_type": "markdown",
   "metadata": {
    "slideshow": {
     "slide_type": "slide"
    }
   },
   "source": [
    "# Foundations of Computational Economics #22\n",
    "\n",
    "by Fedor Iskhakov, ANU\n",
    "\n",
    "<img src=\"_static/img/dag3logo.png\" style=\"width:256px;\">"
   ]
  },
  {
   "cell_type": "markdown",
   "metadata": {
    "slideshow": {
     "slide_type": "fragment"
    }
   },
   "source": [
    "## Successive approximations (fixed point iterations)\n",
    "\n",
    "<img src=\"_static/img/lecture.png\" style=\"width:64px;\">"
   ]
  },
  {
   "cell_type": "markdown",
   "metadata": {
    "slideshow": {
     "slide_type": "subslide"
    }
   },
   "source": [
    "<img src=\"_static/img/youtube.png\" style=\"width:65px;\">\n",
    "\n",
    "[https://youtu.be/AQt9Q9qc3io](https://youtu.be/AQt9Q9qc3io)\n",
    "\n",
    "Description: Scalar and multivariate solver. Equilibrium in market of platforms."
   ]
  },
  {
   "cell_type": "markdown",
   "metadata": {
    "slideshow": {
     "slide_type": "slide"
    }
   },
   "source": [
    "### What is successive approximations?\n",
    "\n",
    "- root finding method for the equations of the type  \n",
    "\n",
    "\n",
    "$$\n",
    "x = F(x) \\quad \\Leftrightarrow \\quad F(x) - x = 0\n",
    "$$\n",
    "\n",
    "- **fixed point equation**  \n",
    "- conversion is always possible (although does not guaranteed to work as we’ll see below)  \n",
    "\n",
    "\n",
    "$$\n",
    "g(x) = 0 \\quad \\Leftrightarrow \\quad \\underbrace{g(x) + x}_{F(x)} = x\n",
    "$$"
   ]
  },
  {
   "cell_type": "markdown",
   "metadata": {
    "slideshow": {
     "slide_type": "slide"
    }
   },
   "source": [
    "#### Main algorithm\n",
    "\n",
    "$$\n",
    "x = F(x) \\rightarrow x_{n+1} = F(x_n)\n",
    "$$\n",
    "\n",
    "1. Initialize the iterations at $ x_0 $  \n",
    "1. Iterate on $ x_{i+1} = F(x_i) $ until $ x_{i+1} $ is close enough to $ x_i $  "
   ]
  },
  {
   "cell_type": "markdown",
   "metadata": {
    "slideshow": {
     "slide_type": "slide"
    }
   },
   "source": [
    "#### Stationary distribution of Markov chains\n",
    "\n",
    "For aperiodic and irreducible Markov chain with transition probability matrix $ P $, the stationary distribution\n",
    "is given by $ \\psi^\\star = \\psi^\\star P $\n",
    "\n",
    "Successive approximation applicable with $ F(\\psi) = \\psi P $\n",
    "\n",
    "Have seen this is last two videos"
   ]
  },
  {
   "cell_type": "markdown",
   "metadata": {
    "slideshow": {
     "slide_type": "slide"
    }
   },
   "source": [
    "#### Will it converge?\n",
    "\n",
    "*The central question for the successive approximations method*\n",
    "\n",
    "- it will from any starting point for aperiodic and irreducible Markov chains  \n",
    "- but what are the general conditions?  \n",
    "\n",
    "\n",
    "Will come back to this question in general terms when talking about the dynamic models and Bellman operator\n",
    "(which is a *contraction mapping*)"
   ]
  },
  {
   "cell_type": "markdown",
   "metadata": {
    "slideshow": {
     "slide_type": "slide"
    }
   },
   "source": [
    "#### Scalar example\n",
    "\n",
    "$$\n",
    "\\frac{1}{2} - \\exp\\big(-(x-2)^2\\big) = 0\n",
    "$$\n",
    "\n",
    "Using the trick above convert to $ x = F(x) $\n",
    "\n",
    "$$\n",
    "F(x) = x - \\exp\\big(-(x-2)^2\\big) + \\frac{1}{2}\n",
    "$$\n",
    "\n",
    "$$\n",
    "x_{i+1} = x_i - \\exp\\big(-(x_i-2)^2\\big) + \\frac{1}{2}\n",
    "$$"
   ]
  },
  {
   "cell_type": "code",
   "execution_count": null,
   "metadata": {
    "hide-output": false,
    "slideshow": {
     "slide_type": "slide"
    }
   },
   "outputs": [],
   "source": [
    "import numpy as np\n",
    "eq = lambda x:  - np.exp(-(x-2)**2) + .5  # initial equation\n",
    "F = lambda x: x - np.exp(-(x-2)**2) + .5  # fixed point equation\n",
    "dF = lambda x: 1 + np.exp(-(x-2)**2)*2*(x-2)  # derivative (for later)"
   ]
  },
  {
   "cell_type": "code",
   "execution_count": null,
   "metadata": {
    "hide-output": false,
    "slideshow": {
     "slide_type": "slide"
    }
   },
   "outputs": [],
   "source": [
    "def solve_sa(F,x0,tol=1e-6,maxiter=100,callback=None):\n",
    "    '''Computes the solution of fixed point equation x = F(x)\n",
    "    with given initial value x0 and algorithm parameters\n",
    "    Method: successive approximations\n",
    "    '''\n",
    "    for i in range(maxiter):  # main loop\n",
    "        x1 = F(x0)  # update approximation\n",
    "        err = np.amax(np.abs(x0-x1))  # allow for x to be array\n",
    "        if callback != None: callback(iter=i,err=err,x=x1,x0=x0)\n",
    "        if err<tol:\n",
    "            break  # break out if converged\n",
    "        x0 = x1  # get ready to the next iteration\n",
    "    else:\n",
    "        raise RuntimeError('Failed to converge in %d iterations'%maxiter)\n",
    "    return x1"
   ]
  },
  {
   "cell_type": "code",
   "execution_count": null,
   "metadata": {
    "hide-output": false,
    "slideshow": {
     "slide_type": "slide"
    }
   },
   "outputs": [],
   "source": [
    "def printme(**kwargs):\n",
    "    print('iter %d, x = %1.10f (err = %1.3e)'%(kwargs['iter'],kwargs['x'],kwargs['err']))\n",
    "x = solve_sa(F,x0=1.0,tol=1e-10,callback=printme)\n",
    "print('Residual in the original equation = %1.5e' % eq(x))\n",
    "# try different starting points, including >2.8"
   ]
  },
  {
   "cell_type": "code",
   "execution_count": null,
   "metadata": {
    "hide-output": false,
    "slideshow": {
     "slide_type": "slide"
    }
   },
   "outputs": [],
   "source": [
    "# plot to understand what is going on!\n",
    "import numpy as np\n",
    "import matplotlib.pyplot as plt\n",
    "%matplotlib inline\n",
    "plt.rcParams['figure.figsize'] = [12, 8]"
   ]
  },
  {
   "cell_type": "code",
   "execution_count": null,
   "metadata": {
    "hide-output": false,
    "slideshow": {
     "slide_type": "slide"
    }
   },
   "outputs": [],
   "source": [
    "a,b,x0 = 0,2,1.0  # bounds and starting value\n",
    "# a,b,x0 = 0,2.5,2.75\n",
    "# a,b,x0 = 0,5,2.85\n",
    "xd = np.linspace(a,b,100)  # x grid\n",
    "plt.plot([a,b],[a,b],c='grey')  # plot the 45 degree line\n",
    "plt.plot(xd,F(xd),c='red')  # plot the function\n",
    "def plot_step(**kwargs):\n",
    "    if plot_step.counter < 10:\n",
    "        if plot_step.counter == 0:\n",
    "            x,f = kwargs['x0'],F(kwargs['x0'])\n",
    "            plt.plot([x,x],[0,f],c='green')  # initial vertical line\n",
    "            plt.plot([x,f],[f,f],c='green')\n",
    "        plot_step.counter += 1\n",
    "        x,f = kwargs['x'],F(kwargs['x'])\n",
    "        plt.plot([x,x],[x,f],c='green')  # vertical line\n",
    "        plt.plot([x,f],[f,f],c='green')  # horizontal line\n",
    "plot_step.counter = 0  # new public attribute\n",
    "x = solve_sa(F,x0,tol=1e-10,callback=plot_step)\n",
    "plt.show()"
   ]
  },
  {
   "cell_type": "markdown",
   "metadata": {
    "slideshow": {
     "slide_type": "slide"
    }
   },
   "source": [
    "#### Condition for convergence in scalar case\n",
    "\n",
    "$$\n",
    "|F'(x^\\star)| < 1\n",
    "$$\n",
    "\n",
    "- where $ x^\\star $ is the solution/root  \n",
    "- **stable solution**  "
   ]
  },
  {
   "cell_type": "code",
   "execution_count": null,
   "metadata": {
    "hide-output": false,
    "slideshow": {
     "slide_type": "slide"
    }
   },
   "outputs": [],
   "source": [
    "a,b = 0,5\n",
    "xd = np.linspace(a,b,1000)\n",
    "plt.plot([a,b],[1,1],c='grey')  # 1 line\n",
    "plt.plot(xd,dF(xd),c='red')  # plot the derivative\n",
    "plt.show()"
   ]
  },
  {
   "cell_type": "markdown",
   "metadata": {
    "slideshow": {
     "slide_type": "slide"
    }
   },
   "source": [
    "#### Limitations of successive approximations method\n",
    "\n",
    "- Only stable solutions can be computed with SA  \n",
    "- Starting values matter for convergence!  \n",
    "- Also, only linear (slow) convergence to the solution when it does converge  \n",
    "\n",
    "\n",
    "But very easy to implement!"
   ]
  },
  {
   "cell_type": "markdown",
   "metadata": {
    "slideshow": {
     "slide_type": "slide"
    }
   },
   "source": [
    "### Multivariate example: platform market equilibrium\n",
    "\n",
    "- Platform is product or service with *network effects*, i.e. value (for firm and users) is generated from the interaction of users, and therefore depends on the size of the user base.  \n",
    "- Examples: game consoles, interface standards, social media, two-sided market platforms (Amazon, Ebay), peer-to-peer markets (Uber, AirBnB)  \n",
    "- Because of better experience of the users on larger platforms, platform markets tend to monopolization (*tipping markets*)  \n",
    "- Yet, there can be opposite forces as well: heterogeneous preferences or *congestion* in too large platforms  \n",
    "- Many different aspects (see further learning resources), we’ll look at a simple example, focusing on consumer choice and equilibrium  "
   ]
  },
  {
   "cell_type": "markdown",
   "metadata": {
    "slideshow": {
     "slide_type": "slide"
    }
   },
   "source": [
    "#### The model\n",
    "\n",
    "- $ m $ products, $ i=1,\\dots,m $  \n",
    "- unit mass of consumers of $ n $ types with different preferences over the product  \n",
    "- $ p_j $ are fractions of consumer types in the population, $ j=1,\\dots,n $  \n",
    "- utility function of consumers of type $ j \\in 1,\\dots,n $ from product $ i \\in 1,\\dots,m $ is given by  \n",
    "\n",
    "\n",
    "$$\n",
    "u_{ij} = c_{ij} + s_i,\n",
    "$$\n",
    "\n",
    "- $ c_{ij} $ are *valuations* of each product by each of the consumer type  \n",
    "- $ s_i $ are market shares of each product, increase utility when more people are using the same platform  "
   ]
  },
  {
   "cell_type": "markdown",
   "metadata": {
    "slideshow": {
     "slide_type": "slide"
    }
   },
   "source": [
    "#### Choice probabilities\n",
    "\n",
    "Standard random utility framework with logit choice probabilities\n",
    "\n",
    "- value of choice $ U_{ij} = u_{ij} + \\epsilon[i] $ is effected by the random factors  \n",
    "- one $ \\epsilon[i] $ for each product choice, forming the vector $ \\epsilon = (\\epsilon[1],\\dots,\\epsilon[m]) $  \n",
    "- elements of $ \\epsilon $ are extreme value type I (EV1) random components of the utility, iid between consumers and products  \n",
    "\n",
    "\n",
    "$$\n",
    "P_{ij} = \\frac{\\exp(u_{ij})}{\\sum_{k=1}^m \\exp(u_{kj})}\n",
    "= \\frac{\\exp(u_{ij}-\\alpha)}{\\sum_{k=1}^m \\exp(u_{kj}-\\alpha)}, \\; \\forall \\alpha\n",
    "$$"
   ]
  },
  {
   "cell_type": "markdown",
   "metadata": {
    "slideshow": {
     "slide_type": "slide"
    }
   },
   "source": [
    "#### Market shares\n",
    "\n",
    "- assume choice is made once, and no changes are made afterwards  \n",
    "- under the assumption of unit mass of consumers we have  \n",
    "\n",
    "\n",
    "$$\n",
    "s_i = \\sum_{j=1}^n p_j P_{ij} = P \\cdot p\n",
    "$$\n",
    "\n",
    "- simple matrix product, assuming $ p $ is a column-vector  "
   ]
  },
  {
   "cell_type": "markdown",
   "metadata": {
    "slideshow": {
     "slide_type": "slide"
    }
   },
   "source": [
    "#### Fixed point equation\n",
    "\n",
    "Combining the last three expressions:\n",
    "\n",
    "$$\n",
    "u_{ij} = c_{ij} + \\sum_{t=1}^n p_t \\frac{\\exp(u_{it})}{\\sum_{k=1}^m \\exp(u_{kt})}\n",
    "$$\n",
    "\n",
    "- $ mn $ fixed point equations  \n",
    "- fixed point in the ($ mn $)-dimensional space of $ u_{ij} $  "
   ]
  },
  {
   "cell_type": "code",
   "execution_count": null,
   "metadata": {
    "hide-output": false,
    "slideshow": {
     "slide_type": "slide"
    }
   },
   "outputs": [],
   "source": [
    "class model:\n",
    "    '''Simple platform equilibrium model'''\n",
    "\n",
    "    def __init__(self,m=2,n=2):\n",
    "        '''Define default model parameters'''\n",
    "        self.m,self.n = m,n  # number of products and consumer types\n",
    "        self.c = np.random.uniform(size=(m,n))    # utilities (random uniform)\n",
    "        self.p = np.random.dirichlet(np.ones(n))  # population composition (from symmetric Dirichlet distribution)\n",
    "\n",
    "    def __repr__(self):\n",
    "        return 'Number of platform products = {:d}\\nNumber of consumer types = {:d}\\nPopulation composition = {}\\nUtilities:\\n{}'.format(self.m,self.n,self.p,self.c)\n",
    "\n",
    "    def ccp(self,u):\n",
    "        '''Conditional choice probabilities, assuming choices in row'''\n",
    "        u = np.asarray(u).reshape((self.m,self.n))   # convert to matrix\n",
    "        u = u - np.amax(u,axis=0) # de-max by column (avoid exp of large numbers)\n",
    "        e = np.exp(u)\n",
    "        esum = e.sum(axis=0)  # sums of exps\n",
    "        return e/esum         # vector of choice probabilities\n",
    "\n",
    "    def shares(self,pr):\n",
    "        '''Market shares from choice probabilities'''\n",
    "        out = pr @ self.p  # one-dim vector\n",
    "        return out[:,np.newaxis]  # column vector\n",
    "\n",
    "    def F(self,u):\n",
    "        '''Fixed point equation u=F(u)'''\n",
    "        pr = self.ccp(u)     # matrix of choice probabilities\n",
    "        sh = self.shares(pr) # market shares\n",
    "        u1 = self.c + sh     # updated utilities\n",
    "        return u1.reshape(self.m*self.n) # return one dimensional array"
   ]
  },
  {
   "cell_type": "code",
   "execution_count": null,
   "metadata": {
    "hide-output": false,
    "slideshow": {
     "slide_type": "slide"
    }
   },
   "outputs": [],
   "source": [
    "def printiter(**kwargs):\n",
    "    print('iter %d, err = %1.3e'%(kwargs['iter'],kwargs['err']))\n",
    "md = model(m=3,n=2)\n",
    "print(md)\n",
    "print('SA from zero utilities:')\n",
    "x = solve_sa(md.F,x0=np.zeros(md.n*md.m),callback=printiter)\n",
    "print('Equilibrium found!')\n",
    "ccp = md.ccp(x)\n",
    "shares = md.shares(ccp).squeeze()  # make one-dim array\n",
    "print('Equilibrium choice probabilities:',ccp,'Equilibrium market shares:',shares,sep='\\n')"
   ]
  },
  {
   "cell_type": "markdown",
   "metadata": {
    "slideshow": {
     "slide_type": "slide"
    }
   },
   "source": [
    "### Further learning resources\n",
    "\n",
    "- Oscar Veliz videos on fixed point iterations\n",
    "  [https://www.youtube.com/watch?v=OLqdJMjzib8](https://www.youtube.com/watch?v=OLqdJMjzib8)\n",
    "  [https://www.youtube.com/watch?v=FyCviw2ZA2o](https://www.youtube.com/watch?v=FyCviw2ZA2o)  \n",
    "- Non-technical review of platform competition\n",
    "  [https://papers.ssrn.com/sol3/papers.cfm?abstract_id=3502964](https://papers.ssrn.com/sol3/papers.cfm?abstract_id=3502964)  \n",
    "- Blog posts on platform competition by Paul Belleflamme\n",
    "  [http://www.ipdigit.eu/2020/04/an-introduction-to-the-economics-of-platform-competition-part-1/](http://www.ipdigit.eu/2020/04/an-introduction-to-the-economics-of-platform-competition-part-1/)\n",
    "  [http://www.ipdigit.eu/2020/04/an-introduction-to-the-economics-of-platform-competition-part-2/](http://www.ipdigit.eu/2020/04/an-introduction-to-the-economics-of-platform-competition-part-2/)\n",
    "  [http://www.ipdigit.eu/2020/04/an-introduction-to-the-economics-of-platform-competition-part-3/](http://www.ipdigit.eu/2020/04/an-introduction-to-the-economics-of-platform-competition-part-3/)  "
   ]
  }
 ],
 "metadata": {
  "celltoolbar": "Slideshow",
  "date": 1627474986.221507,
  "filename": "22_succ_aprx.rst",
  "kernelspec": {
   "display_name": "Python",
   "language": "python3",
   "name": "python3"
  },
  "title": "Foundations of Computational Economics #22"
 },
 "nbformat": 4,
 "nbformat_minor": 4
}