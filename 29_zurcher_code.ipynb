{
 "cells": [
  {
   "cell_type": "markdown",
   "metadata": {
    "slideshow": {
     "slide_type": "slide"
    }
   },
   "source": [
    "# Foundations of Computational Economics #29\n",
    "\n",
    "by Fedor Iskhakov, ANU\n",
    "\n",
    "<img src=\"_static/img/dag3logo.png\" style=\"width:256px;\">"
   ]
  },
  {
   "cell_type": "markdown",
   "metadata": {
    "slideshow": {
     "slide_type": "fragment"
    }
   },
   "source": [
    "## Coding up the Rust model of bus engine replacement\n",
    "\n",
    "<img src=\"_static/img/lab.png\" style=\"width:64px;\">"
   ]
  },
  {
   "cell_type": "markdown",
   "metadata": {
    "slideshow": {
     "slide_type": "subslide"
    }
   },
   "source": [
    "<img src=\"_static/img/youtube.png\" style=\"width:65px;\">\n",
    "\n",
    "[https://youtu.be/QzOVgKIUBqg](https://youtu.be/QzOVgKIUBqg)\n",
    "\n",
    "Description: Implementation of Rust model in infinite horizon with value function iterations solver"
   ]
  },
  {
   "cell_type": "markdown",
   "metadata": {
    "slideshow": {
     "slide_type": "slide"
    }
   },
   "source": [
    "### Bellman equation in expected value function space\n",
    "\n",
    "$ EV(x,d) $ = the expected value function\n",
    "\n",
    "$$\n",
    "\\begin{eqnarray}\n",
    "EV(x,d) &=& \\sum_{x' \\in X} \\log \\big( \\exp[v(x',0)] + \\exp[v(x',1)] \\big) \\pi(x'|x,d) \\\\\n",
    "v(x,d) &=& u(x,d) + \\beta EV(x,d)\n",
    "\\end{eqnarray}\n",
    "$$\n",
    "\n",
    "- $ x \\in \\{x_1, \\dots x_n \\} $, the state space is given by $ n $ grid points of mileage  \n",
    "- $ d \\in \\{0,1\\} $, the choice space is given by two points  \n",
    "- $ EV(x,d) $ is $ n $ by $ 2 $ matrix  "
   ]
  },
  {
   "cell_type": "markdown",
   "metadata": {
    "slideshow": {
     "slide_type": "slide"
    }
   },
   "source": [
    "#### Instantaneous payoffs\n",
    "\n",
    "Given by the cost function that depends on the choice\n",
    "\n",
    "$$\n",
    "u(x,d,\\theta_1)=\\left \\{\n",
    "\\begin{array}{ll}\n",
    "    -RC-c(0,\\theta_1) & \\text{if }d_{t}=\\text{replace}=1 \\\\\n",
    "    -c(x,\\theta_1) & \\text{if }d_{t}=\\text{keep}=0\n",
    "\\end{array} \\right.\n",
    "$$\n",
    "\n",
    "- $ RC $ = replacement cost  \n",
    "- $ c(x,\\theta_1) = 0.001 \\cdot \\theta_1 x $ = cost of maintenance  \n",
    "- $ \\theta_1 $ = preference parameters  "
   ]
  },
  {
   "cell_type": "markdown",
   "metadata": {
    "slideshow": {
     "slide_type": "slide"
    }
   },
   "source": [
    "#### Transition matrix for mileage\n",
    "\n",
    "If not replacing ($ d=0) $\n",
    "\n",
    "$$\n",
    "\\Pi(d=0)_{n x n} =\n",
    "\\begin{pmatrix}\n",
    "\\theta_{20} & \\theta_{21} & \\theta_{22} & 0 & \\cdot & \\cdot & \\cdot & 0 \\\\\n",
    "0 & \\theta_{20} & \\theta_{21} & \\theta_{22} & 0 & \\cdot & \\cdot & 0 \\\\\n",
    "0 & 0 &\\theta_{20} & \\theta_{21} & \\theta_{22} & 0 & \\cdot & 0 \\\\\n",
    "\\cdot & \\cdot & \\cdot & \\cdot & \\cdot & \\cdot & \\cdot & \\cdot \\\\\n",
    "0 & \\cdot & \\cdot & 0 & \\theta_{20} & \\theta_{21} & \\theta_{22} & 0 \\\\\n",
    "0 & \\cdot & \\cdot & \\cdot & 0 & \\theta_{20} & \\theta_{21} & \\theta_{22} \\\\\n",
    "0 & \\cdot & \\cdot & \\cdot & \\cdot  & 0 & \\theta_{20} & 1-\\theta_{20} \\\\\n",
    "0 & \\cdot & \\cdot & \\cdot & \\cdot & \\cdot  & 0 & 1\n",
    "\\end{pmatrix}\n",
    "$$"
   ]
  },
  {
   "cell_type": "markdown",
   "metadata": {
    "slideshow": {
     "slide_type": "slide"
    }
   },
   "source": [
    "#### Transition matrix for mileage\n",
    "\n",
    "If replacing ($ d=1) $\n",
    "\n",
    "$$\n",
    "\\Pi(d=1)_{n x n} =\n",
    "\\begin{pmatrix}\n",
    "\\theta_{20} & \\theta_{21} & \\theta_{22} & 0 & \\cdot & \\cdot & \\cdot & 0 \\\\\n",
    "\\theta_{20} & \\theta_{21} & \\theta_{22} & 0 & \\cdot & \\cdot & \\cdot & 0 \\\\\n",
    "\\theta_{20} & \\theta_{21} & \\theta_{22} & 0 & \\cdot & \\cdot & \\cdot & 0 \\\\\n",
    "\\cdot & \\cdot & \\cdot & \\cdot & \\cdot & \\cdot & \\cdot & \\cdot \\\\\n",
    "\\theta_{20} & \\theta_{21} & \\theta_{22} & 0 & \\cdot & \\cdot & \\cdot & 0 \\\\\n",
    "\\theta_{20} & \\theta_{21} & \\theta_{22} & 0 & \\cdot & \\cdot & \\cdot & 0 \\\\\n",
    "\\theta_{20} & \\theta_{21} & \\theta_{22} & 0 & \\cdot & \\cdot & \\cdot & 0 \\\\\n",
    "\\end{pmatrix}\n",
    "$$"
   ]
  },
  {
   "cell_type": "markdown",
   "metadata": {
    "slideshow": {
     "slide_type": "slide"
    }
   },
   "source": [
    "#### Bellman operator and VFI\n",
    "\n",
    "$$\n",
    "\\begin{eqnarray}\n",
    "T^*(EV)(x,d) &\\equiv& \\sum_{x' \\in X} \\log \\big( \\exp[v(x',0)] + \\exp[v(x',1)] \\big) \\pi(x'|x,d) \\\\\n",
    "v(x,d) &=& u(x,d) + \\beta EV(x,d)\n",
    "\\end{eqnarray}\n",
    "$$\n",
    "\n",
    "1. Start with arbitrary guess for \\$EV(x,d)\\$  \n",
    "1. Apply \\$T^*\\$ operator  \n",
    "1. Check for (uniform) convergence  \n",
    "1. If not converged to a given level of tolerance, return to step 2, otherwise finish.  "
   ]
  },
  {
   "cell_type": "markdown",
   "metadata": {
    "slideshow": {
     "slide_type": "slide"
    }
   },
   "source": [
    "#### One more thing\n",
    "\n",
    "*It is always useful to examine the structure of the problem for insights into better code structure!*\n",
    "\n",
    "- Bus with just replaced engine is identical to the new bus from the model’s point of view\n",
    "  $ \\Rightarrow EV(x,d = \\text{replace}) = EV(0,d = \\text{keep}) $ for all $ x $  \n",
    "- and instead of $ EV(x,d) $ to be $ n $ by $ 2 $ matrix, it is sufficient to work with a vector\n",
    "  $ EV(x) $ with $ n $ elements  \n",
    "- we also only need one transition probability matrix then  "
   ]
  },
  {
   "cell_type": "markdown",
   "metadata": {
    "slideshow": {
     "slide_type": "slide"
    }
   },
   "source": [
    "- When computing **logsum** functions  \n",
    "\n",
    "\n",
    "$$\n",
    "\\log \\big( \\exp[v(x',0)] + \\exp[v(x',1)] \\big)\n",
    "$$\n",
    "\n",
    "- we can avoid computing exponential of large numbers by using the equivalent  \n",
    "\n",
    "\n",
    "$$\n",
    "M + \\log \\big( \\exp[v(x',0)-M] + \\exp[v(x',1)-M] \\big)\n",
    "$$"
   ]
  },
  {
   "cell_type": "code",
   "execution_count": null,
   "metadata": {
    "hide-output": false,
    "slideshow": {
     "slide_type": "slide"
    }
   },
   "outputs": [],
   "source": [
    "# THIS IS DEVELOPPED IN THE VIDEO\n",
    "\n",
    "import numpy as np\n",
    "import matplotlib.pyplot as plt\n",
    "%matplotlib inline\n",
    "\n",
    "class zurcher():\n",
    "    '''Harold Zurcher bus engine replacement model class, VFI version'''\n",
    "\n",
    "    def __init__(self,\n",
    "                 n = 175,           # number of state points\n",
    "                 RC = 11.7257,      # replacement cost\n",
    "                 c = 2.45569,       # parameter of maintance cost (theta_1)\n",
    "                 p = [0.0937,0.4475,0.4459,0.0127],  # probabilities of transitions (theta_2)\n",
    "                 beta = 0.9999):    # discount factor\n",
    "        '''Init for the Zurcher model object'''\n",
    "        assert sum(p)<=1.0, 'Transition probability parameters must sum up to <1'\n",
    "        self.RC, self.c, self.p, self.beta, self.n= RC, c, p, beta, n\n",
    "\n",
    "    @property\n",
    "    def n(self):\n",
    "        '''Attrinute getter for n'''\n",
    "        return self.__n\n",
    "\n",
    "    @n.setter\n",
    "    def n(self, value):\n",
    "        '''Attribute n setter'''\n",
    "        self.__n = value\n",
    "        self.grid = np.arange(self.__n)\n",
    "        self.trpr = self.__transition_probs()\n",
    "\n",
    "    def __repr__(self):\n",
    "        '''String representation of the Zurcher model'''\n",
    "        return 'Rust model at id={}'.format(id(self))\n",
    "\n",
    "    def __transition_probs(self):\n",
    "        '''Computing the transision probability matrix'''\n",
    "        trpr = np.zeros((self.__n,self.__n))  # init\n",
    "        probs = self.p + [1-sum(self.p)]  # ensure sum up to 1\n",
    "        for i,p in enumerate(probs):\n",
    "            trpr += np.diag([p]*(self.__n-i),k=i)\n",
    "        trpr[:,-1] = 1.-np.sum(trpr[:,:-1],axis=1)\n",
    "        return trpr\n",
    "\n",
    "    def bellman(self,ev0):\n",
    "        '''Bellman operator for the model'''\n",
    "        x = self.grid  # points in the next period state\n",
    "        mcost = -0.001*x*self.c\n",
    "        vx0 = mcost + self.beta * ev0  # vector of v(x,0)\n",
    "        vx1 = -self.RC + mcost[0] + self.beta * ev0[0]  # vector of v(x,1)\n",
    "        M = np.maximum(vx0,vx1)\n",
    "        logsum = M + np.log(np.exp(vx0-M) + np.exp(vx1-M))\n",
    "        ev1 = self.trpr @ logsum[:,np.newaxis]\n",
    "        ev1 = ev1.ravel()\n",
    "        # recompute v(x,d) for current period choice probabilities\n",
    "        vx0 = mcost + self.beta * ev1  # vector of v(x,0)\n",
    "        vx1 = -self.RC + mcost[0] + self.beta * ev1[0]  # vector of v(x,1)\n",
    "        pr1 = 1 / (np.exp(vx0-vx1)+1)  # choice prob to repace\n",
    "        return ev1, pr1\n",
    "\n",
    "    def solve_vfi(self,tol=1e-6,maxiter=100,callback=None):\n",
    "        '''Solves the Rust model using value function iterations\n",
    "        '''\n",
    "        ev0 = np.zeros(self.n) # initial point for VFI\n",
    "        for i in range(maxiter):  # main loop\n",
    "            ev1, pr1 = self.bellman(ev0)  # update approximation\n",
    "            err = np.amax(np.abs(ev0-ev1))\n",
    "            if callback != None: callback(iter=i,err=err,ev1=ev1,ev0=ev0,pr1=pr1,model=self)\n",
    "            if err<tol:\n",
    "                break  # break out if converged\n",
    "            ev0 = ev1  # get ready to the next iteration\n",
    "        else:\n",
    "            raise RuntimeError('Failed to converge in %d iterations'%maxiter)\n",
    "        return ev1, pr1\n",
    "\n",
    "    def solve_show(self,maxiter=1000,tol=1e-6,**kvargs):\n",
    "        '''Illustrate solution'''\n",
    "        fig1, (ax1,ax2) = plt.subplots(1,2,figsize=(14,8))\n",
    "        ax1.grid(b=True, which='both', color='0.65', linestyle='-')\n",
    "        ax2.grid(b=True, which='both', color='0.65', linestyle='-')\n",
    "        ax1.set_xlabel('Mileage grid')\n",
    "        ax2.set_xlabel('Mileage grid')\n",
    "        ax1.set_title('Value function')\n",
    "        ax2.set_title('Probability of replacing the engine')\n",
    "        def callback(**argvars):\n",
    "            mod, ev, pk = argvars['model'],argvars['ev1'],argvars['pr1']\n",
    "            ax1.plot(mod.grid,ev,color='k',alpha=0.25)\n",
    "            ax2.plot(mod.grid,pk,color='k',alpha=0.25)\n",
    "        ev,pk = self.solve_vfi(maxiter=maxiter,tol=tol,callback=callback,**kvargs)\n",
    "        # add solutions\n",
    "        ax1.plot(self.grid,ev,color='r',linewidth=2.5)\n",
    "        ax2.plot(self.grid,pk,color='r',linewidth=2.5)\n",
    "        plt.show()\n",
    "        return ev,pk\n",
    "\n",
    "\n",
    "model = zurcher(n = 15,p=[0.2,0.2,0.4], beta=0.5)\n",
    "model = zurcher(beta=0.9)\n",
    "print(model)\n",
    "ev,pr = model.solve_show()\n",
    "print('Solution ev=')\n",
    "print(ev)\n",
    "print('Solution pr=')\n",
    "print(pr)"
   ]
  },
  {
   "cell_type": "code",
   "execution_count": null,
   "metadata": {
    "hide-output": false,
    "slideshow": {
     "slide_type": "slide"
    }
   },
   "outputs": [],
   "source": [
    "# THIS IS AN EARLIER VERSION OF THE CODE\n",
    "# (there is bug here..)\n",
    "\n",
    "import numpy as np\n",
    "import matplotlib.pyplot as plt\n",
    "%matplotlib inline\n",
    "\n",
    "class zurcher():\n",
    "    '''Harold Zurcher bus engine replacement model class, VFI version'''\n",
    "\n",
    "    def __init__(self,\n",
    "                 n = 175,           # number of state points\n",
    "                 RC = 11.7257,      # replacement cost\n",
    "                 c = 2.45569,       # parameter of maintance cost (theta_1)\n",
    "                 p = [0.0937,0.4475,0.4459,0.0127],  # probabilities of transisions (theta_2)\n",
    "                 beta = 0.9999):    # discount factor\n",
    "        '''Initializator for the zurcher class'''\n",
    "        assert sum(p)<=1.0,'sum of transision probability parameters must not exceed unity'\n",
    "        self.p = p        # parameters for transision probabilities\n",
    "        self.n = n        # set number of grid points on the state space\n",
    "        self.RC = RC      # replacement cost\n",
    "        self.c = c        # cost function parameter\n",
    "        self.beta = beta  # discount factor\n",
    "\n",
    "    @property\n",
    "    def n(self):\n",
    "        '''Dimension getter'''\n",
    "        return self.__n # internal dimension variable\n",
    "\n",
    "    @n.setter\n",
    "    def n(self,n):\n",
    "        '''Dimension setter, updaing the grid and transision probabilities'''\n",
    "        self.__n = n\n",
    "        # create grid for the set dimension\n",
    "        self.grid = np.arange(n) # 0,..,n-1 index of grid points\n",
    "        # create transition prob for the set dimension\n",
    "        p = self.p # \"copy\" the list of parameters\n",
    "        p.append(1.0-sum(p)) # add the last element to ensure 1.0 in sum\n",
    "        self.P1,self.P2 = self.transition_probability(np.array(p)) # compute transision probabilities\n",
    "\n",
    "    def __repr__(self):\n",
    "        '''String representation of the Zurcher model object'''\n",
    "        # id() is unique identifier for the variable (reference), convert to hex\n",
    "        return 'Zurcher bus engine replacement model with id=%s' % hex(id(self))\n",
    "\n",
    "    def transition_probability(self,p):\n",
    "        '''Compute transition probability matrixes conditional on choice'''\n",
    "        # conditional on d=0, no replacement\n",
    "        P1 = np.full((self.n,self.n),0.0)\n",
    "        for i in range(self.n):\n",
    "            if i <= self.n-p.size:\n",
    "                # lines where p vector fits entirely\n",
    "                P1[i][i:i+p.size]=p\n",
    "            else:\n",
    "                P1[i][i:] = p[:self.n-p.size-i]\n",
    "                P1[i][-1] = 1.0-P1[i][:-1].sum()\n",
    "        # conditional on d=1, replacement\n",
    "        P2 = np.full((self.n,self.n),0.0)\n",
    "        for i in range(self.n):\n",
    "            P2[i][:p.size]=p\n",
    "        return P1,P2\n",
    "\n",
    "    def bellman(self,ev0,output=0):\n",
    "        ''' Bellman operator for the model\n",
    "            Input: current approximation of the EV as column vector\n",
    "                   output = type of output requested\n",
    "            Output: new approximation of EV\n",
    "                    d=0 choice probability (if output>0)\n",
    "                    Frechet derivative of Bellman operator (if output>1)\n",
    "        '''\n",
    "        # EV0 is current approximation of EV on the fixed grid\n",
    "        # For d=0 it holds values for all mileages\n",
    "        # For d=1 (replacement) we use the first value EV0[0]\n",
    "        # So, instead of EV(x,d) for d=0,1, we can use only one vector!\n",
    "        assert np.all(ev0.shape==(self.n,1)),'Expecting EV as column vector'\n",
    "        x = self.grid.reshape((self.n,1)) # states (in the next period), column vector\n",
    "        c = 0.001*self.c*x # maintenance cost in all states\n",
    "        v0 = -c + self.beta*ev0 # value of not replacing\n",
    "        v1 = -c[0] -self.RC + self.beta*ev0[0] # value of replacing\n",
    "        # recenter the values for numerical stability of logsum !!!!!!!!!!!!!!!!\n",
    "        maxv = np.maximum(v0,v1)\n",
    "        logsum = maxv + np.log(np.exp(v0-maxv) + np.exp(v1-maxv))\n",
    "        ev1 = self.P1 @ logsum # matrix multiplication, result as column vector\n",
    "        if output == 0:\n",
    "            return ev1\n",
    "        # keep (no replacement) choice probability\n",
    "        pk = 1/(1+np.exp(v1-v0))\n",
    "        if output == 1:\n",
    "            return ev1,pk\n",
    "\n",
    "    def solve_vfi(self, maxiter=1000, tol=1e-6, callback=None):\n",
    "        '''Solves the model using successive approximations (VFI)'''\n",
    "        ev0 = np.full((self.n,1),0) # initial guess of EV\n",
    "        for iter in range(maxiter):\n",
    "            ev1,pk = self.bellman(ev0,output=1)\n",
    "            stp = np.max(abs(ev1-ev0))\n",
    "            if callback:\n",
    "                if iter==0: stp0=1.0\n",
    "                callback(iter,self,ev1,pk,stp,stp/stp0) # callback for making plots\n",
    "            if stp < tol:\n",
    "                break\n",
    "            ev0=ev1\n",
    "            stp0=stp\n",
    "        else:  # when i went up to maxiter\n",
    "            print('No convergence: maximum number of iterations achieved!')\n",
    "        return ev1,pk\n",
    "\n",
    "    def solve_show(self,solver='vfi',maxiter=1000,tol=1e-6,**kvargs):\n",
    "        '''Illustrate solution'''\n",
    "        fig1, (ax1,ax2) = plt.subplots(1,2,figsize=(14,8))\n",
    "        ax1.grid(b=True, which='both', color='0.65', linestyle='-')\n",
    "        ax2.grid(b=True, which='both', color='0.65', linestyle='-')\n",
    "        ax1.set_xlabel('Mileage grid')\n",
    "        ax2.set_xlabel('Mileage grid')\n",
    "        ax1.set_title('Value function')\n",
    "        ax2.set_title('Probability of keeping the engine')\n",
    "        def callback(iter,mod,ev,pk,stp,dstp):\n",
    "            if iter==0:\n",
    "                print('%4s %16s %16s'%('iter','err','err(i)/err(i-1)'))\n",
    "                print('-'*40)\n",
    "            print('%4d %16.12f %16.12f'%(iter,stp,dstp))\n",
    "            ax1.plot(mod.grid,ev,color='k',alpha=0.25)\n",
    "            ax2.plot(mod.grid,pk,color='k',alpha=0.25)\n",
    "        if solver=='vfi':\n",
    "            ev,pk = self.solve_vfi(maxiter=maxiter,tol=tol,callback=callback,**kvargs)\n",
    "        elif solver=='nk':\n",
    "            ev,pk = self.solve_nk(maxiter=maxiter,tol=tol,callback=callback,**kvargs)\n",
    "        elif solver=='poly':\n",
    "            ev,pk = self.solve_poly(maxiter=maxiter,tol=tol,callback=callback,**kvargs)\n",
    "        else:\n",
    "            print('Unknown solver')\n",
    "            return None\n",
    "        # add solutions\n",
    "        ax1.plot(self.grid,ev,color='r',linewidth=2.5)\n",
    "        ax2.plot(self.grid,pk,color='r',linewidth=2.5)\n",
    "        plt.show()\n",
    "        return ev,pk"
   ]
  },
  {
   "cell_type": "code",
   "execution_count": null,
   "metadata": {
    "hide-output": false,
    "slideshow": {
     "slide_type": "slide"
    }
   },
   "outputs": [],
   "source": [
    "# investigate how parts of the code work:\n",
    "model = zurcher(RC=.5,n=12,p=[0.65,0.2,0.1]) # model instance\n",
    "print('Model grid:\\n',model.grid)\n",
    "print(model) # string representation\n",
    "print('Transition probabilities conditional on not replacing:\\n',model.P1)\n",
    "print('Transition probabilities conditional on replacing:\\n',model.P2)\n",
    "ev,pk = model.bellman(np.full((model.n,1),0),output=1)\n",
    "print('Bellman one run:\\n',ev)\n",
    "print('Probability of keeping:\\n',pk)"
   ]
  },
  {
   "cell_type": "code",
   "execution_count": null,
   "metadata": {
    "hide-output": false,
    "slideshow": {
     "slide_type": "slide"
    }
   },
   "outputs": [],
   "source": [
    "# solve Harold Zurcher model for different parameters\n",
    "m = zurcher(beta=0.9,RC=5.0)\n",
    "ev,pk = m.solve_show(maxiter=500,tol=1e-4)"
   ]
  },
  {
   "cell_type": "markdown",
   "metadata": {
    "slideshow": {
     "slide_type": "slide"
    }
   },
   "source": [
    "### Further learning resources\n",
    "\n",
    "- Matlab implementation of full solver and Rust estimator (NFXP) [https://github.com/dseconf/DSE2019/tree/master/02_DDC_SchjerningIskhakov](https://github.com/dseconf/DSE2019/tree/master/02_DDC_SchjerningIskhakov)  "
   ]
  }
 ],
 "metadata": {
  "celltoolbar": "Slideshow",
  "date": 1627474986.491144,
  "filename": "29_zurcher_code.rst",
  "kernelspec": {
   "display_name": "Python",
   "language": "python3",
   "name": "python3"
  },
  "title": "Foundations of Computational Economics #29"
 },
 "nbformat": 4,
 "nbformat_minor": 4
}