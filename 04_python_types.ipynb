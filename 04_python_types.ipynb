{
 "cells": [
  {
   "cell_type": "markdown",
   "metadata": {
    "slideshow": {
     "slide_type": "slide"
    }
   },
   "source": [
    "# Foundations of Computational Economics #4\n",
    "\n",
    "by Fedor Iskhakov, ANU\n",
    "\n",
    "<img src=\"_static/img/dag3logo.png\" style=\"width:256px;\">"
   ]
  },
  {
   "cell_type": "markdown",
   "metadata": {
    "slideshow": {
     "slide_type": "fragment"
    }
   },
   "source": [
    "## Python essentials: data types\n",
    "\n",
    "<img src=\"_static/img/lecture.png\" style=\"width:64px;\">"
   ]
  },
  {
   "cell_type": "markdown",
   "metadata": {
    "slideshow": {
     "slide_type": "subslide"
    }
   },
   "source": [
    "<img src=\"_static/img/youtube.png\" style=\"width:65px;\">\n",
    "\n",
    "[https://youtu.be/V4LjT3qjMcs](https://youtu.be/V4LjT3qjMcs)\n",
    "\n",
    "Description: Variables and memory, binary operations, logical expressions, composite variables types."
   ]
  },
  {
   "cell_type": "markdown",
   "metadata": {
    "slideshow": {
     "slide_type": "slide"
    }
   },
   "source": [
    "### Plan for the video\n",
    "\n",
    "1. Names and comments  \n",
    "1. Variables and memory  \n",
    "1. Binary operations  \n",
    "1. Logical expressions  \n",
    "1. Composite variables types  \n",
    "\n",
    "\n",
    "📖 Kevin Sheppard “Introduction to Python for Econometrics, Statistics\n",
    "and Data Analysis.” *Chapters: 3, 5, 10, 11, 13, 18, 22*"
   ]
  },
  {
   "cell_type": "markdown",
   "metadata": {
    "slideshow": {
     "slide_type": "slide"
    }
   },
   "source": [
    "### Intro\n",
    "\n",
    "<img src=\"_static/img/PythonLogo.jpg\" style=\"width:512px;\">\n",
    "\n",
    "- General–purpose programming language  \n",
    "- Open source  \n",
    "- High level language: slower in general but easier to write code and\n",
    "  develop software  \n",
    "- With special tools and for particular problems is fast (approaching low level\n",
    "  languages)  "
   ]
  },
  {
   "cell_type": "markdown",
   "metadata": {
    "slideshow": {
     "slide_type": "slide"
    }
   },
   "source": [
    "#### Native Python and the Scientific Stack (Python modules)\n",
    "\n",
    "- *NumPy* implements fast array processing — vectorization  \n",
    "- *SciPy* is a collection of functions of common scientific\n",
    "  operations (optimization, root finding, linear algebra, interpolation,\n",
    "  numerical integration, etc.)  \n",
    "- *Pandas* is data manipulation package with special data types and\n",
    "  methods  \n",
    "- *Matplotlib* is package for making figures and plots  \n",
    "\n",
    "\n",
    "**Today: talking about core Python**"
   ]
  },
  {
   "cell_type": "markdown",
   "metadata": {
    "slideshow": {
     "slide_type": "slide"
    }
   },
   "source": [
    "#### Coding standard: PEP8\n",
    "\n",
    "Python Enhancement Proposal 0008\n",
    "\n",
    "[https://www.python.org/dev/peps/pep-0008/](https://www.python.org/dev/peps/pep-0008/)\n",
    "\n",
    "- Indentation: 4 spaces per level  \n",
    "- Max line length: 79 characters  \n",
    "- White space: around binary operations + according to precedence of operations  \n",
    "- Comments and docstrings  \n",
    "- Naming conventions  "
   ]
  },
  {
   "cell_type": "markdown",
   "metadata": {
    "slideshow": {
     "slide_type": "slide"
    }
   },
   "source": [
    "#### Names and comments\n",
    "\n",
    "**Names of variables** $ \\exists $ certain rules: can only contain\n",
    "numbers, letters (both upper and lower) and underscores (_)\n",
    "\n",
    "**Reserved words**: *and as assert break class continue def del elif else\n",
    "except exec finally for from global if import in is lambda not or pass\n",
    "print raise return try while with yield*\n",
    "\n",
    "**Comments** made with # at any location of a line"
   ]
  },
  {
   "cell_type": "code",
   "execution_count": null,
   "metadata": {
    "hide-output": false,
    "slideshow": {
     "slide_type": "fragment"
    }
   },
   "outputs": [],
   "source": [
    "# This is a comment"
   ]
  },
  {
   "cell_type": "markdown",
   "metadata": {
    "slideshow": {
     "slide_type": "slide"
    }
   },
   "source": [
    "### Basic variable types\n",
    "\n",
    "- Boolean  \n",
    "- Integer  \n",
    "- Floating point numbers  \n",
    "- Complex numbers  \n",
    "- Strings  "
   ]
  },
  {
   "cell_type": "markdown",
   "metadata": {
    "slideshow": {
     "slide_type": "slide"
    }
   },
   "source": [
    "#### Boolean\n",
    "\n",
    "Record logical **True** or **False**\n",
    "\n",
    "Logical opertations + arithmetics"
   ]
  },
  {
   "cell_type": "code",
   "execution_count": null,
   "metadata": {
    "hide-output": false,
    "slideshow": {
     "slide_type": "fragment"
    }
   },
   "outputs": [],
   "source": [
    "x = False\n",
    "y = True\n",
    "x and y"
   ]
  },
  {
   "cell_type": "code",
   "execution_count": null,
   "metadata": {
    "hide-output": false,
    "slideshow": {
     "slide_type": "fragment"
    }
   },
   "outputs": [],
   "source": [
    "y = 1 < 5\n",
    "y = y and (4 < 8)\n",
    "y"
   ]
  },
  {
   "cell_type": "markdown",
   "metadata": {
    "slideshow": {
     "slide_type": "slide"
    }
   },
   "source": [
    "#### Check that at least one condition is satisfied"
   ]
  },
  {
   "cell_type": "code",
   "execution_count": null,
   "metadata": {
    "hide-output": false,
    "slideshow": {
     "slide_type": "fragment"
    }
   },
   "outputs": [],
   "source": [
    "# Modify the code appropriately\n",
    "z = (1 < 0)\n",
    "z = (2 >= 4)\n",
    "z = (5 <= 5)\n",
    "z = (2 > 4)\n",
    "z"
   ]
  },
  {
   "cell_type": "markdown",
   "metadata": {
    "slideshow": {
     "slide_type": "slide"
    }
   },
   "source": [
    "#### Integer"
   ]
  },
  {
   "cell_type": "code",
   "execution_count": null,
   "metadata": {
    "hide-output": false,
    "slideshow": {
     "slide_type": "fragment"
    }
   },
   "outputs": [],
   "source": [
    "import sys\n",
    "x = 1\n",
    "print(\"x is %r\" % x)\n",
    "print(\"Type of x is %s\" % type(x))\n",
    "\n",
    "y = 0b1011 #binary (base=2)\n",
    "# y = 0x10f  #hex (base=16)\n",
    "\n",
    "print(\"y is %r\" % y)\n",
    "print(\"Type of y is %s\" % type(y))\n",
    "print(\"y takes %d bytes in memory\" % sys.getsizeof(y))"
   ]
  },
  {
   "cell_type": "markdown",
   "metadata": {
    "slideshow": {
     "slide_type": "slide"
    }
   },
   "source": [
    "#### Biggest integer that can be stored in memory"
   ]
  },
  {
   "cell_type": "code",
   "execution_count": null,
   "metadata": {
    "hide-output": false,
    "slideshow": {
     "slide_type": "fragment"
    }
   },
   "outputs": [],
   "source": [
    "y = 0b1111111111111111111111111111110\n",
    "#     1234567890123456789012345678901234567890\n",
    "y = 0x1afe\n",
    "print(\"y is %r\" % y)\n",
    "print(\"Type of y is %s\" % type(y))\n",
    "print(\"y takes %d bytes in memory\" % sys.getsizeof(y))"
   ]
  },
  {
   "cell_type": "markdown",
   "metadata": {
    "slideshow": {
     "slide_type": "fragment"
    }
   },
   "source": [
    "Python adjusts the memory for integers as to fit large numbers!"
   ]
  },
  {
   "cell_type": "markdown",
   "metadata": {
    "slideshow": {
     "slide_type": "slide"
    }
   },
   "source": [
    "#### Arithmetics with integers"
   ]
  },
  {
   "cell_type": "code",
   "execution_count": null,
   "metadata": {
    "hide-output": false,
    "slideshow": {
     "slide_type": "fragment"
    }
   },
   "outputs": [],
   "source": [
    "a = 155\n",
    "b = 7\n",
    "c=a+b\n",
    "print(\"%d + %d = %r (%s)\" % (a,b,c,type(c)))"
   ]
  },
  {
   "cell_type": "code",
   "execution_count": null,
   "metadata": {
    "hide-output": false,
    "slideshow": {
     "slide_type": "fragment"
    }
   },
   "outputs": [],
   "source": [
    "c=a-50*b\n",
    "print(\"%d - 50*%d = %r (%s)\" % (a,b,c,type(c)))"
   ]
  },
  {
   "cell_type": "markdown",
   "metadata": {
    "slideshow": {
     "slide_type": "slide"
    }
   },
   "source": [
    "#### Automatic casting"
   ]
  },
  {
   "cell_type": "code",
   "execution_count": null,
   "metadata": {
    "hide-output": false,
    "slideshow": {
     "slide_type": "fragment"
    }
   },
   "outputs": [],
   "source": [
    "a = 155\n",
    "b = 7\n",
    "c = a**b\n",
    "print(\"%d ^ %d = %r (%s)\" % (a,b,c,type(c)))\n",
    "c = a/b\n",
    "print(\"%d / %d = %r (%s)\" % (a,b,c,type(c)))"
   ]
  },
  {
   "cell_type": "markdown",
   "metadata": {
    "slideshow": {
     "slide_type": "fragment"
    }
   },
   "source": [
    "Python adjusts the *type* of integers as to fit the result of arithmetic operation!"
   ]
  },
  {
   "cell_type": "markdown",
   "metadata": {
    "slideshow": {
     "slide_type": "slide"
    }
   },
   "source": [
    "#### Integer division and remainder"
   ]
  },
  {
   "cell_type": "code",
   "execution_count": null,
   "metadata": {
    "hide-output": false,
    "slideshow": {
     "slide_type": "fragment"
    }
   },
   "outputs": [],
   "source": [
    "a = 155\n",
    "b = 7\n",
    "c = a//b\n",
    "print(\"%d // %d = %r (%s)\" % (a,b,c,type(c)))\n",
    "c = a%b\n",
    "print(\"%d %% %d = %r (%s)\" % (a,b,c,type(c)))"
   ]
  },
  {
   "cell_type": "markdown",
   "metadata": {
    "slideshow": {
     "slide_type": "slide"
    }
   },
   "source": [
    "#### Booleans and integers"
   ]
  },
  {
   "cell_type": "code",
   "execution_count": null,
   "metadata": {
    "hide-output": false,
    "slideshow": {
     "slide_type": "fragment"
    }
   },
   "outputs": [],
   "source": [
    "import sys\n",
    "x = 15 > 10\n",
    "print(\"x is %r\" % x)"
   ]
  },
  {
   "cell_type": "code",
   "execution_count": null,
   "metadata": {
    "hide-output": false,
    "slideshow": {
     "slide_type": "fragment"
    }
   },
   "outputs": [],
   "source": [
    "print(\"Type of x is %s\" % type(x))\n",
    "print(\"x takes %d bytes in memory\" % sys.getsizeof(x))"
   ]
  },
  {
   "cell_type": "code",
   "execution_count": null,
   "metadata": {
    "hide-output": false,
    "slideshow": {
     "slide_type": "fragment"
    }
   },
   "outputs": [],
   "source": [
    "y = 36\n",
    "print(\"Type of y is %s\" % type(y))\n",
    "print(\"y takes %d bytes in memory\" % sys.getsizeof(y))"
   ]
  },
  {
   "cell_type": "code",
   "execution_count": null,
   "metadata": {
    "hide-output": false,
    "slideshow": {
     "slide_type": "fragment"
    }
   },
   "outputs": [],
   "source": [
    "print(bool.__bases__) #see that boolean is a subclass of integer"
   ]
  },
  {
   "cell_type": "markdown",
   "metadata": {
    "slideshow": {
     "slide_type": "slide"
    }
   },
   "source": [
    "#### Arithmetics with booleans"
   ]
  },
  {
   "cell_type": "code",
   "execution_count": null,
   "metadata": {
    "hide-output": false,
    "slideshow": {
     "slide_type": "fragment"
    }
   },
   "outputs": [],
   "source": [
    "z = (1 < 5) - 5\n",
    "z"
   ]
  },
  {
   "cell_type": "code",
   "execution_count": null,
   "metadata": {
    "hide-output": false,
    "slideshow": {
     "slide_type": "fragment"
    }
   },
   "outputs": [],
   "source": [
    "x = 15\n",
    "z = x * (x > 10) + x**2 * (x < 10)\n",
    "z"
   ]
  },
  {
   "cell_type": "markdown",
   "metadata": {
    "slideshow": {
     "slide_type": "fragment"
    }
   },
   "source": [
    "What if $ x=10 $ in the last example?"
   ]
  },
  {
   "cell_type": "markdown",
   "metadata": {
    "slideshow": {
     "slide_type": "slide"
    }
   },
   "source": [
    "#### Precedence of binary operators\n",
    "\n",
    "1. Power (**)  \n",
    "1. Multiple/devide  \n",
    "1. Plus/minus  \n",
    "1. Comparison operators (< >)  \n",
    "1. Equality operators (== !=)  \n",
    "1. Logical operators (and not or)  \n",
    "\n",
    "\n",
    "[Full table here](https://docs.python.org/3/reference/expressions.html#operator-precedence)"
   ]
  },
  {
   "cell_type": "code",
   "execution_count": null,
   "metadata": {
    "hide-output": false,
    "slideshow": {
     "slide_type": "slide"
    }
   },
   "outputs": [],
   "source": [
    "y = 5 - 4 > True\n",
    "y"
   ]
  },
  {
   "cell_type": "code",
   "execution_count": null,
   "metadata": {
    "hide-output": false,
    "slideshow": {
     "slide_type": "slide"
    }
   },
   "outputs": [],
   "source": [
    "y = 6 < 10 <= 15\n",
    "y"
   ]
  },
  {
   "cell_type": "code",
   "execution_count": null,
   "metadata": {
    "hide-output": false,
    "slideshow": {
     "slide_type": "slide"
    }
   },
   "outputs": [],
   "source": [
    "y = 5 / 2**4 < 10 or 15\n",
    "y"
   ]
  },
  {
   "cell_type": "markdown",
   "metadata": {
    "slideshow": {
     "slide_type": "slide"
    }
   },
   "source": [
    "#### Good practice\n",
    "\n",
    "Use brackets to avoid ambiguity!"
   ]
  },
  {
   "cell_type": "markdown",
   "metadata": {
    "slideshow": {
     "slide_type": "slide"
    }
   },
   "source": [
    "#### Float (floating point number)\n",
    "\n",
    "Representation for **real numbers**"
   ]
  },
  {
   "cell_type": "code",
   "execution_count": null,
   "metadata": {
    "hide-output": false,
    "slideshow": {
     "slide_type": "fragment"
    }
   },
   "outputs": [],
   "source": [
    "x = 183.0\n",
    "print(\"x is %r\" % x)\n",
    "print(\"Type of x is %s\" % type(x))"
   ]
  },
  {
   "cell_type": "markdown",
   "metadata": {
    "slideshow": {
     "slide_type": "slide"
    }
   },
   "source": [
    "#### Floats have min and max limits"
   ]
  },
  {
   "cell_type": "code",
   "execution_count": null,
   "metadata": {
    "hide-output": false,
    "slideshow": {
     "slide_type": "fragment"
    }
   },
   "outputs": [],
   "source": [
    "print(\"x takes %d bytes in memory\" % sys.getsizeof(x))\n",
    "\n",
    "sys.float_info"
   ]
  },
  {
   "cell_type": "markdown",
   "metadata": {
    "slideshow": {
     "slide_type": "slide"
    }
   },
   "source": [
    "#### Special values: Inf, -Inf, NaN"
   ]
  },
  {
   "cell_type": "code",
   "execution_count": null,
   "metadata": {
    "hide-output": false,
    "slideshow": {
     "slide_type": "fragment"
    }
   },
   "outputs": [],
   "source": [
    "x = 1.79769319e+308\n",
    "print(\"x is %r\" % x)\n",
    "print(\"Type of x is %s\" % type(x))\n",
    "print(\"x takes %d bytes in memory\" % sys.getsizeof(x))"
   ]
  },
  {
   "cell_type": "code",
   "execution_count": null,
   "metadata": {
    "hide-output": false,
    "slideshow": {
     "slide_type": "fragment"
    }
   },
   "outputs": [],
   "source": [
    "import math as m\n",
    "# import numpy as m\n",
    "x = m.log(0)         # implementations may vary in different packages/libraries!\n",
    "print(\"x is %r\" % x)\n",
    "print(\"Type of x is %s\" % type(x))\n",
    "print(\"x takes %d bytes in memory\" % sys.getsizeof(x))"
   ]
  },
  {
   "cell_type": "markdown",
   "metadata": {
    "slideshow": {
     "slide_type": "slide"
    }
   },
   "source": [
    "#### Complex numbers\n",
    "\n",
    "Representation for **imaginary numbers**"
   ]
  },
  {
   "cell_type": "code",
   "execution_count": null,
   "metadata": {
    "hide-output": false,
    "slideshow": {
     "slide_type": "fragment"
    }
   },
   "outputs": [],
   "source": [
    "x = 1j+5\n",
    "print(\"x is %r\" % x)\n",
    "print(\"Type of x is %s\" % type(x))\n",
    "print(\"x takes %d bytes in memory\" % sys.getsizeof(x))"
   ]
  },
  {
   "cell_type": "markdown",
   "metadata": {
    "slideshow": {
     "slide_type": "slide"
    }
   },
   "source": [
    "#### Euler formula\n",
    "\n",
    "$$\n",
    "e^{i \\pi}+1 = 0\n",
    "$$"
   ]
  },
  {
   "cell_type": "code",
   "execution_count": null,
   "metadata": {
    "hide-output": false,
    "slideshow": {
     "slide_type": "fragment"
    }
   },
   "outputs": [],
   "source": [
    "from cmath import exp, pi\n",
    "x=1j\n",
    "x = exp(x*pi)+1\n",
    "print(\"x is %r\" % x)\n",
    "print(\"|x| is %1.20f\" % abs(x))\n",
    "print(\"Type of x is %s\" % type(x))\n",
    "print(\"x takes %d bytes in memory\" % sys.getsizeof(x))"
   ]
  },
  {
   "cell_type": "markdown",
   "metadata": {
    "slideshow": {
     "slide_type": "slide"
    }
   },
   "source": [
    "#### Strings"
   ]
  },
  {
   "cell_type": "code",
   "execution_count": null,
   "metadata": {
    "hide-output": false,
    "slideshow": {
     "slide_type": "fragment"
    }
   },
   "outputs": [],
   "source": [
    "s='Hellow world'\n",
    "print(\"s is %r\" % s)\n",
    "print(\"Type of s is %s\" % type(s))\n",
    "print(\"Length of \\\"%s\\\" is %d\" %(s,len(s)))\n",
    "print(\"s takes %d bytes in memory\" % sys.getsizeof(s))"
   ]
  },
  {
   "cell_type": "markdown",
   "metadata": {
    "slideshow": {
     "slide_type": "slide"
    }
   },
   "source": [
    "#### Slicing strings"
   ]
  },
  {
   "cell_type": "code",
   "execution_count": null,
   "metadata": {
    "hide-output": false,
    "slideshow": {
     "slide_type": "fragment"
    }
   },
   "outputs": [],
   "source": [
    "s='Australian National University'\n",
    "#  012345678901234567890123456789\n",
    "\n",
    "print(\"s[0:9] is %r\" % s[0:9])     # from 1st up to and excluing 9th\n",
    "print(\"s[:9] is %r\" % s[:9])       # the same\n",
    "print(\"s[11:] is %r\" % s[11:])     # from 11th till the end\n",
    "print(\"s[-10:] is %r\" % s[-10:])   # 10th last till the end\n",
    "print(\"s[::3] is %r\" % s[::3])    # from beginning to end with step 3\n",
    "print(\"s[0:0:-1] is %r\" % s[::-1]) # from end till beginning with step -1 (reverse order)"
   ]
  },
  {
   "cell_type": "markdown",
   "metadata": {
    "slideshow": {
     "slide_type": "slide"
    }
   },
   "source": [
    "#### Slicing strings puzzle"
   ]
  },
  {
   "cell_type": "code",
   "execution_count": null,
   "metadata": {
    "hide-output": false,
    "slideshow": {
     "slide_type": "fragment"
    }
   },
   "outputs": [],
   "source": [
    "s='jde4jecc doij naajo rdmp hin0icbdrs1cgdhttuif 7gjxm'\n",
    "#  012345678901234567890123456789012345678901234567890\n",
    "\n",
    "print(\"s[0:9] is %r\" % s[::])     # output \"economics\""
   ]
  },
  {
   "cell_type": "markdown",
   "metadata": {
    "slideshow": {
     "slide_type": "slide"
    }
   },
   "source": [
    "#### Strings in the memory"
   ]
  },
  {
   "cell_type": "code",
   "execution_count": null,
   "metadata": {
    "hide-output": false,
    "slideshow": {
     "slide_type": "fragment"
    }
   },
   "outputs": [],
   "source": [
    "s=''\n",
    "for i in range(10):\n",
    "    s=s + 'a'\n",
    "    print(\"Memory(\\\"%s\\\", %d symbols) = %d bytes\"%(s,len(s),sys.getsizeof(s)))"
   ]
  },
  {
   "cell_type": "markdown",
   "metadata": {
    "slideshow": {
     "slide_type": "slide"
    }
   },
   "source": [
    "#### Integers in the memory"
   ]
  },
  {
   "cell_type": "code",
   "execution_count": null,
   "metadata": {
    "hide-output": false,
    "slideshow": {
     "slide_type": "fragment"
    }
   },
   "outputs": [],
   "source": [
    "x=2\n",
    "for i in range(10):\n",
    "    x**=2\n",
    "    print(\"Memory(\\\"%d\\\") = %d bytes\"%(x,sys.getsizeof(x)))"
   ]
  },
  {
   "cell_type": "markdown",
   "metadata": {
    "slideshow": {
     "slide_type": "slide"
    }
   },
   "source": [
    "#### Floats in the memory"
   ]
  },
  {
   "cell_type": "code",
   "execution_count": null,
   "metadata": {
    "hide-output": false,
    "slideshow": {
     "slide_type": "fragment"
    }
   },
   "outputs": [],
   "source": [
    "x=2.0\n",
    "for i in range(10):\n",
    "    x**=2\n",
    "    print(\"Memory(\\\"%e\\\") = %d bytes\"%(x,sys.getsizeof(x)))"
   ]
  },
  {
   "cell_type": "markdown",
   "metadata": {
    "slideshow": {
     "slide_type": "slide"
    }
   },
   "source": [
    "#### Assignment operator"
   ]
  },
  {
   "cell_type": "code",
   "execution_count": null,
   "metadata": {
    "hide-output": false,
    "slideshow": {
     "slide_type": "fragment"
    }
   },
   "outputs": [],
   "source": [
    "a = 21\n",
    "b = 10\n",
    "c = 2\n",
    "\n",
    "b **= c\n",
    "print (\"Line 1 - Value of b is %d\" % b)\n",
    "\n",
    "c *= a\n",
    "print (\"Line 2 - Value of c is %d\" % c)\n",
    "\n",
    "c -= a\n",
    "print (\"Line 3 - Value of c is %d\" % c)"
   ]
  },
  {
   "cell_type": "markdown",
   "metadata": {
    "slideshow": {
     "slide_type": "slide"
    }
   },
   "source": [
    "#### Id(.) function returns unique int for a variable (reference)\n",
    "\n",
    "Python implements complex memory management system to avoid unnecessary memory allocation"
   ]
  },
  {
   "cell_type": "code",
   "execution_count": null,
   "metadata": {
    "hide-output": false,
    "slideshow": {
     "slide_type": "fragment"
    }
   },
   "outputs": [],
   "source": [
    "x = 10\n",
    "print(\"Initial id(x) is %s\" % id(x))\n",
    "\n",
    "y = x\n",
    "print(\"        id(y) is %s\" % id(y))\n",
    "\n",
    "y +=x\n",
    "print(\"    Now id(y) is %s\" % id(y))"
   ]
  },
  {
   "cell_type": "markdown",
   "metadata": {
    "slideshow": {
     "slide_type": "slide"
    }
   },
   "source": [
    "### Composite variable types\n",
    "\n",
    "- **List** Collection of variables of any types, can be sliced like\n",
    "  strings  \n",
    "- **Tuple** Same as list but immutable (can not be edited)  \n",
    "- **Dictionary** Pairs of keys and values  \n",
    "- **Set** Unique elements of a collection (also has immutable\n",
    "  counterpart)  \n",
    "- **Range** Sequence of integers, useful for loops in the code!  "
   ]
  },
  {
   "cell_type": "markdown",
   "metadata": {
    "slideshow": {
     "slide_type": "slide"
    }
   },
   "source": [
    "#### Lists and tuples"
   ]
  },
  {
   "cell_type": "code",
   "execution_count": null,
   "metadata": {
    "hide-output": false,
    "slideshow": {
     "slide_type": "fragment"
    }
   },
   "outputs": [],
   "source": [
    "x = [True, 5, 5.2, 'string',]  # trailing comma is ignored\n",
    "y = (True, 5, 5.2, 'string',)\n",
    "\n",
    "print(\"x is %r\" % x)\n",
    "print(\"Type of x is %s\" % type(x))\n",
    "print(\"x takes %d bytes in memory\" % sys.getsizeof(x))\n",
    "print()\n",
    "print(\"y is (%r,%r,%r,%r)\" % y)\n",
    "print(\"Type of y is %s\" % type(y))\n",
    "print(\"Y takes %d bytes in memory\" % sys.getsizeof(y))"
   ]
  },
  {
   "cell_type": "markdown",
   "metadata": {
    "slideshow": {
     "slide_type": "slide"
    }
   },
   "source": [
    "#### Lists vs tuples"
   ]
  },
  {
   "cell_type": "code",
   "execution_count": null,
   "metadata": {
    "hide-output": false,
    "slideshow": {
     "slide_type": "fragment"
    }
   },
   "outputs": [],
   "source": [
    "x = [True, 5, 5.2, 'string',]  # last comma is ignored\n",
    "y = (True, 5, 5.2, 'string',)\n",
    "\n",
    "x[0] = 567;  # lists are mutable\n",
    "y[0] = 567;  # tuples are immutable -> ERROR"
   ]
  },
  {
   "cell_type": "markdown",
   "metadata": {
    "slideshow": {
     "slide_type": "slide"
    }
   },
   "source": [
    "#### Typical list operations"
   ]
  },
  {
   "cell_type": "code",
   "execution_count": null,
   "metadata": {
    "hide-output": false,
    "slideshow": {
     "slide_type": "fragment"
    }
   },
   "outputs": [],
   "source": [
    "x = [True, 5, 5.2, 'string', 4, 4+2j, 'again']\n",
    "print( x[0] )       # first element\n",
    "print( x[1:-1] )    # slicing as with strings\n",
    "print( len(x) )     # length of the list\n",
    "x.append(586)       # add a value at the end\n",
    "print(x)\n",
    "x.pop(3)            # remove fourth element\n",
    "print(x)"
   ]
  },
  {
   "cell_type": "markdown",
   "metadata": {
    "slideshow": {
     "slide_type": "slide"
    }
   },
   "source": [
    "### Further learning resources\n",
    "\n",
    "- Python book: Kevin Sheppard “Introduction to Python for Econometrics,\n",
    "  Statistics and Data Analysis.” 3rd Edition University of Oxford\n",
    "  Thursday 1st February, 2018.  \n",
    "- Precedence of binary operations\n",
    "  [https://www.tutorialspoint.com/python/operators_precedence_example.htm](https://www.tutorialspoint.com/python/operators_precedence_example.htm)  \n",
    "- Euler formula [https://www.youtube.com/watch?v=F_0yfvm0UoU](https://www.youtube.com/watch?v=F_0yfvm0UoU)  \n",
    "- Euler formula [https://www.youtube.com/watch?v=-dhHrg-KbJ0](https://www.youtube.com/watch?v=-dhHrg-KbJ0)  \n",
    "- Documenting your code\n",
    "  [https://realpython.com/documenting-python-code/](https://realpython.com/documenting-python-code/)  "
   ]
  }
 ],
 "metadata": {
  "celltoolbar": "Slideshow",
  "date": 1627474985.662034,
  "filename": "04_python_types.rst",
  "kernelspec": {
   "display_name": "Python",
   "language": "python3",
   "name": "python3"
  },
  "title": "Foundations of Computational Economics #4"
 },
 "nbformat": 4,
 "nbformat_minor": 4
}