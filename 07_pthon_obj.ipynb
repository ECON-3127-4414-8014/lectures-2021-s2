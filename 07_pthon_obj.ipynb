{
 "cells": [
  {
   "cell_type": "markdown",
   "metadata": {
    "slideshow": {
     "slide_type": "slide"
    }
   },
   "source": [
    "# Foundations of Computational Economics #7\n",
    "\n",
    "by Fedor Iskhakov, ANU\n",
    "\n",
    "<img src=\"_static/img/dag3logo.png\" style=\"width:256px;\">"
   ]
  },
  {
   "cell_type": "markdown",
   "metadata": {
    "slideshow": {
     "slide_type": "fragment"
    }
   },
   "source": [
    "## Python essentials: object-oriented programming\n",
    "\n",
    "<img src=\"_static/img/lecture.png\" style=\"width:64px;\">"
   ]
  },
  {
   "cell_type": "markdown",
   "metadata": {
    "slideshow": {
     "slide_type": "subslide"
    }
   },
   "source": [
    "<img src=\"_static/img/youtube.png\" style=\"width:65px;\">\n",
    "\n",
    "[https://youtu.be/mwplVDkfVU0](https://youtu.be/mwplVDkfVU0)\n",
    "\n",
    "Description: Classes and objects. Attributes, properties. Encapsulation, inheritance and polymorphism."
   ]
  },
  {
   "cell_type": "markdown",
   "metadata": {
    "slideshow": {
     "slide_type": "slide"
    }
   },
   "source": [
    "### Styles of programming languges\n",
    "\n",
    "- **Procedural programming**  \n",
    "  - Series of computational steps to be carried out  \n",
    "  - Routines/functions for modularization of steps  \n",
    "- **Functional programming**  \n",
    "  - programming with expressions or declarations instead of statements  \n",
    "- **Object-oriented programming**  \n",
    "  - classes and objects with attributes/properties and methods  \n",
    "\n",
    "\n",
    "Python is a pragmatic mix of styles"
   ]
  },
  {
   "cell_type": "markdown",
   "metadata": {
    "slideshow": {
     "slide_type": "slide"
    }
   },
   "source": [
    "#### Procedural programming"
   ]
  },
  {
   "cell_type": "code",
   "execution_count": null,
   "metadata": {
    "hide-output": false,
    "slideshow": {
     "slide_type": "fragment"
    }
   },
   "outputs": [],
   "source": [
    "def fibonacci_procedural(n, fst=1, sec=1):\n",
    "    ''' Return the Fibonacci sequence up to n as a list'''\n",
    "    f = [0]*n  # list of n zeros\n",
    "    f[0],f[1] = fst, sec\n",
    "    for i in range(2,n):\n",
    "        f[i] = f[i-1] + f[i-2]\n",
    "    return f\n",
    "\n",
    "x1, x2 = 1,1  # data stored outside\n",
    "for k in fibonacci_procedural(10,x1,x2):\n",
    "    print(k,end=' ')  # print without new line"
   ]
  },
  {
   "cell_type": "markdown",
   "metadata": {
    "slideshow": {
     "slide_type": "slide"
    }
   },
   "source": [
    "#### Functional programming"
   ]
  },
  {
   "cell_type": "code",
   "execution_count": null,
   "metadata": {
    "hide-output": false,
    "slideshow": {
     "slide_type": "fragment"
    }
   },
   "outputs": [],
   "source": [
    "# Returns Fibonacci sequence up to n as a list\n",
    "fibonacci_functional = (lambda n, first=1, second=1:\n",
    "    [] if n == 0 else\n",
    "    [first] + fibonacci_functional(n - 1, second, first + second))\n",
    "\n",
    "for k in fibonacci_functional(10):\n",
    "    print(k,end=' ')"
   ]
  },
  {
   "cell_type": "markdown",
   "metadata": {
    "slideshow": {
     "slide_type": "slide"
    }
   },
   "source": [
    "#### fibonacci_functional()\n",
    "\n",
    "- Lambda function of 3 arguments, last two are optional and defaulted to 1  \n",
    "- If $ n=0 $ returns empty list  \n",
    "- If $ n>0 $ proceed as follows:  \n",
    "  \n",
    "  - calls itself with decremented step counter and updated arguments  \n",
    "  - appends the returned list to the [first]  \n",
    "  \n",
    "- Altogether $ n $ recursive calls  \n",
    "  \n",
    "  - counting steps down from the initial $ n $ to 0  \n",
    "  - returning growing list of Fibonacci numbers  "
   ]
  },
  {
   "cell_type": "code",
   "execution_count": null,
   "metadata": {
    "hide-output": false,
    "slideshow": {
     "slide_type": "slide"
    }
   },
   "outputs": [],
   "source": [
    "# Count how many times the function is actually called\n",
    "\n",
    "fibonacci_functional = (lambda n, first=1, second=1:\n",
    "    print('.',end='') or (\n",
    "    [] if n == 0 else\n",
    "    [first] + fibonacci_functional(n - 1, second, first + second)))\n",
    "\n",
    "for k in fibonacci_functional(10):\n",
    "    print(k,end=' ')"
   ]
  },
  {
   "cell_type": "markdown",
   "metadata": {
    "slideshow": {
     "slide_type": "slide"
    }
   },
   "source": [
    "#### Object-oriented programming"
   ]
  },
  {
   "cell_type": "code",
   "execution_count": null,
   "metadata": {
    "hide-output": false,
    "slideshow": {
     "slide_type": "fragment"
    }
   },
   "outputs": [],
   "source": [
    "class fibonacci:\n",
    "    ''' Builds Fibonacci sequence up to n as a list'''\n",
    "    fst = 1  # data stored inside\n",
    "    sec = 1  # static attributes = the same for all objects\n",
    "\n",
    "    def __init__(self,n=5):  # initializer/constructor\n",
    "        self.n = n  # public attribute\n",
    "\n",
    "    def __call__(self):  # method to make object callable\n",
    "        f = [0]*self.n   # list of n zeros\n",
    "        f[0],f[1] = fibonacci.fst, fibonacci.sec\n",
    "        for i in range(2,self.n):\n",
    "            f[i] = f[i-1] + f[i-2]\n",
    "        return f\n",
    "\n",
    "f = fibonacci(10)     # instance of a class = object\n",
    "print(type(f))\n",
    "for k in f():         # call object fibonacci directly to get the list\n",
    "    print(k,end=' ')  # print without new line"
   ]
  },
  {
   "cell_type": "markdown",
   "metadata": {
    "slideshow": {
     "slide_type": "slide"
    }
   },
   "source": [
    "### Object-oriented programming (OOP)\n",
    "\n",
    "- Classes  \n",
    "- Objects  \n",
    "- Attributes/properties  \n",
    "- Methods  "
   ]
  },
  {
   "cell_type": "markdown",
   "metadata": {
    "slideshow": {
     "slide_type": "slide"
    }
   },
   "source": [
    "<img src=\"_static/img/oop.png\" style=\"width:1000px;\">"
   ]
  },
  {
   "cell_type": "markdown",
   "metadata": {
    "slideshow": {
     "slide_type": "slide"
    }
   },
   "source": [
    "#### OOP principles\n",
    "\n",
    "- **Encapsulation** and **Abstraction** = Combining functions\n",
    "  and related data withing the object, and exposing only needed interface\n",
    "  while hiding internal mechanism for independent code refactoring  \n",
    "- **Inheritance** = class hierarchies $ \\leftrightarrow $ inhereted\n",
    "  methods don’t have to be re-implemented, although can be replaced/overloaded  \n",
    "- **Polymorphism** = same functions/interfaces for different types\n",
    "  $ \\leftrightarrow $ classes have methods with same names  "
   ]
  },
  {
   "cell_type": "markdown",
   "metadata": {
    "slideshow": {
     "slide_type": "slide"
    }
   },
   "source": [
    "#### Function to explore the class/object structure"
   ]
  },
  {
   "cell_type": "code",
   "execution_count": null,
   "metadata": {
    "hide-output": false,
    "slideshow": {
     "slide_type": "fragment"
    }
   },
   "outputs": [],
   "source": [
    "%%writefile 'obj_explore.py'\n",
    "\n",
    "def obj_explore(obj,what='all'):\n",
    "    '''Lists attributes and methods of a class\n",
    "    Input arguments: obj = variable to explore,\n",
    "                     what = string with any combination of\n",
    "                            all, public, private, methods, properties\n",
    "    '''\n",
    "    import sys # this function will run rarely, so import here\n",
    "    trstr = lambda s: s[:30] if isinstance(s, str) else s  # truncates if string\n",
    "    spacer = lambda s: \" \"*max(15-len(s),2)  # returns spacer to pad strings\n",
    "    hr='-'*60  # horizontal line\n",
    "    print(obj)  # string representation of the input\n",
    "    print('%s\\nObject report on object = %r' % (hr,obj))\n",
    "    cl=type(obj)\n",
    "    print('Objec class     : %s' % cl)\n",
    "    print('Parent classes  : %r' % cl.__bases__)\n",
    "    print('Occupied memory : %d bytes' % sys.getsizeof(obj))\n",
    "    if what in 'all public properties':\n",
    "        print('PUBLIC PROPERTIES')\n",
    "        data = [(name,getattr(obj,name)) for name in dir(obj) if not callable(getattr(obj,name)) and name[0:2]!='__']\n",
    "        for item in data:\n",
    "            print('%s = %r %s' % (item[0]+spacer(item[0]),trstr(item[1]),type(item[1])))\n",
    "    if what in 'all private properties':\n",
    "        print('PRIVATE PROPERTIES')\n",
    "        data = [(name,getattr(obj,name)) for name in dir(obj) if not callable(getattr(obj,name)) and name[0:2]=='__']\n",
    "        for item in data:\n",
    "            print('%s = %r %s' % (item[0]+spacer(item[0]),trstr(item[1]),type(item[1])))\n",
    "    if what in 'all public methods':\n",
    "        print('PUBLIC METHODS')\n",
    "        data = [(name,getattr(obj,name)) for name in dir(obj) if callable(getattr(obj,name)) and name[0:2]!='__']\n",
    "        for item in data:\n",
    "            print('%s %s' % (item[0]+spacer(item[0]),type(item[1])))\n",
    "    if what in 'all private methods':\n",
    "        print('PRIVATE METHODS')\n",
    "        data = [(name,getattr(obj,name)) for name in dir(obj) if callable(getattr(obj,name)) and name[0:2]=='__']\n",
    "        for item in data:\n",
    "            print('%s %s' % (item[0]+spacer(item[0]),type(item[1])))"
   ]
  },
  {
   "cell_type": "code",
   "execution_count": null,
   "metadata": {
    "hide-output": false,
    "slideshow": {
     "slide_type": "slide"
    }
   },
   "outputs": [],
   "source": [
    "# import all functions from obj_explore.py\n",
    "from obj_explore import *\n",
    "help(obj_explore)"
   ]
  },
  {
   "cell_type": "code",
   "execution_count": null,
   "metadata": {
    "hide-output": false,
    "slideshow": {
     "slide_type": "slide"
    }
   },
   "outputs": [],
   "source": [
    "x = False # Boolean\n",
    "obj_explore(x)"
   ]
  },
  {
   "cell_type": "code",
   "execution_count": null,
   "metadata": {
    "hide-output": false,
    "slideshow": {
     "slide_type": "slide"
    }
   },
   "outputs": [],
   "source": [
    "x = 0b1010 # Integer\n",
    "obj_explore(x)"
   ]
  },
  {
   "cell_type": "code",
   "execution_count": null,
   "metadata": {
    "hide-output": false,
    "slideshow": {
     "slide_type": "slide"
    }
   },
   "outputs": [],
   "source": [
    "x = 4.32913 # Float\n",
    "obj_explore(x)"
   ]
  },
  {
   "cell_type": "code",
   "execution_count": null,
   "metadata": {
    "hide-output": false,
    "slideshow": {
     "slide_type": "slide"
    }
   },
   "outputs": [],
   "source": [
    "x = \"Australian National University\" # String\n",
    "obj_explore(x,'public methods')"
   ]
  },
  {
   "cell_type": "markdown",
   "metadata": {
    "slideshow": {
     "slide_type": "slide"
    }
   },
   "source": [
    "#### Polymorphism for strings\n",
    "\n",
    "- $ == $ (quality) $ \\rightarrow $ True/False  \n",
    "- $ + $ (addition) $ \\rightarrow $ concatenation  \n",
    "- $ - $ (subtraction) undefined  \n",
    "- $ * $ (multiplication) $ \\rightarrow $ repetition (int)  \n",
    "- $ / $ (devision) undefined  \n",
    "- $ < > \\le \\ge $ (comparison ) $ \\rightarrow $ lexicographical\n",
    "  comparison based on ASCII codes  "
   ]
  },
  {
   "cell_type": "code",
   "execution_count": null,
   "metadata": {
    "hide-output": false,
    "slideshow": {
     "slide_type": "slide"
    }
   },
   "outputs": [],
   "source": [
    "s1 = \"Economics \"\n",
    "s2 = \"Econometrics \"\n",
    "s1 + s2\n",
    "# s1+2\n",
    "# s1+str(2)\n",
    "# (s1+s2)*2\n",
    "# (s1+s2)*2 == s1*2 + s2*2"
   ]
  },
  {
   "cell_type": "code",
   "execution_count": null,
   "metadata": {
    "hide-output": false,
    "slideshow": {
     "slide_type": "slide"
    }
   },
   "outputs": [],
   "source": [
    "x = [4,5,'hello'] # List\n",
    "obj_explore(x,'public')"
   ]
  },
  {
   "cell_type": "code",
   "execution_count": null,
   "metadata": {
    "hide-output": false,
    "slideshow": {
     "slide_type": "slide"
    }
   },
   "outputs": [],
   "source": [
    "x = (4,5,'hello') # Tuple => immutable\n",
    "obj_explore(x,'public')"
   ]
  },
  {
   "cell_type": "code",
   "execution_count": null,
   "metadata": {
    "hide-output": false,
    "slideshow": {
     "slide_type": "slide"
    }
   },
   "outputs": [],
   "source": [
    "x = {\"key\": \"value\",\"another_key\": 574} # Dictionary\n",
    "obj_explore(x)"
   ]
  },
  {
   "cell_type": "markdown",
   "metadata": {
    "slideshow": {
     "slide_type": "slide"
    }
   },
   "source": [
    "#### Inheritance for booleans\n",
    "\n",
    "By-default copy of all methods and properties"
   ]
  },
  {
   "cell_type": "code",
   "execution_count": null,
   "metadata": {
    "hide-output": false,
    "slideshow": {
     "slide_type": "fragment"
    }
   },
   "outputs": [],
   "source": [
    "x=True\n",
    "cl=type(x)\n",
    "print(\"Own class   : %s\" % cl) # list of parent classes\n",
    "print(\"Parent class: %s\" % cl.__bases__) # list of parent classes"
   ]
  },
  {
   "cell_type": "code",
   "execution_count": null,
   "metadata": {
    "hide-output": false,
    "slideshow": {
     "slide_type": "slide"
    }
   },
   "outputs": [],
   "source": [
    "f = lambda x: x  # identity lambda-function\n",
    "obj_explore(f,'methods')"
   ]
  },
  {
   "cell_type": "markdown",
   "metadata": {
    "slideshow": {
     "slide_type": "slide"
    }
   },
   "source": [
    "#### Everything in Python is an object!\n",
    "\n",
    "- Variables of all types  \n",
    "- Functions, both custom and inbuilt  \n",
    "- Imported modules  \n",
    "- Input and output (files)  \n",
    "- etc.  "
   ]
  },
  {
   "cell_type": "markdown",
   "metadata": {
    "slideshow": {
     "slide_type": "slide"
    }
   },
   "source": [
    "### How to write classes\n",
    "\n",
    "1. When do I need a class/object?  \n",
    "  - collection of model parameters  \n",
    "  - repeatedly used complex *things*  \n",
    "  - note: collection of functions is **module** = .py file with defs  \n",
    "1. Syntax  \n",
    "\n",
    "\n",
    "List of standard methods:\n",
    "[https://docs.python.org/3/reference/datamodel.html#special-method-names](https://docs.python.org/3/reference/datamodel.html#special-method-names)"
   ]
  },
  {
   "cell_type": "code",
   "execution_count": null,
   "metadata": {
    "hide-output": false,
    "slideshow": {
     "slide_type": "slide"
    }
   },
   "outputs": [],
   "source": [
    "class Firm:\n",
    "    '''Stores the parameters of the production function f(k) = Ak^α,\n",
    "    implements the function.\n",
    "    '''\n",
    "    def __init__(self, α=0.5, A=2.0):  # initializer\n",
    "        self.α = α  # Public properties\n",
    "        self.A = A\n",
    "\n",
    "    def production(self, val):  # public method\n",
    "        return self.A * val**self.α"
   ]
  },
  {
   "cell_type": "code",
   "execution_count": null,
   "metadata": {
    "hide-output": false,
    "slideshow": {
     "slide_type": "slide"
    }
   },
   "outputs": [],
   "source": [
    "firm1 = Firm()\n",
    "obj_explore(firm1)\n",
    "firm2 = Firm(A=3.0)\n",
    "firm3 = Firm(A=4.0)\n",
    "\n",
    "# firm1.α\n",
    "k = 10.0\n",
    "print(firm1.production(k))\n",
    "print(firm2.production(k))\n",
    "print(firm3.production(k))"
   ]
  },
  {
   "cell_type": "code",
   "execution_count": null,
   "metadata": {
    "hide-output": false,
    "slideshow": {
     "slide_type": "slide"
    }
   },
   "outputs": [],
   "source": [
    "class Polynomial():\n",
    "    ''' Class to implement polynomial objects and binary operations on polynomialss\n",
    "    '''\n",
    "\n",
    "    def __init__(self, coeffs=[0,]):  # Initialization\n",
    "        # Public properties\n",
    "        self.degree = len(coeffs) - 1\n",
    "        self.rep = self.str(coeffs)\n",
    "        self.coefficients = coeffs\n",
    "\n",
    "    def __repr__(self):\n",
    "        # Screen reprentation\n",
    "        return self.rep\n",
    "\n",
    "    def str(self, coeffs):\n",
    "        # Create list of nonzero terms\n",
    "        terms = [str(coeffs[k]) + 'x^' + str(k) for k in range(0, self.degree + 1) if coeffs[k] != 0]\n",
    "        # If zero polynomial, return 0\n",
    "        if len(terms) == 0:\n",
    "            return str(0)\n",
    "        # Replace 0 and 1 powers\n",
    "        if coeffs[0]!=0:\n",
    "            terms[0] = str(coeffs[0])\n",
    "        if len(coeffs)>1 and coeffs[1]!=0:\n",
    "            terms[1] = str(coeffs[1]) + 'x'\n",
    "        # Finally, concatenate terms using +\n",
    "        return ' + '.join(terms)\n",
    "\n",
    "    def __add__(self, other):\n",
    "        '''Overloads the + operator.'''\n",
    "        d = max(self.degree, other.degree) + 1  # max length of polynomials' coeff lists\n",
    "        self_temp = self.coefficients + [0]*(d-self.degree-1)  # pad coeffs lists with 0s until equal length\n",
    "        other_temp = other.coefficients + [0]*(d-other.degree-1)\n",
    "        new_temp = [self_temp[i] + other_temp[i] for i in range(d)] # sum coeffs lists elementwise\n",
    "        return Polynomial(new_temp)  # return NEW polynomial\n",
    "\n",
    "    def __mul__(self, other):\n",
    "        '''Overloads the * operator.'''\n",
    "        n = self.degree + other.degree      # degree of the product\n",
    "        prod_coeffs = [0]*(n+1)             # initalize coefficient list of product\n",
    "        for i in range(0, self.degree + 1): # compute product\n",
    "            for j in range(0, other.degree + 1):\n",
    "                prod_coeffs[i+j] += self.coefficients[i] * other.coefficients[j]\n",
    "        return Polynomial(prod_coeffs)  # return NEW polynomial\n",
    "\n",
    "    def __call__(self, val):\n",
    "        '''Evaluates the polynomial at x = val.'''\n",
    "        res=self.coefficients[0]\n",
    "        x=val\n",
    "        for i in range(self.degree):  # using the loop avoid power calculation!\n",
    "            res += x*self.coefficients[i+1]\n",
    "            x*=val\n",
    "        return res"
   ]
  },
  {
   "cell_type": "code",
   "execution_count": null,
   "metadata": {
    "hide-output": false,
    "slideshow": {
     "slide_type": "slide"
    }
   },
   "outputs": [],
   "source": [
    "p=Polynomial([1,2,3])\n",
    "obj_explore(p,'public')"
   ]
  },
  {
   "cell_type": "code",
   "execution_count": null,
   "metadata": {
    "hide-output": false,
    "slideshow": {
     "slide_type": "slide"
    }
   },
   "outputs": [],
   "source": [
    "p1=Polynomial([1,2,5,0,0,4])\n",
    "print('p1(x) = %r' % p1)\n",
    "print('p1(5) = %r' % p1(5))\n",
    "p2=Polynomial([10,0,3,7])\n",
    "print('p2 = %r' % p2)\n",
    "print('p2(2) = %r' % p2(2))\n",
    "\n",
    "p3=p1+p2\n",
    "print('Sum     %r' % p3)\n",
    "p3=p1*p2\n",
    "print('Product %r' % p3)"
   ]
  },
  {
   "cell_type": "markdown",
   "metadata": {
    "slideshow": {
     "slide_type": "slide"
    }
   },
   "source": [
    "### Further learning resources\n",
    "\n",
    "- Simple explanation to main concepts of OOP\n",
    "  [https://www.youtube.com/watch?v=pTB0EiLXUC8](https://www.youtube.com/watch?v=pTB0EiLXUC8)  \n",
    "- List of standard methods of Python class\n",
    "  [https://docs.python.org/3/reference/datamodel.html#special-method-names](https://docs.python.org/3/reference/datamodel.html#special-method-names)  "
   ]
  }
 ],
 "metadata": {
  "celltoolbar": "Slideshow",
  "date": 1627474985.760833,
  "filename": "07_pthon_obj.rst",
  "kernelspec": {
   "display_name": "Python",
   "language": "python3",
   "name": "python3"
  },
  "title": "Foundations of Computational Economics #7"
 },
 "nbformat": 4,
 "nbformat_minor": 4
}