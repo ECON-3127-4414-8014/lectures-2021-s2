{
 "cells": [
  {
   "cell_type": "markdown",
   "metadata": {
    "slideshow": {
     "slide_type": "slide"
    }
   },
   "source": [
    "# Foundations of Computational Economics #17\n",
    "\n",
    "by Fedor Iskhakov, ANU\n",
    "\n",
    "<img src=\"_static/img/dag3logo.png\" style=\"width:256px;\">"
   ]
  },
  {
   "cell_type": "markdown",
   "metadata": {
    "slideshow": {
     "slide_type": "fragment"
    }
   },
   "source": [
    "## Linear regression using Pandas and Numpy\n",
    "\n",
    "<img src=\"_static/img/lab.png\" style=\"width:64px;\">"
   ]
  },
  {
   "cell_type": "markdown",
   "metadata": {
    "slideshow": {
     "slide_type": "subslide"
    }
   },
   "source": [
    "<img src=\"_static/img/youtube.png\" style=\"width:65px;\">\n",
    "\n",
    "[https://youtu.be/LafDXp28IRE](https://youtu.be/LafDXp28IRE)\n",
    "\n",
    "Description: Using Numpy and Pandas to estimate simple regression."
   ]
  },
  {
   "cell_type": "markdown",
   "metadata": {
    "slideshow": {
     "slide_type": "slide"
    }
   },
   "source": [
    "### Linear regression\n",
    "\n",
    "Recall the classic linear regression model with data in columns of\n",
    "$ (X,y) $, where $ X $ are independent variables and $ y $ is\n",
    "the dependent variable.\n",
    "Parameter vector to be estimated is $ \\beta $, and we assume that\n",
    "errors follow $ \\varepsilon \\sim N(0, \\sigma) $\n",
    "\n",
    "$$\n",
    "y = X \\beta + \\varepsilon \\quad \\quad \\varepsilon \\sim N(0, \\sigma)\n",
    "$$\n",
    "\n",
    "Let $ \\hat{\\beta} $ denote the estimate of the parameters $ \\beta $.\n",
    "To find it, we minimize the sum of squares of the residuals\n",
    "$ e = y - X \\hat{\\beta} $, i.e. $ e'e \\longrightarrow_{\\hat{\\beta}} \\min $,\n",
    "which leads to the well known OLS formula\n",
    "\n",
    "$$\n",
    "\\hat{\\beta} = (X'X)^{-1} X' y\n",
    "$$\n",
    "\n",
    "The mean standard error (MSE) of the regression is calculated as $ s = \\sqrt{\\frac{1}{n-k} e'e} $,\n",
    "where $ n $ is the number of observations and $ k $ is the number of parameters (elements in $ \\beta $).\n",
    "\n",
    "The variance-covariance matrix of the estimates is given by $ \\hat{\\Sigma} = s^2 (X'X)^{-1} $.\n",
    "The square root of the diagonal elements of this matrix are them standard deviations of the estimates, and give us the measure of the accuracy of the estimated parameters.\n",
    "\n",
    "[William Greene “Econometric Analysis”](https://books.google.com.au/books?id=LWQuAAAAQBAJ&dq=greene%20econometric%20analysis)"
   ]
  },
  {
   "cell_type": "code",
   "execution_count": null,
   "metadata": {
    "hide-output": false,
    "slideshow": {
     "slide_type": "slide"
    }
   },
   "outputs": [],
   "source": [
    "import numpy as np\n",
    "def ols(X,y,addConstant=True,verbose=True):\n",
    "    '''Return the OLS estimates and their variance-covariance matrix for the given data X,y\n",
    "    When addConstant is True, constant is added to X\n",
    "    When verbose is True, a report is printed\n",
    "    '''\n",
    "    pass"
   ]
  },
  {
   "cell_type": "code",
   "execution_count": null,
   "metadata": {
    "hide-output": false,
    "slideshow": {
     "slide_type": "slide"
    }
   },
   "outputs": [],
   "source": [
    "# test on small dataset\n",
    "X = np.array([[5, 3],\n",
    "              [2, 3],\n",
    "              [3, 1],\n",
    "              [2, 8],\n",
    "              [4.5, 2.5],\n",
    "              [2.5, 1.5],\n",
    "              [4.3, 4.2],\n",
    "              [0.5, 3.5],\n",
    "              [1, 5],\n",
    "              [3, 8]])\n",
    "truebeta = np.array([1.234,-0.345])[:,np.newaxis]  # column vector\n",
    "y = X @ truebeta + 2.5 + np.random.normal(size=(X.shape[0],1),scale=0.2)\n",
    "\n",
    "beta,S=ols(X,y)\n",
    "beta,S=ols(X,y,addConstant=False)"
   ]
  },
  {
   "cell_type": "code",
   "execution_count": null,
   "metadata": {
    "hide-output": false,
    "slideshow": {
     "slide_type": "slide"
    }
   },
   "outputs": [],
   "source": [
    "# test with one dimensional arrays\n",
    "X = np.array([1,2,3,4,5,6,7,8,9,10])\n",
    "y = np.array([9.4,8.1,7.7,6.3,5.7,4.4,3.0,2.1,1.1,0.8])\n",
    "\n",
    "beta,S=ols(X,y)\n",
    "beta,S=ols(X,y,addConstant=False)"
   ]
  },
  {
   "cell_type": "code",
   "execution_count": null,
   "metadata": {
    "hide-output": false,
    "slideshow": {
     "slide_type": "slide"
    }
   },
   "outputs": [],
   "source": [
    "import numpy as np\n",
    "def ols(X,y,addConstant=True,verbose=True):\n",
    "    '''Return the OLS estimates and their variance-covariance matrix for the given data X,y\n",
    "    When addConstant is True, constant is added to X\n",
    "    When verbose is True, a report is printed\n",
    "    '''\n",
    "    y = y.squeeze()  # we are better off if y is one-dimensional\n",
    "    if addConstant and X.ndim==1:\n",
    "        X = np.hstack((np.ones(X.shape[0])[:,np.newaxis],X[:,np.newaxis]))\n",
    "        k = 2\n",
    "    elif addConstant and X.ndim>1:\n",
    "        X = np.hstack((np.ones(X.shape[0])[:,np.newaxis],X))\n",
    "        k = X.shape[1]+1\n",
    "    elif X.ndim==1:\n",
    "        X = X[:,np.newaxis]\n",
    "    xxinv = np.linalg.inv(X.T@X)  # inv(X'X)\n",
    "    beta = xxinv @ X.T@y  # OLS estimates\n",
    "    e = y - X@beta  # residuals\n",
    "    n,k = X.shape  # number of observations and parameters\n",
    "    s2 = e.T@e / (n-k)\n",
    "    Sigma = s2*xxinv\n",
    "    if verbose:\n",
    "        # report the estimates\n",
    "        print('Number of observations: {:d}\\nNumber of parameters: {:d}'.format(n,k))\n",
    "        print('Parameter estimates (std in brackets)')\n",
    "        for b,s in zip(beta,np.sqrt(np.diag(Sigma))):\n",
    "            print('{:10.5f} ({:10.5f})'.format(b,s))\n",
    "        print('MSE = {:1.5f}\\n'.format(np.sqrt(s2)))\n",
    "    return beta,Sigma"
   ]
  },
  {
   "cell_type": "markdown",
   "metadata": {
    "slideshow": {
     "slide_type": "slide"
    }
   },
   "source": [
    "### Data on median wages\n",
    "\n",
    "**The Economic Guide To Picking A College Major**\n",
    "\n",
    "Data dictionary available at\n",
    "\n",
    "[https://github.com/fivethirtyeight/data/tree/master/college-majors](https://github.com/fivethirtyeight/data/tree/master/college-majors)"
   ]
  },
  {
   "cell_type": "code",
   "execution_count": null,
   "metadata": {
    "hide-output": false,
    "slideshow": {
     "slide_type": "fragment"
    }
   },
   "outputs": [],
   "source": [
    "import pandas as pd\n",
    "# same data as in video 15\n",
    "data = pd.read_csv('./_static/data/recent-grads.csv')"
   ]
  },
  {
   "cell_type": "code",
   "execution_count": null,
   "metadata": {
    "hide-output": false,
    "slideshow": {
     "slide_type": "slide"
    }
   },
   "outputs": [],
   "source": [
    "data.info()"
   ]
  },
  {
   "cell_type": "code",
   "execution_count": null,
   "metadata": {
    "hide-output": false,
    "slideshow": {
     "slide_type": "slide"
    }
   },
   "outputs": [],
   "source": [
    "data.head(n=15)"
   ]
  },
  {
   "cell_type": "code",
   "execution_count": null,
   "metadata": {
    "hide-output": false,
    "slideshow": {
     "slide_type": "slide"
    }
   },
   "outputs": [],
   "source": [
    "import matplotlib.pyplot as plt\n",
    "%matplotlib inline\n",
    "data.plot(x='ShareWomen', y='Median', kind='scatter', figsize=(10, 8), color='red')\n",
    "plt.xlabel('Share of women')\n",
    "plt.ylabel('Median salary')\n",
    "# add a linear regression line to the plot"
   ]
  },
  {
   "cell_type": "code",
   "execution_count": null,
   "metadata": {
    "hide-output": false,
    "slideshow": {
     "slide_type": "slide"
    }
   },
   "outputs": [],
   "source": [
    "print(data[['Median','ShareWomen']].isnull().sum()) # check if there are NaNs in the data!\n",
    "data1 = data[['Median','ShareWomen']].dropna()  # drop NaNs\n",
    "data1.plot(x='ShareWomen', y='Median', kind='scatter', figsize=(10, 8), color='red')\n",
    "plt.xlabel('Share of women')\n",
    "plt.ylabel('Median salary')\n",
    "# add a linear regression line to the plot\n",
    "b,_ = ols(X=data['ShareWomen'],y=data['Median'],verbose=False)\n",
    "fn = lambda x: b[0]+b[1]*x\n",
    "xx = np.linspace(0,1,100)\n",
    "plt.plot(xx,fn(xx),color='navy',linewidth=3)\n",
    "plt.show()"
   ]
  },
  {
   "cell_type": "code",
   "execution_count": null,
   "metadata": {
    "hide-output": false,
    "slideshow": {
     "slide_type": "slide"
    }
   },
   "outputs": [],
   "source": [
    "# create fraction variables\n",
    "data.drop(index=data[data['Total']==0].index,inplace=True)  # drop zero Totals\n",
    "data.drop(index=data[data['Employed']==0].index,inplace=True)  # drop zero Employed\n",
    "data['Employment rate'] = data['Employed'] / data['Total']\n",
    "data['Fulltime rate'] = data['Full_time'] / data['Employed']\n",
    "data2 = data[['Median','ShareWomen','Employment rate','Fulltime rate']].dropna()  # drop NaNs\n",
    "y = data2['Median']/1000  # rescale salary"
   ]
  },
  {
   "cell_type": "code",
   "execution_count": null,
   "metadata": {
    "hide-output": false,
    "slideshow": {
     "slide_type": "slide"
    }
   },
   "outputs": [],
   "source": [
    "# run the full model\n",
    "ols(data2[['ShareWomen','Employment rate','Fulltime rate']],y);"
   ]
  },
  {
   "cell_type": "markdown",
   "metadata": {
    "slideshow": {
     "slide_type": "slide"
    }
   },
   "source": [
    "#### Further learning resources\n",
    "\n",
    "- Regression analysis using `sklearn` library\n",
    "  [https://datascience.quantecon.org/applications/regression.html](https://datascience.quantecon.org/applications/regression.html)  "
   ]
  }
 ],
 "metadata": {
  "celltoolbar": "Slideshow",
  "date": 1627474986.0993931,
  "filename": "17_linear_reg.rst",
  "kernelspec": {
   "display_name": "Python",
   "language": "python3",
   "name": "python3"
  },
  "title": "Foundations of Computational Economics #17"
 },
 "nbformat": 4,
 "nbformat_minor": 4
}