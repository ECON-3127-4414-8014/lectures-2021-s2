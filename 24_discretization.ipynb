{
 "cells": [
  {
   "cell_type": "markdown",
   "metadata": {
    "slideshow": {
     "slide_type": "slide"
    }
   },
   "source": [
    "# Foundations of Computational Economics #24\n",
    "\n",
    "by Fedor Iskhakov, ANU\n",
    "\n",
    "<img src=\"_static/img/dag3logo.png\" style=\"width:256px;\">"
   ]
  },
  {
   "cell_type": "markdown",
   "metadata": {
    "slideshow": {
     "slide_type": "fragment"
    }
   },
   "source": [
    "## Optimization through discretization (grid search)\n",
    "\n",
    "<img src=\"_static/img/lecture.png\" style=\"width:64px;\">"
   ]
  },
  {
   "cell_type": "markdown",
   "metadata": {
    "slideshow": {
     "slide_type": "subslide"
    }
   },
   "source": [
    "<img src=\"_static/img/youtube.png\" style=\"width:65px;\">\n",
    "\n",
    "[https://youtu.be/LyWRehkzIws](https://youtu.be/LyWRehkzIws)\n",
    "\n",
    "Description: Grid search method and its use cases."
   ]
  },
  {
   "cell_type": "markdown",
   "metadata": {
    "slideshow": {
     "slide_type": "slide"
    }
   },
   "source": [
    "- Elementary technique of finding a maximum or minimum of a function  \n",
    "- Main advantage: **robust**\n",
    "  - works with *nasty* functions\n",
    "  - derivative free\n",
    "  - approximates **global** optimum  \n",
    "- Main disadvantage: everything else\n",
    "  - slow\n",
    "  - imprecise\n",
    "  - terrible in multivariate problems  \n",
    "- Why used so much in economics?\n",
    "  - objective function may be nasty\n",
    "  - **as first step method** in multi-algorithms  "
   ]
  },
  {
   "cell_type": "markdown",
   "metadata": {
    "slideshow": {
     "slide_type": "slide"
    }
   },
   "source": [
    "### Algorithm\n",
    "\n",
    "$$\n",
    "f(x) \\longrightarrow \\max\n",
    "$$\n",
    "\n",
    "1. Take a starting value $ x_0 $, define a region of search, i.e. $ I = (x_0-a,x_0+b) $  \n",
    "1. Impose on $ I $ a discrete grid consisting of point $ x_i, i \\in 1,\\dots,n $  \n",
    "1. Compute $ f(x_i) $ for all $ i $  \n",
    "1. Return the maximum of $ f(x_i) $ as the result  "
   ]
  },
  {
   "cell_type": "markdown",
   "metadata": {
    "slideshow": {
     "slide_type": "slide"
    }
   },
   "source": [
    "### Example\n",
    "\n",
    "$$\n",
    "\\max_{x \\in \\mathbb{R}} f(x) = -x^4 + 2.5x^2 + x + 10\n",
    "$$\n",
    "\n",
    "First order condition leads to the critical points analytitcally:\n",
    "\n",
    "$$\n",
    "\\begin{eqnarray}\n",
    "f'(x)=-4x^3 + 5x +1 &=& 0 \\\\\n",
    "-4x(x^2-1) + x+1 &=& 0 \\\\\n",
    "(x+1)(-4x^2+4x+1) &=& 0 \\\\\n",
    "\\big(x+1\\big)\\big(x-\\frac{1}{2}-\\frac{1}{\\sqrt{2}}\\big)\\big(x-\\frac{1}{2}+\\frac{1}{\\sqrt{2}}\\big) &=& 0\n",
    "\\end{eqnarray}\n",
    "$$"
   ]
  },
  {
   "cell_type": "code",
   "execution_count": null,
   "metadata": {
    "hide-output": false,
    "slideshow": {
     "slide_type": "slide"
    }
   },
   "outputs": [],
   "source": [
    "import numpy as np\n",
    "import matplotlib.pyplot as plt\n",
    "%matplotlib inline\n",
    "plt.rcParams['figure.figsize'] = [12, 8]\n",
    "\n",
    "f = lambda x: -x**4+2.5*x**2+x+10\n",
    "df = lambda x: -4*x**3+5*x+1\n",
    "d2f = lambda x: -12*x**2+5\n",
    "critical_values = [-1.0,0.5 - 1/np.sqrt(2),0.5 + 1/np.sqrt(2)]  # analytic"
   ]
  },
  {
   "cell_type": "code",
   "execution_count": null,
   "metadata": {
    "hide-output": false,
    "slideshow": {
     "slide_type": "slide"
    }
   },
   "outputs": [],
   "source": [
    "# make a plot of the function and its derivative\n",
    "xd = np.linspace(-2,2,1000)\n",
    "plt.plot(xd,f(xd),label='function',c='red')\n",
    "plt.plot(xd,df(xd),label='derivative',c='darkgrey')\n",
    "plt.plot(xd,d2f(xd),label='2nd derivative',c='lightgrey')\n",
    "plt.grid(True)\n",
    "plt.legend()\n",
    "for cr in critical_values:\n",
    "    plt.plot([cr,cr],[-6,15],c='k',linestyle=':')"
   ]
  },
  {
   "cell_type": "code",
   "execution_count": null,
   "metadata": {
    "hide-output": false,
    "slideshow": {
     "slide_type": "slide"
    }
   },
   "outputs": [],
   "source": [
    "import sys\n",
    "sys.path.insert(1, './_static/include/')  # add path to the modules directory\n",
    "import optim as o  # import our own optimization routines from last several lectures, see optim.py\n",
    "help(o)"
   ]
  },
  {
   "cell_type": "code",
   "execution_count": null,
   "metadata": {
    "hide-output": false,
    "slideshow": {
     "slide_type": "slide"
    }
   },
   "outputs": [],
   "source": [
    "# first, try to optimize with Newton\n",
    "xs=[]\n",
    "for x0 in [0.5,-0.5,1.0]:  # try different starting values\n",
    "    xs.append( o.newton(df,d2f,x0))\n",
    "print('Newton converged to: %r'%xs)"
   ]
  },
  {
   "cell_type": "code",
   "execution_count": null,
   "metadata": {
    "hide-output": false,
    "slideshow": {
     "slide_type": "slide"
    }
   },
   "outputs": [],
   "source": [
    "# optimization through discretization\n",
    "def grid_search(fun,bounds=(0,1),ngrid=10):\n",
    "    '''Grid search between given bounds over given number of points'''\n",
    "    grid = np.linspace(*bounds,ngrid)\n",
    "    func = fun(grid)\n",
    "    i = np.argmax(func)  # index of the element attaining maximum\n",
    "    return grid[i]\n",
    "\n",
    "b0,b1 = -2,2  # bounds of region of search\n",
    "xs = grid_search(fun=f,bounds=(b0,b1),ngrid=10)\n",
    "cr = critical_values[np.argmin(np.abs(critical_values-xs))]\n",
    "print('Grid search returned x*=%1.5f (closest to critical point %1.5f, diff=%1.3e)'%(xs,cr,np.abs(xs-cr)))"
   ]
  },
  {
   "cell_type": "code",
   "execution_count": null,
   "metadata": {
    "hide-output": false,
    "slideshow": {
     "slide_type": "slide"
    }
   },
   "outputs": [],
   "source": [
    "# check how fast accuracy increases with the number of grid points\n",
    "data = {'n':[2**i for i in range(20)]}\n",
    "data['err'] = np.empty(shape=len(data['n']))\n",
    "for i,n in enumerate(data['n']):\n",
    "    xs = grid_search(fun=f,bounds=(b0,b1),ngrid=n)\n",
    "    cr = critical_values[np.argmin(np.abs(critical_values-xs))]\n",
    "    data['err'][i] = np.abs(xs-cr)\n",
    "plt.plot(data['n'],data['err'],marker='o')\n",
    "plt.yscale('log')"
   ]
  },
  {
   "cell_type": "markdown",
   "metadata": {
    "slideshow": {
     "slide_type": "slide"
    }
   },
   "source": [
    "#### More appropriate example\n",
    "\n",
    "- grid search is slow and inaccurate  \n",
    "- yet, it picks out the **global** optimum every time  \n",
    "- more appropriate example:  \n",
    "\n",
    "\n",
    "$$\n",
    "f(x) = \\begin{cases}\n",
    "\\exp(x+3) \\text{ if } x \\in (-\\infty,-1] \\\\\n",
    "10x+13 \\text{ if } x \\in (-1,-0.5] \\\\\n",
    "75x^3 \\text{ if } x \\in (-0.5,0.5] \\\\\n",
    "5 \\text{ if } x \\in (0.5,1.5] \\\\\n",
    "\\log(x-1.5) \\text{ if } x \\in (1.5,+\\infty) \\\\\n",
    "\\end{cases}\n",
    "$$"
   ]
  },
  {
   "cell_type": "code",
   "execution_count": null,
   "metadata": {
    "hide-output": false,
    "slideshow": {
     "slide_type": "slide"
    }
   },
   "outputs": [],
   "source": [
    "def f(x):\n",
    "    x = np.asarray(x)\n",
    "    if x.size==1:\n",
    "        x = x[np.newaxis]  # to be able to process scalars in the same way\n",
    "    res = np.empty(shape=x.shape)\n",
    "    for i,ix in enumerate(x):\n",
    "        if ix<=-1:\n",
    "            res[i] = np.exp(ix+3)\n",
    "        elif -1 < ix <= -0.5:\n",
    "            res[i] = 10*ix+13\n",
    "        elif -0.5 < ix <= 0.5:\n",
    "            res[i] = 75*ix**3\n",
    "        elif 0.5 < ix <= 1.5:\n",
    "            res[i] = 5.0\n",
    "        else:\n",
    "            res[i] = np.log(ix-1.5)\n",
    "    return res"
   ]
  },
  {
   "cell_type": "code",
   "execution_count": null,
   "metadata": {
    "hide-output": false,
    "slideshow": {
     "slide_type": "slide"
    }
   },
   "outputs": [],
   "source": [
    "# plot\n",
    "xd = np.linspace(-2,2,1000)\n",
    "plt.plot(xd,f(xd),label='function',c='red')\n",
    "plt.ylim((-10,10))\n",
    "plt.grid(True)\n",
    "plt.show()"
   ]
  },
  {
   "cell_type": "markdown",
   "metadata": {
    "slideshow": {
     "slide_type": "slide"
    }
   },
   "source": [
    "### Why is this hard\n",
    "\n",
    "*Any function with cases is usually nasty*\n",
    "\n",
    "- kinks are non-differentiable points, trouble for Newton method  \n",
    "- discontinuities are troubles for existence of either roots or maximum (think $ 1/x $ which illustrates both cases)  \n",
    "- multiple local optima are troubles for non-global methods  \n",
    "- regions where the function is completely flat will likely trigger the stopping criterion, trouble for convergence  \n",
    "\n",
    "\n",
    "Discretization and grid search may be the only option!"
   ]
  },
  {
   "cell_type": "markdown",
   "metadata": {
    "slideshow": {
     "slide_type": "slide"
    }
   },
   "source": [
    "### Examples of having to work with hard cases\n",
    "\n",
    "- economic model may have discontinuities and/or kinks  \n",
    "- estimation procedure may require working with piecewise flat and/or discontinuous functions  \n",
    "- the function at hand may be costly to compute or unclear in nature (or subject of the study)  \n",
    "- robustness checks over special parameters (categorical variables, assumptions, etc)  "
   ]
  },
  {
   "cell_type": "code",
   "execution_count": null,
   "metadata": {
    "hide-output": false,
    "slideshow": {
     "slide_type": "slide"
    }
   },
   "outputs": [],
   "source": [
    "# bounds and the number of points on the grid\n",
    "bounds, n = (-2,2), 10  # try 20 30 50 500\n",
    "plt.plot(xd,f(xd),label='function',c='red')\n",
    "plt.ylim((-10,10))\n",
    "plt.grid(True)\n",
    "# vizualize the grid\n",
    "for x in np.linspace(*bounds,n):\n",
    "    plt.scatter(x,f(x),s=200,marker='|',c='k',linewidth=2)\n",
    "# solve\n",
    "xs = grid_search(f,bounds,ngrid=n)\n",
    "plt.scatter(xs,f(xs),s=500,marker='*',c='w',edgecolor='b',linewidth=2)  # mark the solution with a star\n",
    "plt.show()"
   ]
  },
  {
   "cell_type": "markdown",
   "metadata": {
    "slideshow": {
     "slide_type": "slide"
    }
   },
   "source": [
    "#### Poly-algorithms\n",
    "\n",
    "- grid search is good choice for first stage of poly-algorithm\n",
    "  - can robustly find promising region\n",
    "  - small number of grid points for speed\n",
    "  - accuracy not so important on first stage  \n",
    "- more accurate algorithm starting at the best point found by grid search\n",
    "  - with Newton sometimes referred to as *multi-starts*\n",
    "  - hopefully, starting value already in the domain of attraction  \n",
    "- or to start another grid search with smaller interval of search\n",
    "  - *adaptive* grid search\n",
    "  - pattern search (in multiple dimensions)  "
   ]
  },
  {
   "cell_type": "markdown",
   "metadata": {
    "slideshow": {
     "slide_type": "slide"
    }
   },
   "source": [
    "#### Further learning resources\n",
    "\n",
    "- Grid search in machine learning to tune *hyperparameters* (parameters of algorithm)\n",
    "  [https://medium.com/fintechexplained/what-is-grid-search-c01fe886ef0a](https://medium.com/fintechexplained/what-is-grid-search-c01fe886ef0a)  "
   ]
  }
 ],
 "metadata": {
  "celltoolbar": "Slideshow",
  "date": 1627474986.28802,
  "filename": "24_discretization.rst",
  "kernelspec": {
   "display_name": "Python",
   "language": "python3",
   "name": "python3"
  },
  "title": "Foundations of Computational Economics #24"
 },
 "nbformat": 4,
 "nbformat_minor": 4
}