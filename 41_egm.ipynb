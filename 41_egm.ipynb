{
 "cells": [
  {
   "cell_type": "markdown",
   "metadata": {
    "slideshow": {
     "slide_type": "slide"
    }
   },
   "source": [
    "# Foundations of Computational Economics #41\n",
    "\n",
    "by Fedor Iskhakov, ANU\n",
    "\n",
    "<img src=\"_static/img/dag3logo.png\" style=\"width:256px;\">"
   ]
  },
  {
   "cell_type": "markdown",
   "metadata": {
    "slideshow": {
     "slide_type": "fragment"
    }
   },
   "source": [
    "## Endogenous gridpoint method (EGM)\n",
    "\n",
    "<img src=\"_static/img/lecture.png\" style=\"width:64px;\">"
   ]
  },
  {
   "cell_type": "markdown",
   "metadata": {
    "slideshow": {
     "slide_type": "subslide"
    }
   },
   "source": [
    "<img src=\"_static/img/youtube.png\" style=\"width:65px;\">\n",
    "\n",
    "[https://youtu.be/MZ0MmprYMQo](https://youtu.be/MZ0MmprYMQo)\n",
    "\n",
    "Description: Fastest and most accurate solution methods for consumption-savings model. Class of models solvable by EGM. Generalizations of EGM method."
   ]
  },
  {
   "cell_type": "markdown",
   "metadata": {
    "slideshow": {
     "slide_type": "slide"
    }
   },
   "source": [
    "### Endogenous gridpoint method (EGM)\n",
    "\n",
    "- *fastest and most accurate* solution methods for *particular* problems with continuous choice  \n",
    "- finite and infinite horizon, discrete time  \n",
    "- best way to solve stochastic consumption-savings problem  \n",
    "- applicable to many other important problems  \n",
    "- has multiple generalizations which are applicable to a larger class of problems  \n",
    "\n",
    "\n",
    "1. Theory in this video  \n",
    "1. Implementation in the next video  "
   ]
  },
  {
   "cell_type": "markdown",
   "metadata": {
    "slideshow": {
     "slide_type": "slide"
    }
   },
   "source": [
    "#### EGM is like magic\n",
    "\n",
    "Most accurate solution method for consumption-savings problem we have so far?\n",
    "\n",
    "- time iterations = repeatedly solving F.O.C. in the Bellman maximization problem *in every point in the state space*  \n",
    "- VFI with continuous choices = repeatedly solving optimization problem *in every point in the state space*  \n",
    "\n",
    "\n",
    "EGM on the other hand: **no root-finding operations!**\n",
    "\n",
    "- but .. only applies to a certain class of problems  \n",
    "- hard to grasp right away, best studied by example  "
   ]
  },
  {
   "cell_type": "markdown",
   "metadata": {
    "slideshow": {
     "slide_type": "slide"
    }
   },
   "source": [
    "#### Consumption-savings problem (Deaton model)\n",
    "\n",
    "$$\n",
    "V(M)=\\max_{0 \\le c \\le M}\\big\\{u(c)+\\beta \\mathbb{E}_{y} V\\big(\\underset{=M'}{\\underbrace{R(M-c)+\\tilde{y}}}\\big)\\big\\}\n",
    "$$\n",
    "\n",
    "- discrete time, infinite horizon  \n",
    "- one continuous choice of consumption $ 0 \\le c \\le M $  \n",
    "- state space: consumable resources in the beginning of the period $ M $, discretized  \n",
    "- income $ \\tilde{y} $, follows log-normal distribution with $ \\mu = 0 $ and $ \\sigma $  "
   ]
  },
  {
   "cell_type": "markdown",
   "metadata": {
    "slideshow": {
     "slide_type": "slide"
    }
   },
   "source": [
    "#### Euler equation for Deaton model\n",
    "\n",
    "FOC: $ \\quad u'(c^\\star) - \\beta R \\mathbb{E}_{y} V'\\big(R(M-c^\\star)+\\tilde{y}\\big) = 0 $\n",
    "\n",
    "Envelope theorem: $ \\quad V'(M) = \\beta R \\mathbb{E}_{y} V'\\big(R(M-c^\\star)+\\tilde{y}\\big) $\n",
    "\n",
    "**Euler equation**:\n",
    "\n",
    "$$\n",
    "u'\\big(c^\\star(M)\\big) = \\beta R \\mathbb{E}_{y} u'\\big(c^\\star\\big(\\underset{=M'}{\\underbrace{R[M-c^\\star(M)]+\\tilde{y}}}\\big)\\big)\n",
    "$$\n",
    "\n",
    "(see video 39)"
   ]
  },
  {
   "cell_type": "markdown",
   "metadata": {
    "slideshow": {
     "slide_type": "slide"
    }
   },
   "source": [
    "#### New variable needed for EGM\n",
    "\n",
    "Let $ A $ denote **end-of-period** wealth = wealth after consumption (savings)\n",
    "\n",
    "Timing of the model:\n",
    "\n",
    "$$\n",
    "M \\rightarrow c(M) \\rightarrow A = M-c(M) \\rightarrow M' = R(M-c(M)) + \\tilde{y} = RA + \\tilde{y}\n",
    "$$\n",
    "\n",
    "$$\n",
    "0 \\le c \\le M \\; \\Rightarrow \\; 0 \\le A = M-c \\le M\n",
    "$$\n",
    "\n",
    "- $ A $ contains all the information needed for the calculation of the expected value function in the next period, “sufficient statistic” for the current period state and choice  \n",
    "- $ A $ is often referred to as *post-decision state*  "
   ]
  },
  {
   "cell_type": "markdown",
   "metadata": {
    "slideshow": {
     "slide_type": "slide"
    }
   },
   "source": [
    "#### Euler equation with post-decision state\n",
    "\n",
    "$$\n",
    "u'\\big(c(M)\\big) = \\beta R \\mathbb{E}_{y} u'\\big(c(RA+\\tilde{y})\\big)\n",
    "$$\n",
    "\n",
    "- if policy function $ c(M) $ is optimal, then it satisfies the above equation with $ A = M-c(M) $  \n",
    "- given any policy function $ c(M) $, an updated policy function $ c'(M') $ is given as a *parameterized curve*  \n",
    "\n",
    "\n",
    "$$\n",
    "\\begin{cases}\n",
    "c' = (u')^{-1} \\Big( \\beta R \\mathbb{E}_{y} u'(c\\big(RA+\\tilde{y})\\big) \\Big) \\\\\n",
    "M' = A + c'\n",
    "\\end{cases}\n",
    "$$\n",
    "\n",
    "- where parameter $ A $ ranges over the interval $ (0,M) $  "
   ]
  },
  {
   "cell_type": "markdown",
   "metadata": {
    "slideshow": {
     "slide_type": "slide"
    }
   },
   "source": [
    "#### Coleman-Reffett operator\n",
    "\n",
    "Recall *Coleman-Reffett operator* $ K(c)(M) : \\mathcal{P} \\rightarrow \\mathcal{P} $\n",
    "\n",
    "- takes as input policy function $ c(M) \\in \\mathcal{P} $  \n",
    "- returns the updated policy function $ c'(M) \\in \\mathcal{P} $ that for every $ M $ satisfies  \n",
    "\n",
    "\n",
    "$$\n",
    "u'\\big(c'(M)\\big) = \\beta R \\mathbb{E}_{y} u'\\big(c[R(M-c'(M))+\\tilde{y}]\\big)\n",
    "$$\n",
    "\n",
    "Standard implementation:\n",
    "\n",
    "1. Fix grid over $ M $  \n",
    "1. With given $ c(M) $ solve the equation for $ c $ in each point $ M $ on the grid  "
   ]
  },
  {
   "cell_type": "markdown",
   "metadata": {
    "slideshow": {
     "slide_type": "slide"
    }
   },
   "source": [
    "#### EGM implementation of Coleman-Reffett operator\n",
    "\n",
    "1. Fix grid over $ A $  \n",
    "1. With given $ c(M) $ for each point on the grid compute  \n",
    "\n",
    "\n",
    "$$\n",
    "\\begin{cases}\n",
    "c' = (u')^{-1} \\Big( \\beta R \\mathbb{E}_{y} u'(c\\big(RA+\\tilde{y})\\big) \\Big) \\\\\n",
    "M' = A + c'\n",
    "\\end{cases}\n",
    "$$\n",
    "\n",
    "1. Build the returned policy function $ c'(M) $ as interpolation over computed points $ (M',c') $  \n",
    "\n",
    "\n",
    "*EGM is time iterations solver with a much more efficient implementation of Coleman-Reffett operator*"
   ]
  },
  {
   "cell_type": "markdown",
   "metadata": {
    "slideshow": {
     "slide_type": "slide"
    }
   },
   "source": [
    "#### EGM algorithm\n",
    "\n",
    "1. Set a grid on (discretize) post-decision state $ A $ instead of state $ M $  \n",
    "1. Set the initial policy $ c_0(M) = M $ defined over two points $ M \\in \\{0,\\bar{M}\\} $  \n",
    "1. Increment iteration counter $ i $ (initialized to 0)  \n",
    "1. For each point $ A_j $ on the grid over $ A $ perform the **EGM step** and return the corresponding value of\n",
    "  consumption $ c_j $ and the endogenous point of wealth $ M_j = A_j+c_j $  \n",
    "1. Combine all computed endogenous points in the state space $ M_j $, and their corresponding consumption levels $ c_j $ to build the\n",
    "  updated policy function $ c_i(M) $  \n",
    "1. Return to step 3, unless convergence achieved (policy functions $ c_i(M) $ and $ c_{i-1}(M) $ are within given tolerance)  "
   ]
  },
  {
   "cell_type": "markdown",
   "metadata": {
    "slideshow": {
     "slide_type": "slide"
    }
   },
   "source": [
    "#### EGM algorithm (EGM step)\n",
    "\n",
    "Given point $ A_j $ on the grid over $ A $:\n",
    "1. Compute the next period wealth $ M'_j = RA_j + \\tilde{y} $, replacing $ \\tilde{y} $ with quadrature points\n",
    "2. Compute the optimal consumption in the next period in all quadrature points, using the previous iteration policy function $ c_{i-1}(\\cdot) $\n",
    "3. Compute the marginal utility for each value of consumption, and complete the calculation of the expectation in RHS of Euler equation\n",
    "4. Using inverse marginal utility function, compute optimal consumption $ c_j $ in current period, corresponding to the point $ A_j $\n",
    "5. complete the EGM step by computing endogenous state point $ M_j = A_j + c_j $"
   ]
  },
  {
   "cell_type": "markdown",
   "metadata": {
    "slideshow": {
     "slide_type": "slide"
    }
   },
   "source": [
    "#### Properties of EGM algorithm\n",
    "\n",
    "- successive approximations in the policy function space  \n",
    "- same structure as time iterations, with new implementation of Coleman-Reffett operator  \n",
    "- the updating of policy function is done with the EGM step  \n",
    "- **no root-finding operations**, direct computation instead $ \\rightarrow $ **fast**  \n",
    "- Euler equation holds in the generated endogenous state points $ \\rightarrow $ **accurate**  "
   ]
  },
  {
   "cell_type": "markdown",
   "metadata": {
    "slideshow": {
     "slide_type": "slide"
    }
   },
   "source": [
    "#### EGM principle\n",
    "\n",
    "- Instead of finding the optimal decision in each point of a fixed grid over the state space ..  \n",
    "- find the point in the state space where a “guessed” decision would be optimal.  "
   ]
  },
  {
   "cell_type": "markdown",
   "metadata": {
    "slideshow": {
     "slide_type": "slide"
    }
   },
   "source": [
    "#### Example using deterministic consumption-savings model\n",
    "\n",
    "$$\n",
    "V(M)=\\max_{0 \\le c \\le M}\\big\\{log(c)+\\beta V\\big(R(M-c)+y\\big)\\big\\}\n",
    "$$\n",
    "\n",
    "$$\n",
    "u'\\big(c^\\star(M)\\big) = \\beta R u'\\big(c^\\star\\big(R[M-c^\\star(M)]+y\\big)\\big)\n",
    "$$\n",
    "\n",
    "$$\n",
    "\\begin{cases}\n",
    "c' = (u')^{-1} \\Big( \\beta R u'(c\\big(RA+y)\\big) \\Big) \\\\\n",
    "M' = A + c\n",
    "\\end{cases}\n",
    "$$"
   ]
  },
  {
   "cell_type": "code",
   "execution_count": null,
   "metadata": {
    "hide-output": false,
    "slideshow": {
     "slide_type": "slide"
    }
   },
   "outputs": [],
   "source": [
    "%clear  # clear notebook memory\n",
    "import numpy as np\n",
    "import matplotlib.pyplot as plt\n",
    "from scipy import interpolate\n",
    "%matplotlib inline\n",
    "\n",
    "beta,R,y = 0.95,1.,0.    # fundamentals (cake eating)\n",
    "Mbar,ngrid = 10,5        # technical parameters\n",
    "u = lambda c: np.log(c)  # utility function\n",
    "mu = lambda c: 1/c       # marginal utility function\n",
    "imu = lambda u: 1/u      # inverse marginal utility function\n",
    "\n",
    "A = np.linspace(0,Mbar,ngrid)  # What are the bounds of A?\n",
    "c0 = np.array([0,Mbar])\n",
    "M0 = np.array([0,Mbar])"
   ]
  },
  {
   "cell_type": "code",
   "execution_count": null,
   "metadata": {
    "hide-output": false,
    "slideshow": {
     "slide_type": "slide"
    }
   },
   "outputs": [],
   "source": [
    "# set up plotting\n",
    "fig, ax = plt.subplots(1,3,figsize=(14,6))\n",
    "for axi in ax:\n",
    "    axi.grid(b=True, which='both', color='0.65', linestyle='-')\n",
    "ax[0].set_title('consumption c(A)')\n",
    "ax[1].set_title('wealth M(A)')\n",
    "ax[2].set_title('consumption c(M)')\n",
    "ax[0].set_xlabel('Savings (post decision state) A')\n",
    "ax[1].set_xlabel('Savings (post decision state) A')\n",
    "ax[2].set_xlabel('Wealth M')\n",
    "# make colors generator\n",
    "# https://stackoverflow.com/questions/37890412/increment-matplotlib-color-cycle\n",
    "from itertools import cycle\n",
    "prop_cycle = plt.rcParams['axes.prop_cycle']\n",
    "colors = cycle(prop_cycle.by_key()['color'])\n",
    "def plot_iter(a,m,c):\n",
    "    color = next(colors)\n",
    "    ax[0].plot(a,c,linewidth=0.5,c=color)\n",
    "    ax[1].plot(a,m,linewidth=0.5,c=color)\n",
    "    ax[2].plot(m,c,linewidth=0.5,c=color)\n",
    "    ax[0].scatter(a,c,s=11,c=color)\n",
    "    ax[1].scatter(a,m,s=11,c=color)\n",
    "    ax[2].scatter(m,c,s=11,c=color)\n",
    "    return fig"
   ]
  },
  {
   "cell_type": "code",
   "execution_count": null,
   "metadata": {
    "hide-output": false,
    "slideshow": {
     "slide_type": "slide"
    }
   },
   "outputs": [],
   "source": [
    "# Iteration 0\n",
    "plot_iter(np.full(2,np.nan),M0,c0)"
   ]
  },
  {
   "cell_type": "code",
   "execution_count": null,
   "metadata": {
    "hide-output": false,
    "slideshow": {
     "slide_type": "slide"
    }
   },
   "outputs": [],
   "source": [
    "# Iteration 1\n",
    "policy = interpolate.interp1d(M0,c0,kind='slinear',fill_value=\"extrapolate\")  # interpolation function for policy\n",
    "M1 = np.full(ngrid,np.nan)\n",
    "c1 = np.full(ngrid,np.nan)\n",
    "for j,aj in enumerate(A):\n",
    "    Mpr = max(R*aj+y,1e-10)        # next period wealth\n",
    "    cpr = policy(Mpr)              # next period consumption\n",
    "    c1[j] = imu( beta*R*mu(cpr) )  # inverse Euler\n",
    "    M1[j] = aj + c1[j]             # endogenous wealth\n",
    "plot_iter(A,M1,c1)             # returns fig object, plotted automatically"
   ]
  },
  {
   "cell_type": "code",
   "execution_count": null,
   "metadata": {
    "hide-output": false,
    "slideshow": {
     "slide_type": "slide"
    }
   },
   "outputs": [],
   "source": [
    "# Iteration 2\n",
    "policy = interpolate.interp1d(M1,c1,kind='slinear',fill_value=\"extrapolate\")  # interpolation function for policy\n",
    "M2 = np.full(ngrid,np.nan)\n",
    "c2 = np.full(ngrid,np.nan)\n",
    "for j,aj in enumerate(A):\n",
    "    Mpr = max(R*aj+y,1e-10)        # next period wealth\n",
    "    cpr = policy(Mpr)              # next period consumption\n",
    "    c2[j] = imu( beta*R*mu(cpr) )  # inverse Euler\n",
    "    M2[j] = aj + c2[j]             # endogenous wealth\n",
    "plot_iter(A,M2,c2)             # returns fig object, plotted automatically"
   ]
  },
  {
   "cell_type": "markdown",
   "metadata": {
    "slideshow": {
     "slide_type": "slide"
    }
   },
   "source": [
    "### Corner solutions in EGM\n",
    "\n",
    "- So far only covered the interior solutions where the Euler equation holds  \n",
    "- What about the restriction $ 0 \\le c \\le M $ which is equivalent to $ 0 \\le A \\le M $?  \n",
    "\n",
    "\n",
    "1. By choosing the grid on $ A $ to respect the constraint $ 0 \\le A \\le M $ EGM only implements interior solutions  \n",
    "1. Corner solutions must be added with an additional provisions in the code  "
   ]
  },
  {
   "cell_type": "markdown",
   "metadata": {
    "slideshow": {
     "slide_type": "slide"
    }
   },
   "source": [
    "#### Lower bound on consumption\n",
    "\n",
    "- $ c \\ge 0 $ is never binding if utility function satisfies  \n",
    "\n",
    "\n",
    "$$\n",
    "\\lim_{c \\rightarrow 0} u(c) = -\\infty\n",
    "$$\n",
    "\n",
    "- all our usual utility functions like $ \\log(c) $ or CRRA utility $ \\frac{c^\\lambda - 1}{\\lambda} $ satisfy this condition  "
   ]
  },
  {
   "cell_type": "markdown",
   "metadata": {
    "slideshow": {
     "slide_type": "slide"
    }
   },
   "source": [
    "#### Upper bound on consumption\n",
    "\n",
    "- If $ c \\le M $ is binding, then $ A=0 $, can be computed directly  \n",
    "\n",
    "\n",
    "**Proposition** If utility function $ u(c) $ in the consumption-savings model is monotone and concave, then end-of-period wealth $ A=M-c $ is non-decreasing in M.\n",
    "\n",
    "- Let $ M_0 = (u')^{-1} \\Big( \\beta R \\mathbb{E}_{y} u'(c(\\tilde{y})\\big) \\Big) $ denote the point that corresponds to $ A=0 $  \n",
    "- Due to the proposition, for all $ M<M_0 $ the end of period wealth must be zero, and thus optimal consumption $ c=M $ is the corner solution  \n",
    "- To implement this in the code, we just need to add a 45 degrees segment to the consumption function below $ M_0 $  "
   ]
  },
  {
   "cell_type": "code",
   "execution_count": null,
   "metadata": {
    "hide-output": false,
    "slideshow": {
     "slide_type": "slide"
    }
   },
   "outputs": [],
   "source": [
    "%clear  # clear notebook memory\n",
    "import numpy as np\n",
    "import matplotlib.pyplot as plt\n",
    "from scipy import interpolate\n",
    "%matplotlib inline\n",
    "\n",
    "beta,R,y = 0.95,1.05,1   # fundamentals\n",
    "Mbar,ngrid = 10,5        # technical parameters\n",
    "u = lambda c: np.log(c)  # utility function\n",
    "mu = lambda c: 1/c       # marginal utility function\n",
    "imu = lambda u: 1/u      # inverse marginal utility function\n",
    "\n",
    "A = np.linspace(0,Mbar,ngrid)  # What are the bounds of A?\n",
    "c0 = np.array([0,Mbar])\n",
    "M0 = np.array([0,Mbar])"
   ]
  },
  {
   "cell_type": "code",
   "execution_count": null,
   "metadata": {
    "hide-output": false,
    "slideshow": {
     "slide_type": "slide"
    }
   },
   "outputs": [],
   "source": [
    "# set up plotting\n",
    "fig, ax = plt.subplots(1,3,figsize=(14,6))\n",
    "for axi in ax:\n",
    "    axi.grid(b=True, which='both', color='0.65', linestyle='-')\n",
    "ax[0].set_title('consumption c(A)')\n",
    "ax[1].set_title('wealth M(A)')\n",
    "ax[2].set_title('consumption c(M)')\n",
    "ax[0].set_xlabel('Savings (post decision state) A')\n",
    "ax[1].set_xlabel('Savings (post decision state) A')\n",
    "ax[2].set_xlabel('Wealth M')\n",
    "# make colors generator\n",
    "# https://stackoverflow.com/questions/37890412/increment-matplotlib-color-cycle\n",
    "from itertools import cycle\n",
    "prop_cycle = plt.rcParams['axes.prop_cycle']\n",
    "colors = cycle(prop_cycle.by_key()['color'])\n",
    "def plot_iter(a,m,c):\n",
    "    color = next(colors)\n",
    "    ax[0].plot(a,c,linewidth=0.5,c=color)\n",
    "    ax[1].plot(a,m,linewidth=0.5,c=color)\n",
    "    ax[2].plot(m,c,linewidth=0.5,c=color)\n",
    "    ax[0].scatter(a,c,s=11,c=color)\n",
    "    ax[1].scatter(a,m,s=11,c=color)\n",
    "    ax[2].scatter(m,c,s=11,c=color)\n",
    "    return fig"
   ]
  },
  {
   "cell_type": "code",
   "execution_count": null,
   "metadata": {
    "hide-output": false,
    "slideshow": {
     "slide_type": "slide"
    }
   },
   "outputs": [],
   "source": [
    "# Iteration 0\n",
    "plot_iter(np.full(2,np.nan),M0,c0)"
   ]
  },
  {
   "cell_type": "code",
   "execution_count": null,
   "metadata": {
    "hide-output": false,
    "slideshow": {
     "slide_type": "slide"
    }
   },
   "outputs": [],
   "source": [
    "# Iteration function\n",
    "Aex = np.full(ngrid+1,np.nan)\n",
    "Aex[1:] = A\n",
    "def iter(M0,c0):\n",
    "    policy = interpolate.interp1d(M0,c0,kind='slinear',fill_value=\"extrapolate\")  # interpolation function for policy\n",
    "    M1 = np.full(ngrid+1,np.nan)\n",
    "    c1 = np.full(ngrid+1,np.nan)\n",
    "    M1[0] = c1[0] = 0              # add one point at the origin!\n",
    "    for j,aj in enumerate(A):\n",
    "        Mpr = max(R*aj+y,1e-10)    # next period wealth\n",
    "        cpr = policy(Mpr)          # next period consumption\n",
    "        c = imu( beta*R*mu(cpr) )  # inverse Euler\n",
    "        M = aj + c                 # endogenous wealth\n",
    "        M1[j+1] = M                # save to array\n",
    "        c1[j+1] = c\n",
    "    pt = plot_iter(Aex,M1,c1)        # returns fig object, plotted automatically\n",
    "    return M1,c1,pt"
   ]
  },
  {
   "cell_type": "code",
   "execution_count": null,
   "metadata": {
    "hide-output": false,
    "slideshow": {
     "slide_type": "slide"
    }
   },
   "outputs": [],
   "source": [
    "M1,c1,pt = iter(M0,c0)\n",
    "pt"
   ]
  },
  {
   "cell_type": "code",
   "execution_count": null,
   "metadata": {
    "hide-output": false,
    "slideshow": {
     "slide_type": "slide"
    }
   },
   "outputs": [],
   "source": [
    "M,c,pt = iter(M1,c1)\n",
    "pt"
   ]
  },
  {
   "cell_type": "code",
   "execution_count": null,
   "metadata": {
    "hide-output": false,
    "slideshow": {
     "slide_type": "slide"
    }
   },
   "outputs": [],
   "source": [
    "for i in range(10):\n",
    "    M,c,pt = iter(M,c)\n",
    "pt"
   ]
  },
  {
   "cell_type": "markdown",
   "metadata": {
    "slideshow": {
     "slide_type": "slide"
    }
   },
   "source": [
    "### Class of models solvable by EGM\n",
    "\n",
    "- finite and infinite horizon dynamic models with continuous choice  \n",
    "- strictly concave monotone and differentiable utility function (with analytic inverse marginal)  \n",
    "- one continuous state variable (wealth) and one continuous choice variable (consumption)  \n",
    "- particular structure of the law of motion for state variables (intertemporal budget constraint)  \n",
    "- occasionally binding borrowing constraints  \n",
    "- can also easily allow additional quasi-exogenous state variables (with motion rules dependent on $ A $ and not $ M $ or $ c $)  \n",
    "\n",
    "\n",
    "Rather small class, although many important models in micro and macro economics are included"
   ]
  },
  {
   "cell_type": "markdown",
   "metadata": {
    "slideshow": {
     "slide_type": "slide"
    }
   },
   "source": [
    "### Generalizations of EGM\n",
    "\n",
    "Multiple dimensions: hard because irregular grids in multiple dimensions\n",
    "\n",
    "- 📖 Barillas & Fernandez-Villaverde, JEDC 2007 “A Generalization of the Endogenous Grid Method”  \n",
    "- 📖 Ludwig & Schön, Computational Economics, 2018 “Endogenous Grids in Higher Dimensions: Delaunay Interpolation and Hybrid Methods”  \n",
    "- 📖 Matthew White, JEDC 2015 “The Method of Endogenous Gridpoints in Theory and Practice”  \n",
    "- 📖 Iskhakov, Econ Letters 2015 “Multidimensional endogenous gridpoint method: solving triangular dynamic stochastic optimization problems without root-finding operations” + Corrigendum  "
   ]
  },
  {
   "cell_type": "markdown",
   "metadata": {
    "slideshow": {
     "slide_type": "slide"
    }
   },
   "source": [
    "### Generalizations of EGM\n",
    "\n",
    "Non-convex problems: hard because Euler equation is not a sufficient condition any longer\n",
    "\n",
    "- 📖 Giulio Fella, RED 2014 “A Generalized Endogenous Grid Method for Non-Smooth and Non-Concave Problems”  \n",
    "- 📖 Iskhakov, Jørgensen, Rust, Schjerning, QE 2017 “The Endogenous Grid Method for Discrete-Continuous Dynamic Choice Models with (or without) Taste Shocks”  \n",
    "- 📖 Jeppe Druedahl, Thomas Jørgensen, JEDC 2017 “A General Endogenous Grid Method for Multi-Dimensional Models with Non-Convexities and Constraints”  "
   ]
  },
  {
   "cell_type": "markdown",
   "metadata": {
    "slideshow": {
     "slide_type": "slide"
    }
   },
   "source": [
    "### Further learning resources\n",
    "\n",
    "- 📖 Chris Carroll (2006) Original article on EGM\n",
    "  [http://pages.stern.nyu.edu/~dbackus/Computation/Carroll%20endog%20grid%20EL%2006.pdf](http://pages.stern.nyu.edu/~dbackus/Computation/Carroll%20endog%20grid%20EL%2006.pdf)  \n",
    "- Literature cited above  \n",
    "- 📖 >500 citations of Carroll’s paper\n",
    "  [https://scholar.google.com/scholar?cites=20745560105937946&as_sdt=2005&sciodt=0,5&hl=en](https://scholar.google.com/scholar?cites=20745560105937946&as_sdt=2005&sciodt=0,5&hl=en)  "
   ]
  }
 ],
 "metadata": {
  "celltoolbar": "Slideshow",
  "date": 1627474986.926393,
  "filename": "41_egm.rst",
  "kernelspec": {
   "display_name": "Python",
   "language": "python3",
   "name": "python3"
  },
  "title": "Foundations of Computational Economics #41"
 },
 "nbformat": 4,
 "nbformat_minor": 4
}