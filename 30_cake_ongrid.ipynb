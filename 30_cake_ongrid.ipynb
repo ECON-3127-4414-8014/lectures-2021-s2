{
 "cells": [
  {
   "cell_type": "markdown",
   "metadata": {
    "slideshow": {
     "slide_type": "slide"
    }
   },
   "source": [
    "# Foundations of Computational Economics #30\n",
    "\n",
    "by Fedor Iskhakov, ANU\n",
    "\n",
    "<img src=\"_static/img/dag3logo.png\" style=\"width:256px;\">"
   ]
  },
  {
   "cell_type": "markdown",
   "metadata": {
    "slideshow": {
     "slide_type": "fragment"
    }
   },
   "source": [
    "## Cake eating in discrete world\n",
    "\n",
    "<img src=\"_static/img/lecture.png\" style=\"width:64px;\">"
   ]
  },
  {
   "cell_type": "markdown",
   "metadata": {
    "slideshow": {
     "slide_type": "subslide"
    }
   },
   "source": [
    "<img src=\"_static/img/youtube.png\" style=\"width:65px;\">\n",
    "\n",
    "[https://youtu.be/IwKxNceuar4](https://youtu.be/IwKxNceuar4)\n",
    "\n",
    "Description: Cake eating problem setup. Solution “on the grid”."
   ]
  },
  {
   "cell_type": "markdown",
   "metadata": {
    "slideshow": {
     "slide_type": "slide"
    }
   },
   "source": [
    "### Cake eating problem\n",
    "\n",
    "<img src=\"_static/img/cake.png\" style=\"width:128px;\">\n",
    "\n",
    "  \n",
    "- Cake of initial size $ W_0 $  \n",
    "- How much of the cake to eat each period $ t $, $ c_t $?  \n",
    "- Time is discrete, $ t=1,2,\\dots,\\infty $  \n",
    "- What is not eaten in period $ t $ is left for the future $ W_{t+1}=W_t-c_t $  "
   ]
  },
  {
   "cell_type": "markdown",
   "metadata": {
    "slideshow": {
     "slide_type": "slide"
    }
   },
   "source": [
    "### Model specification and parametrization\n",
    "\n",
    "- **Choices of the decision maker**\n",
    "  - How much cake to eat  \n",
    "- **State space of the problem**\n",
    "  - A full list of variables that are relevant to the choices in question  \n",
    "- **Preferences of the decision maker**\n",
    "  - Utility flow from cake consumption\n",
    "  - Discount factor  \n",
    "- **Beliefs of the decision agents about how the state will evolve**\n",
    "  - Transition density/probabilities of the states\n",
    "  - May be conditional on the choices  "
   ]
  },
  {
   "cell_type": "markdown",
   "metadata": {
    "slideshow": {
     "slide_type": "slide"
    }
   },
   "source": [
    "### Preferences in the cake eating\n",
    "\n",
    "Let the flow utility be given by\n",
    "\n",
    "$$\n",
    "u(c_{t})=\\log(c_t)\n",
    "$$\n",
    "\n",
    "Overall goal is to maximize the discounted expected utility\n",
    "\n",
    "$$\n",
    "\\max_{\\{c_{t}\\}_{0}^{\\infty}}\\sum_{t=0}^{\\infty}\\beta^{t}u(c_{t})\n",
    "\\longrightarrow \\max\n",
    "$$"
   ]
  },
  {
   "cell_type": "markdown",
   "metadata": {
    "slideshow": {
     "slide_type": "slide"
    }
   },
   "source": [
    "### Value function\n",
    "\n",
    "**Value function** $ V(W_t) $ = the maximum attainable\n",
    "value given the size of cake $ W_t $ (in period $ t $)\n",
    "\n",
    "- State space is given by single variable $ W_t $  \n",
    "- Transition of the variable (**rather, beliefs**) depends on the choice  \n",
    "\n",
    "\n",
    "$$\n",
    "W_{t+1}=W_t-c_t\n",
    "$$"
   ]
  },
  {
   "cell_type": "markdown",
   "metadata": {
    "slideshow": {
     "slide_type": "slide"
    }
   },
   "source": [
    "### Bellman equation (recursive problem)\n",
    "\n",
    "$$\n",
    "\\begin{eqnarray*}\n",
    "  V(W_{0}) & = & \\max_{\\{c_{t}\\}_{0}^{\\infty}}\\sum_{t=0}^{\\infty}\\beta^{t}u(c_{t}) \\\\\n",
    "  & = & \\max_{0 \\le c_{0}\\le W_0}\\{u(c_{0})+\\beta\\max_{\\{c_{t}\\}_{1}^{\\infty}}\\sum_{t=1}^{\\infty}\\beta^{t-1}u(c_{t})\\} \\\\\n",
    "  & = & \\max_{0 \\le c_{0}\\le W_0}\\{u(c_{0})+\\beta V(W_{1})\\}\n",
    "\\end{eqnarray*}\n",
    "$$\n",
    "\n",
    "$$\n",
    "V(W_{t})=\\max_{0 \\le c_{t} \\le W_t}\\big\\{u(c_{t})+\\beta V(\\underset{=W_{t}-c_{t}}{\\underbrace{W_{t+1}}})\\big\\}\n",
    "$$"
   ]
  },
  {
   "cell_type": "markdown",
   "metadata": {
    "slideshow": {
     "slide_type": "slide"
    }
   },
   "source": [
    "### Recap: components of the dynamic model\n",
    "\n",
    "- **State variables** — vector of variables that describe all relevant\n",
    "  information about the modeled decision process, $ W_t $  \n",
    "- **Decision variables** — vector of variables describing the choices,\n",
    "  $ c_t $  \n",
    "- **Instantaneous payoff** — utility function, $ u(c_t) $, with\n",
    "  time separable discounted utility  \n",
    "- **Motion rules** — agent’s beliefs of how state variable evolve\n",
    "  through time, conditional on choices, $ W_{t+1}=W_t-c_t $  \n",
    "- **Value function** — maximum attainable utility, $ V(W_t) $  \n",
    "- **Policy function** — mapping from state space to action space that\n",
    "  returns the optimal choice, $ c^{\\star}(W_t) $  "
   ]
  },
  {
   "cell_type": "markdown",
   "metadata": {
    "slideshow": {
     "slide_type": "slide"
    }
   },
   "source": [
    "### Maybe we can find analytic solution?\n",
    "\n",
    "- Start with a (good) guess of $ V(W)=A+B\\log W $  \n",
    "  $$\n",
    "  \\begin{eqnarray*}\n",
    "  V(W) & = & \\max_{c}\\big\\{u(c)+\\beta V(W-c)\\big\\} \\\\\n",
    "  A+B\\log W & = & \\max_{c} \\big\\{\\log c+\\beta(A+B\\log (W-c)) \\big\\}\n",
    "  \\end{eqnarray*}\n",
    "  $$\n",
    "- Determine $ A $ and $ B $ and find the optimal rule for cake\n",
    "  consumption.  \n",
    "- This is only possible in **few** models!  "
   ]
  },
  {
   "cell_type": "markdown",
   "metadata": {
    "slideshow": {
     "slide_type": "slide"
    }
   },
   "source": [
    "F.O.C. for $ c $\n",
    "\n",
    "$$\n",
    "\\frac{1}{c} - \\frac{\\beta B}{W - c} = 0, \\quad c = \\frac {W} {1 + \\beta B}, W - c = \\frac {\\beta B W} {1 + \\beta B}\n",
    "$$\n",
    "\n",
    "Then we have\n",
    "\n",
    "$$\n",
    "A + B\\log W = \\log W + \\log\\frac{1}{1+\\beta B} +\n",
    "\\beta A + \\beta B \\log W + \\beta B \\log\\frac{\\beta B}{1+\\beta B}\n",
    "$$\n",
    "\n",
    "$$\n",
    "\\begin{eqnarray*}\n",
    "A &=& \\beta A + \\log\\frac{1}{1+\\beta B} + \\beta B \\log\\frac{\\beta B}{1+\\beta B} \\\\\n",
    "B &=& 1 + \\beta B\n",
    "\\end{eqnarray*}\n",
    "$$"
   ]
  },
  {
   "cell_type": "markdown",
   "metadata": {
    "slideshow": {
     "slide_type": "slide"
    }
   },
   "source": [
    "After some algebra\n",
    "\n",
    "$$\n",
    "c^{\\star}(W) =  \\frac {W} {1 + \\beta B} = \\frac {W} {1 + \\frac{\\beta}{1-\\beta}} = (1-\\beta)W\n",
    "$$\n",
    "\n",
    "$$\n",
    "V(W) = \\frac{\\log(W)}{1-\\beta} + \\frac{\\log(1-\\beta)}{1-\\beta} + \\frac{\\beta \\log(\\beta)}{(1-\\beta)^2}\n",
    "$$"
   ]
  },
  {
   "cell_type": "markdown",
   "metadata": {
    "slideshow": {
     "slide_type": "slide"
    }
   },
   "source": [
    "### Bellman operator\n",
    "\n",
    "The Bellman equation becomes operator in functional space\n",
    "\n",
    "$$\n",
    "T(V)(W) \\equiv \\max_{0 \\le c \\le W} \\big[u(c)+\\beta V(W-c)\\big]\n",
    "$$\n",
    "\n",
    "The Bellman equations is then $ V(W) = T({V})(W) $, with the\n",
    "solution given by the fixed point (solution to $ T({V}) = V $)"
   ]
  },
  {
   "cell_type": "markdown",
   "metadata": {
    "slideshow": {
     "slide_type": "slide"
    }
   },
   "source": [
    "### Value function iterations (VFI)\n",
    "\n",
    "- Start with an arbitrary guess $ V_0(W) $\n",
    "  (will see next time that the initial guess is not important)  \n",
    "- At each iteration $ i $ compute  \n",
    "\n",
    "\n",
    "$$\n",
    "\\begin{eqnarray*}\n",
    "V_i(W) = T(V_{i-1})(W) &=&\n",
    "\\max_{0 \\le c \\le W} \\big\\{u(c)+\\beta V_{i-1}(W-c) \\big \\}  \\\\\n",
    "c_{i-1}(W) &=&\n",
    "\\underset{0 \\le c \\le W}{\\arg\\max} \\big\\{u(c)+\\beta V_{i-1}(W-c) \\big \\}\n",
    "\\end{eqnarray*}\n",
    "$$\n",
    "\n",
    "- Repeat until convergence  "
   ]
  },
  {
   "cell_type": "markdown",
   "metadata": {
    "slideshow": {
     "slide_type": "slide"
    }
   },
   "source": [
    "### Numerical implementation of the Bellman operator\n",
    "\n",
    "- Cake is continuous $ \\rightarrow $ value function is a function\n",
    "  of continuous variable  \n",
    "- Solution: **discretize** $ W $\n",
    "  Construct a *grid* (vector) of cake-sizes\n",
    "  $ \\vec{W}\\in\\{0,\\dots\\overline{W}\\} $  \n",
    "\n",
    "\n",
    "$$\n",
    "V_{i}(\\vec{W})=\\max_{0 \\le c \\le \\vec{W}}\\{u(c)+\\beta V_{i-1}(\\vec{W}-c)\\}\n",
    "$$\n",
    "\n",
    "- Compute value and policy function sequentially point-by-point  \n",
    "- May need to compute the value function *between grid points*\n",
    "  $ \\Rightarrow $ Interpolation and function approximation  "
   ]
  },
  {
   "cell_type": "markdown",
   "metadata": {
    "slideshow": {
     "slide_type": "slide"
    }
   },
   "source": [
    "### Can interpolation be avoided?\n",
    "\n",
    "- Note that conditional on $ W_t $, the choice of $ c $ defines\n",
    "  $ W_{t+1} $  \n",
    "- Can replace $ c $ with $ W_{t+1} $ in Bellman equation so\n",
    "  that **next period cake size is the decision variable**  \n",
    "- Solving “on the grid”  "
   ]
  },
  {
   "cell_type": "markdown",
   "metadata": {
    "slideshow": {
     "slide_type": "slide"
    }
   },
   "source": [
    "### Adjustment to the Bellman equation\n",
    "\n",
    "$$\n",
    "V_{i}(\\vec{W})=\\max_{0 \\le \\vec{W}' \\le \\vec{W}}\\{u(\\vec{W}-\\vec{W}')+\\beta V_{i-1}(\\vec{W}')\\}\n",
    "$$\n",
    "\n",
    "- Compute value and policy function sequentially point-by-point  \n",
    "- Note that grid $ \\vec{W}\\in\\{0,\\dots\\overline{W}\\} $ is used\n",
    "  twice: for state space and for decision space  \n",
    "\n",
    "\n",
    "*Can you spot the potential problem?*"
   ]
  },
  {
   "cell_type": "code",
   "execution_count": null,
   "metadata": {
    "hide-output": false,
    "slideshow": {
     "slide_type": "slide"
    }
   },
   "outputs": [],
   "source": [
    "import numpy as np\n",
    "\n",
    "class cake_ongrid():\n",
    "    '''Simple class to implement cake eating problem on the grid'''\n",
    "\n",
    "    def __init__(self,beta=.9, Wbar=10, ngrid=50):\n",
    "        '''Initializer'''\n",
    "        self.beta = beta    # Discount factor\n",
    "        self.Wbar = Wbar    # Upper bound on cake size\n",
    "        self.ngrid = ngrid  # Number of grid points\n",
    "        self.epsilon = np.finfo(float).eps # smallest positive float number\n",
    "        self.grid = np.linspace(self.epsilon,Wbar,ngrid) # grid for both state and decision space\n",
    "\n",
    "    def bellman(self,V0):\n",
    "        '''Bellman operator, V0 is one-dim vector of values on grid'''\n",
    "        c = self.grid - self.grid[:,np.newaxis] # current state in columns and choices in rows\n",
    "        c[c==0] = self.epsilon # add small quantity to avoid log(0)\n",
    "        mask = c>0 # mask off infeasible choices\n",
    "        matV1 = np.full((self.ngrid,self.ngrid),-np.inf) # init V with -inf\n",
    "        matV0 = np.repeat(V0.reshape(self.ngrid,1),self.ngrid,1) #current value function repeated in columns\n",
    "        matV1[mask] = np.log(c[mask])+self.beta*matV0[mask] # maximand of the Bellman equation\n",
    "        V1 = np.amax(matV1,axis=0,keepdims=False) # maximum in every column\n",
    "        c1 = self.grid - self.grid[np.argmax(matV1,axis=0)] # consumption (index of maximum in every column)\n",
    "        return V1, c1\n",
    "\n",
    "    def solve(self, maxiter=1000, tol=1e-4, callback=None):\n",
    "        '''Solves the model using VFI (successive approximations)'''\n",
    "        V0=np.log(self.grid) # on first iteration assume consuming everything\n",
    "        for iter in range(maxiter):\n",
    "            V1,c1=self.bellman(V0)\n",
    "            if callback: callback(iter,self.grid,V1,c1) # callback for making plots\n",
    "            if np.all(abs(V1-V0) < tol):\n",
    "                break\n",
    "            V0=V1\n",
    "        else:  # when i went up to maxiter\n",
    "            print('No convergence: maximum number of iterations achieved!')\n",
    "        return V1,c1"
   ]
  },
  {
   "cell_type": "code",
   "execution_count": null,
   "metadata": {
    "hide-output": false,
    "slideshow": {
     "slide_type": "slide"
    }
   },
   "outputs": [],
   "source": [
    "model = cake_ongrid(beta=0.92,Wbar=10,ngrid=50)\n",
    "V,c = model.solve()\n",
    "print(c)"
   ]
  },
  {
   "cell_type": "code",
   "execution_count": null,
   "metadata": {
    "hide-output": false,
    "slideshow": {
     "slide_type": "slide"
    }
   },
   "outputs": [],
   "source": [
    "import matplotlib.pyplot as plt\n",
    "%matplotlib inline\n",
    "\n",
    "plt.rcParams['axes.autolimit_mode'] = 'round_numbers'\n",
    "plt.rcParams['axes.xmargin'] = 0\n",
    "plt.rcParams['axes.ymargin'] = 0\n",
    "plt.rcParams['patch.force_edgecolor'] = True\n",
    "from cycler import cycler\n",
    "plt.rcParams['axes.prop_cycle'] = cycler(color='bgrcmyk')\n",
    "\n",
    "fig1, ax1 = plt.subplots(figsize=(12,8))\n",
    "plt.grid(b=True, which='both', color='0.65', linestyle='-')\n",
    "ax1.set_title('Value function convergence with VFI')\n",
    "ax1.set_xlabel('Cake size, W')\n",
    "ax1.set_ylabel('Value function')\n",
    "\n",
    "def callback(iter,grid,v,c):\n",
    "    '''Callback function for DP solver'''\n",
    "    if iter<5 or iter%10==0:\n",
    "        ax1.plot(grid[1:],v[1:],label='iter={:3d}'.format(iter),linewidth=1.5)\n",
    "\n",
    "V,c = model.solve(callback=callback)\n",
    "\n",
    "plt.legend(loc=4)\n",
    "# plt.savefig('cake1value.eps', format='eps', dpi=300)\n",
    "plt.show()"
   ]
  },
  {
   "cell_type": "markdown",
   "metadata": {
    "slideshow": {
     "slide_type": "slide"
    }
   },
   "source": [
    "### How to measure numerical errors?\n",
    "\n",
    "- In our case there is an analytic solution  \n",
    "\n",
    "\n",
    "$$\n",
    "c^{\\star}(W) = (1-\\beta)W\n",
    "$$\n",
    "\n",
    "$$\n",
    "V(W) = \\frac{\\log(W)}{1-\\beta} + \\frac{\\log(1-\\beta)}{1-\\beta} + \\frac{\\beta \\log(\\beta)}{(1-\\beta)^2}\n",
    "$$"
   ]
  },
  {
   "cell_type": "markdown",
   "metadata": {
    "slideshow": {
     "slide_type": "slide"
    }
   },
   "source": [
    "### When there is no analytic solution\n",
    "\n",
    "We can find some **derived theoretical property** of the model\n",
    "and check if it holds in the computed numerical solution\n",
    "\n",
    "- Typically very dense (slow) grid is used in place of true solution  \n",
    "- We’ll look at this in more detail later  "
   ]
  },
  {
   "cell_type": "markdown",
   "metadata": {
    "slideshow": {
     "slide_type": "slide"
    }
   },
   "source": [
    "### Comparison of value function"
   ]
  },
  {
   "cell_type": "code",
   "execution_count": null,
   "metadata": {
    "hide-output": false,
    "slideshow": {
     "slide_type": "fragment"
    }
   },
   "outputs": [],
   "source": [
    "fun = lambda w: np.log(w)/(1 - model.beta) + np.log(1 - model.beta)/(1 - model.beta) + model.beta*np.log(model.beta)/((1 - model.beta)**2)\n",
    "grid = model.grid\n",
    "plt.plot(grid[1:],V[1:],linewidth=1.5)\n",
    "plt.plot(grid[1:],fun(grid[1:]),linewidth=1.5)"
   ]
  },
  {
   "cell_type": "markdown",
   "metadata": {
    "slideshow": {
     "slide_type": "slide"
    }
   },
   "source": [
    "### Comparison of policy function"
   ]
  },
  {
   "cell_type": "code",
   "execution_count": null,
   "metadata": {
    "hide-output": false,
    "slideshow": {
     "slide_type": "fragment"
    }
   },
   "outputs": [],
   "source": [
    "apol = lambda w: (1 - model.beta) * w\n",
    "grid = model.grid\n",
    "plt.plot(grid[1:],c[1:],linewidth=1.5)\n",
    "plt.plot(grid[1:],apol(grid[1:]),linewidth=1.5)"
   ]
  },
  {
   "cell_type": "code",
   "execution_count": null,
   "metadata": {
    "hide-output": false,
    "slideshow": {
     "slide_type": "slide"
    }
   },
   "outputs": [],
   "source": [
    "m = cake_ongrid(beta=0.92,Wbar=10,ngrid=250)\n",
    "V,c = m.solve()\n",
    "plt.plot(m.grid[1:],c[1:],linewidth=1.5)\n",
    "plt.plot(m.grid[1:],apol(m.grid[1:]),linewidth=1.5)"
   ]
  },
  {
   "cell_type": "markdown",
   "metadata": {
    "slideshow": {
     "slide_type": "slide"
    }
   },
   "source": [
    "### Conclusion\n",
    "\n",
    "Solving “on the grid” allows to avoid interpolation of the value function,\n",
    "but leads to huge inaccuracies for low levels of wealth!"
   ]
  },
  {
   "cell_type": "markdown",
   "metadata": {
    "slideshow": {
     "slide_type": "slide"
    }
   },
   "source": [
    "#### Further learning resources\n",
    "\n",
    "- 📖 Adda and Russell Cooper “Dynamic Economics. Quantitative Methods and Applications.” *Chapters: 2, 3.3*  \n",
    "- QuantEcon DP section\n",
    "  [https://lectures.quantecon.org/py/index_dynamic_programming.html](https://lectures.quantecon.org/py/index_dynamic_programming.html)  "
   ]
  }
 ],
 "metadata": {
  "celltoolbar": "Slideshow",
  "date": 1627474986.519414,
  "filename": "30_cake_ongrid.rst",
  "kernelspec": {
   "display_name": "Python",
   "language": "python3",
   "name": "python3"
  },
  "title": "Foundations of Computational Economics #30"
 },
 "nbformat": 4,
 "nbformat_minor": 4
}