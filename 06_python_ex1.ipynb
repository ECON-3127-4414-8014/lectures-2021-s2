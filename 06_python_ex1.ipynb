{
 "cells": [
  {
   "cell_type": "markdown",
   "metadata": {
    "slideshow": {
     "slide_type": "slide"
    }
   },
   "source": [
    "# Foundations of Computational Economics #6\n",
    "\n",
    "by Fedor Iskhakov, ANU\n",
    "\n",
    "<img src=\"_static/img/dag3logo.png\" style=\"width:256px;\">"
   ]
  },
  {
   "cell_type": "markdown",
   "metadata": {
    "slideshow": {
     "slide_type": "fragment"
    }
   },
   "source": [
    "## Two simple examples\n",
    "\n",
    "<img src=\"_static/img/lab.png\" style=\"width:64px;\">"
   ]
  },
  {
   "cell_type": "markdown",
   "metadata": {
    "slideshow": {
     "slide_type": "subslide"
    }
   },
   "source": [
    "<img src=\"_static/img/youtube.png\" style=\"width:65px;\">\n",
    "\n",
    "[https://youtu.be/UGExPIDwDMs](https://youtu.be/UGExPIDwDMs)\n",
    "\n",
    "Description: Indexing problem and its inverse, base-N number conversion"
   ]
  },
  {
   "cell_type": "markdown",
   "metadata": {
    "slideshow": {
     "slide_type": "slide"
    }
   },
   "source": [
    "### Example 1\n",
    "\n",
    "Code up a function to convert $ (i,j) $ index in a two-dimensional array\n",
    "into a single index $ k $ which swipes the matrix by column.\n",
    "Also code up the inverse of this function."
   ]
  },
  {
   "cell_type": "code",
   "execution_count": null,
   "metadata": {
    "hide-output": false,
    "slideshow": {
     "slide_type": "slide"
    }
   },
   "outputs": [],
   "source": [
    "# code here"
   ]
  },
  {
   "cell_type": "code",
   "execution_count": null,
   "metadata": {
    "hide-output": false,
    "slideshow": {
     "slide_type": "slide"
    }
   },
   "outputs": [],
   "source": [
    "def k(i,j,m,base0=True):\n",
    "    '''Convert (i,j) indexes in a two-dimensional array\n",
    "    with m rows into a single index computed column-wise\n",
    "    '''\n",
    "    if base0:\n",
    "        return j*m + i\n",
    "    else:\n",
    "        return (j-1)*m + i\n",
    "\n",
    "def ik(k,m,base0=True):\n",
    "    '''Convert k index in a two-dimensional array\n",
    "    with m rows into a pair of (i,j) indexes\n",
    "    '''\n",
    "    if base0:\n",
    "        j = k//m\n",
    "        i = k%m\n",
    "    else:\n",
    "        j = k//m + 1\n",
    "        i = k%m\n",
    "    return i,j\n",
    "\n",
    "m=5\n",
    "for i in range(5):\n",
    "    for j in range(10):\n",
    "        k0 = k(i,j,m)\n",
    "        i1,j1 = ik(k0,m)\n",
    "        print('(%d,%d) --> %d --> (%d,%d)'%(i,j,k0,i1,j1))"
   ]
  },
  {
   "cell_type": "code",
   "execution_count": null,
   "metadata": {
    "hide-output": false,
    "slideshow": {
     "slide_type": "slide"
    }
   },
   "outputs": [],
   "source": [
    "# Running the check for base1 reveals the bug when i=5!\n",
    "\n",
    "m=5\n",
    "for i in range(1,m+1):\n",
    "    for j in range(1,11):\n",
    "        k0 = k(i,j,m,base0=False)\n",
    "        i1,j1 = ik(k0,m,base0=False)\n",
    "        print('(%d,%d) --> %d --> (%d,%d)'%(i,j,k0,i1,j1))\n",
    "\n",
    "# So, the correct inverse conversion in base1 should be:\n",
    "\n",
    "def ik(k,m,base0=True):\n",
    "    '''Convert k index in a two-dimensional array\n",
    "    with m rows into a pair of (i,j) indexes\n",
    "    '''\n",
    "    if base0:\n",
    "        j = k//m\n",
    "        i = k%m\n",
    "    else:\n",
    "        j = (k-1)//m + 1\n",
    "        i = (k-1)%m + 1\n",
    "    return i,j"
   ]
  },
  {
   "cell_type": "markdown",
   "metadata": {
    "slideshow": {
     "slide_type": "slide"
    }
   },
   "source": [
    "### Example 2\n",
    "\n",
    "Write a function to converter a decimal number into a given base. Return the result as string."
   ]
  },
  {
   "cell_type": "code",
   "execution_count": null,
   "metadata": {
    "hide-output": false,
    "slideshow": {
     "slide_type": "slide"
    }
   },
   "outputs": [],
   "source": [
    "# code here"
   ]
  },
  {
   "cell_type": "code",
   "execution_count": null,
   "metadata": {
    "hide-output": false,
    "slideshow": {
     "slide_type": "slide"
    }
   },
   "outputs": [],
   "source": [
    "def baseN(x,base=2):\n",
    "    '''Converts given number to given base'''\n",
    "    digits = [str(i) for i in range(10)] + [chr(i) for i in range(97,123)]\n",
    "    assert 2 <= base <= len(digits),'Number base must be between 2 and %d'%(len(digits))\n",
    "    if x == 0:\n",
    "        return '0'\n",
    "    out = []\n",
    "    while x>0:\n",
    "        i = x%base\n",
    "        out.append(digits[i])\n",
    "        x = x//base\n",
    "    return ''.join(out[::-1])\n",
    "\n",
    "for n in [3,8,35,574,1023523,9999]:\n",
    "    for b in range(36,1,-4):\n",
    "        print('%d in base %d is %s' % (n,b,baseN(n,b)))\n",
    "    print()"
   ]
  }
 ],
 "metadata": {
  "celltoolbar": "Slideshow",
  "date": 1628246895.2099788,
  "filename": "06_python_ex1.rst",
  "kernelspec": {
   "display_name": "Python",
   "language": "python3",
   "name": "python3"
  },
  "title": "Foundations of Computational Economics #6"
 },
 "nbformat": 4,
 "nbformat_minor": 4
}