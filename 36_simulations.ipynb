{
 "cells": [
  {
   "cell_type": "markdown",
   "metadata": {
    "slideshow": {
     "slide_type": "slide"
    }
   },
   "source": [
    "# Foundations of Computational Economics #36\n",
    "\n",
    "by Fedor Iskhakov, ANU\n",
    "\n",
    "<img src=\"_static/img/dag3logo.png\" style=\"width:256px;\">"
   ]
  },
  {
   "cell_type": "markdown",
   "metadata": {
    "slideshow": {
     "slide_type": "fragment"
    }
   },
   "source": [
    "## Simulating data from the model\n",
    "\n",
    "<img src=\"_static/img/lab.png\" style=\"width:64px;\">"
   ]
  },
  {
   "cell_type": "markdown",
   "metadata": {
    "slideshow": {
     "slide_type": "subslide"
    }
   },
   "source": [
    "<img src=\"_static/img/youtube.png\" style=\"width:65px;\">\n",
    "\n",
    "[https://youtu.be/eCQY1S6HJ58](https://youtu.be/eCQY1S6HJ58)\n",
    "\n",
    "Description: Random variables induced by the model. Coin flipping example. Simulating consumption and wealth paths from the consumption-savings model."
   ]
  },
  {
   "cell_type": "markdown",
   "metadata": {
    "slideshow": {
     "slide_type": "slide"
    }
   },
   "source": [
    "### Stochastic model as random variable\n",
    "\n",
    "$$\n",
    "\\tilde{X} \\sim F_{\\tilde{X}}(x)\n",
    "$$\n",
    "\n",
    "- distributions directly available in modules `random`, `NumPy.random` and `SciPy.stat`  \n",
    "- inverse transform sampling to simulated from any cdf  \n",
    "\n",
    "\n",
    "$$\n",
    "\\tilde{X} = M(\\tilde{\\varepsilon}), \\tilde{\\varepsilon} \\sim F_{\\varepsilon}(x)\n",
    "$$\n",
    "\n",
    "- $ M(\\cdot) $ is the structure of the model  \n",
    "- $ \\tilde{\\varepsilon} $ is the vector of random components in the model (“shocks”)  "
   ]
  },
  {
   "cell_type": "markdown",
   "metadata": {
    "slideshow": {
     "slide_type": "slide"
    }
   },
   "source": [
    "#### Example: simulating Markov chains\n",
    "\n",
    "- $ M(\\cdot) $ is given by the transition probability matrix $ P $  \n",
    "- $ \\tilde{\\varepsilon} $ can be though of the vector of standard uniform random variables $ U[0,1] $  \n",
    "- for given initial state $ x_0 $, use the appropriate row of the matrix $ P $ to simulate $ x_1 $  \n",
    "- for given state $ x_i $, use the appropriate row of the matrix $ P $ to simulate $ x_{i+1} $, and continue so forth for a given number of steps  \n",
    "\n",
    "\n",
    "(see video 20)"
   ]
  },
  {
   "cell_type": "markdown",
   "metadata": {
    "slideshow": {
     "slide_type": "slide"
    }
   },
   "source": [
    "#### More interesting example: coin flipping game\n",
    "\n",
    "- fair coin is flipped sequentially  \n",
    "- if 3 heads come up in a row, pay \\$10  \n",
    "- if 3 tails come up in a row, get \\$10  \n",
    "\n",
    "\n",
    "What is the distribution of the wins after 100 coin flips?\n",
    "\n",
    "What is the expected number of tosses to win or loose \\$100?"
   ]
  },
  {
   "cell_type": "code",
   "execution_count": null,
   "metadata": {
    "hide-output": false,
    "slideshow": {
     "slide_type": "slide"
    }
   },
   "outputs": [],
   "source": [
    "import numpy as np\n",
    "import matplotlib.pyplot as plt\n",
    "%matplotlib inline\n",
    "plt.rcParams['figure.figsize'] = [12, 8]"
   ]
  },
  {
   "cell_type": "code",
   "execution_count": null,
   "metadata": {
    "hide-output": false,
    "slideshow": {
     "slide_type": "slide"
    }
   },
   "outputs": [],
   "source": [
    "def game(p=0.5,nsteps=10,stopping=None,verbose=False):\n",
    "    '''3 tails coin flipping game'''\n",
    "    i, tails, heads, balance = 1, 0, 0, [0.]  # initialize all indicators and counters\n",
    "    while True:\n",
    "        coin = np.random.random() > p  # draw from U[0,1)\n",
    "        if verbose:\n",
    "            print('T' if coin else 'H',end=' ')\n",
    "        # increment the counters of consecutive heads/tails\n",
    "        tails = tails + 1 if coin else 0\n",
    "        heads = heads + 1 if not coin else 0\n",
    "        i+=1\n",
    "        if tails == 3 or heads == 3:\n",
    "            increment = 10 if tails == 3 else -10\n",
    "            balance.append(balance[-1] + increment)\n",
    "            heads, tails = 0, 0   # four heads or tails should not count two series of three\n",
    "            if verbose:\n",
    "                print('($%1.0f)'%balance[-1],end=' ')\n",
    "        else:\n",
    "            balance.append(balance[-1])\n",
    "        if nsteps and i >= nsteps:\n",
    "            if verbose:\n",
    "                print('Done after %d steps'%nsteps)\n",
    "            break\n",
    "        if stopping and (balance[-1] <= stopping[0] or balance[-1] >= stopping[1]):\n",
    "            if verbose:\n",
    "                print('Done after hitting the boundary')\n",
    "            break\n",
    "    return balance[-1], balance, i"
   ]
  },
  {
   "cell_type": "code",
   "execution_count": null,
   "metadata": {
    "hide-output": false,
    "slideshow": {
     "slide_type": "slide"
    }
   },
   "outputs": [],
   "source": [
    "b,bb,st = game(verbose=True)\n",
    "# b,bb,st = game(verbose=True,stopping=(-30,100),nsteps=None)\n",
    "print('Balance $%1.1f after %d coin flips'%(b,st))"
   ]
  },
  {
   "cell_type": "code",
   "execution_count": null,
   "metadata": {
    "hide-output": false,
    "slideshow": {
     "slide_type": "slide"
    }
   },
   "outputs": [],
   "source": [
    "data = [game(nsteps=250) for i in range(10)]\n",
    "fig, ax = plt.subplots(figsize=(10,6))\n",
    "for balance,trajectory,rounds in data:\n",
    "    plt.plot(range(rounds),trajectory,alpha=0.75)\n",
    "plt.show()"
   ]
  },
  {
   "cell_type": "code",
   "execution_count": null,
   "metadata": {
    "hide-output": false,
    "slideshow": {
     "slide_type": "slide"
    }
   },
   "outputs": [],
   "source": [
    "data = [game(nsteps=100) for i in range(5000)]\n",
    "balances = [i for i,j,k in data]\n",
    "plt.hist(balances,bins=25,density=True,color='skyblue',edgecolor='k')\n",
    "plt.title('Distribution of wins/losses after 100 steps of the coin flipping game')\n",
    "plt.show()"
   ]
  },
  {
   "cell_type": "code",
   "execution_count": null,
   "metadata": {
    "hide-output": false,
    "slideshow": {
     "slide_type": "slide"
    }
   },
   "outputs": [],
   "source": [
    "data = [game(nsteps=None,stopping=(-100,200)) for i in range(1000)]\n",
    "rounds = [k for i,j,k in data]\n",
    "plt.hist(rounds,bins=25,density=True,color='skyblue',edgecolor='k')\n",
    "plt.title('Distribution of the number of steps to hit one of the (-100,200) bounds in the coin flipping game')\n",
    "plt.show()"
   ]
  },
  {
   "cell_type": "markdown",
   "metadata": {
    "slideshow": {
     "slide_type": "slide"
    }
   },
   "source": [
    "### Simulating from dynamic models\n",
    "\n",
    "General form of the Bellman equation/operator\n",
    "\n",
    "$$\n",
    "V(\\text{state}) = \\max_{\\text{decisions}} \\big[ U(\\text{state},\\text{decision}) + \\beta \\mathbb{E}\\big\\{ V(\\text{next state})  \\big| \\text{state},\\text{decision} \\big\\} \\big]\n",
    "$$\n",
    "\n",
    "Without loss of generality express the next period state is a function of shocks $ g(\\text{state},\\text{decision},\\text{shocks}) = g(x,d,\\tilde{\\varepsilon}) $\n",
    "\n",
    "$$\n",
    "V(x) = \\max_{d} \\big[ U(x,d) + \\beta \\mathbb{E}_{\\varepsilon}\\big\\{ V\\big( g(x,d,\\tilde{\\varepsilon}) \\big) \\big\\} \\big] = T(V)(x)\n",
    "$$"
   ]
  },
  {
   "cell_type": "markdown",
   "metadata": {
    "slideshow": {
     "slide_type": "slide"
    }
   },
   "source": [
    "#### Solution of the model and simulation from the model\n",
    "\n",
    "- Solution for the dynamic model: value function $ V^\\star(x) $ satisfying the fixed point condition $ V(x)=T(V)(x) $  AND the policy function  \n",
    "\n",
    "\n",
    "$$\n",
    "d^\\star(x) = \\arg\\max_{d} \\big[ U(x,d) + \\beta \\mathbb{E}_{\\varepsilon}\\big\\{ V^\\star\\big( g(x,d,\\tilde{\\varepsilon}) \\big) \\big\\} \\big]\n",
    "$$\n",
    "\n",
    "- After the model is solved for $ d^\\star(x) $, $ \\tilde{X} = M(\\tilde{\\varepsilon}), \\tilde{\\varepsilon} \\sim F_{\\varepsilon}(x) $ applies  \n",
    "- $ \\tilde{X} = \\{x_0,\\tilde{x}_1,\\dots,\\tilde{x}_T\\} $ is the simulated state trajectory (for a given $ x_0 $ and $ T $)  \n",
    "- $ \\tilde{\\varepsilon}  = \\{\\tilde{\\varepsilon}_1,\\dots,\\tilde{\\varepsilon}_T\\} $ is a series of shocks, and it holds  \n",
    "\n",
    "\n",
    "$$\n",
    "\\tilde{x}_t = g \\big( \\tilde{x}_{t-1},d^\\star(\\tilde{x}_{t-1}),\\tilde{\\varepsilon}_t \\big)\n",
    "$$"
   ]
  },
  {
   "cell_type": "markdown",
   "metadata": {
    "slideshow": {
     "slide_type": "slide"
    }
   },
   "source": [
    "#### The difference between solution and simulation from the dynamic model\n",
    "\n",
    "1. **Solution:** fixed point of the Bellman operator value function $ V^\\star(x) $ and the policy function $ d^\\star(x) $  \n",
    "1. **Simulation:** a sequence of $ T $ realized points in the state space starting from the initial point $ x_0 $ **under the optimal policy**  \n",
    "\n",
    "\n",
    "$$\n",
    "\\tilde{x}_t = g\\big( \\tilde{x}_{t-1},d^\\star(\\tilde{x}_{t-1}),\\tilde{\\varepsilon}_t \\big)\n",
    "$$"
   ]
  },
  {
   "cell_type": "markdown",
   "metadata": {
    "slideshow": {
     "slide_type": "slide"
    }
   },
   "source": [
    "#### Simulating data from the stochastic consumption-savings model\n",
    "\n",
    "Write the **simulator** (simulation function) for the stochastic consumption-savings model for:\n",
    "\n",
    "- given vector of $ N $ initial state points $ M_0 = (M^1_0,\\dots,M^N_0) $  \n",
    "- simulate optimal consumption choices and state transitions on each of the $ N $ trajectories for $ T $ periods  \n",
    "- make simulations repeatable by fixing the seed of the random number generator  "
   ]
  },
  {
   "cell_type": "markdown",
   "metadata": {
    "slideshow": {
     "slide_type": "slide"
    }
   },
   "source": [
    "#### Simulator algorithm\n",
    "\n",
    "1. Solve the model to find the policy function  \n",
    "1. Initialize the simulated paths, fix the seed if required  \n",
    "1. Loop for $ T $ periods, computing the optimal consumption choices and simulating random incomes  "
   ]
  },
  {
   "cell_type": "code",
   "execution_count": null,
   "metadata": {
    "hide-output": false,
    "slideshow": {
     "slide_type": "slide"
    }
   },
   "outputs": [],
   "source": [
    "# Developed in the video\n",
    "import numpy as np\n",
    "import matplotlib.pyplot as plt\n",
    "from scipy import interpolate\n",
    "from scipy.stats import lognorm\n",
    "\n",
    "class deaton():\n",
    "    '''Implementation of the stochastic Deaton consumption-savings problem with random income.'''\n",
    "\n",
    "    def __init__(self, Mbar=10,\n",
    "                 ngrid=50, nchgrid=100, nquad=10, interpolation='linear',\n",
    "                 beta=.9, R=1.05, sigma=1.):\n",
    "        '''Object creator for the stochastic consumption-savings model'''\n",
    "        self.beta = beta        # Discount factor\n",
    "        self.R = R              # Gross interest\n",
    "        self.sigma = sigma      # Param in log-normal income distribution\n",
    "        self.Mbar = Mbar        # Upper bound on wealth\n",
    "        self.ngrid = ngrid      # Number of grid points in the state space\n",
    "        self.nchgrid = nchgrid  # Number of grid points in the decision space\n",
    "        self.nquad = nquad      # Number of quadrature points\n",
    "        self.interpolation = interpolation  # type of interpolation, see below\n",
    "        # state and choice space grids, as well as quadrature points and weights are set with setter functions below\n",
    "\n",
    "    def __repr__(self):\n",
    "        '''String representation for the model'''\n",
    "        return 'Deaton model with beta={:1.3f}, sigma={:1.3f}, gross return={:1.3f}\\nGrids: state {} points up to {:1.1f}, choice {} points, quadrature {} points\\nInterpolation: {}\\nThe model is {}solved.'\\\n",
    "               .format(self.beta,self.sigma,self.R,self.ngrid,self.Mbar,self.nchgrid,self.nquad,self.interpolation,'' if hasattr(self,'solution') else 'not ')\n",
    "\n",
    "    @property\n",
    "    def ngrid(self):\n",
    "        '''Property getter for the ngrid parameter'''\n",
    "        return self.__ngrid\n",
    "\n",
    "    @ngrid.setter\n",
    "    def ngrid(self,ngrid):\n",
    "        '''Property setter for the ngrid parameter'''\n",
    "        self.__ngrid = ngrid\n",
    "        epsilon = np.finfo(float).eps # smallest positive float number difference\n",
    "        self.grid = np.linspace(epsilon,self.Mbar,ngrid) # grid for state space\n",
    "\n",
    "    @property\n",
    "    def nchgrid(self):\n",
    "        '''Property getter for the nchgrid parameter'''\n",
    "        return self.__nchgrid\n",
    "\n",
    "    @nchgrid.setter\n",
    "    def nchgrid(self,nchgrid):\n",
    "        '''Property setter for the nchgrid parameter'''\n",
    "        self.__nchgrid = nchgrid\n",
    "        epsilon = np.finfo(float).eps # smallest positive float number difference\n",
    "        self.chgrid = np.linspace(epsilon,self.Mbar,nchgrid) # grid for state space\n",
    "\n",
    "    @property\n",
    "    def sigma(self):\n",
    "        '''Property getter for the sigma parameter'''\n",
    "        return self.__sigma\n",
    "\n",
    "    @sigma.setter\n",
    "    def sigma(self,sigma):\n",
    "        '''Property setter for the sigma parameter'''\n",
    "        self.__sigma = sigma\n",
    "        self.__quadrature_setup()  # update quadrature points and weights\n",
    "\n",
    "    @property\n",
    "    def nquad(self):\n",
    "        '''Property getter for the number of quadrature points'''\n",
    "        return self.__nquad\n",
    "\n",
    "    @nquad.setter\n",
    "    def nquad(self,nquad):\n",
    "        '''Property setter for the number of quadrature points'''\n",
    "        self.__nquad = nquad\n",
    "        self.__quadrature_setup()  # update quadrature points and weights\n",
    "\n",
    "    def __quadrature_setup(self):\n",
    "        '''Internal function to set up quadrature points and weights,\n",
    "        depends on sigma and nquad, therefore called from the property setters\n",
    "        '''\n",
    "        try:\n",
    "            # quadrature points and weights for log-normal distribution\n",
    "            self.quadp,self.quadw = np.polynomial.legendre.leggauss(self.__nquad) # Gauss-Legendre for [-1,1]\n",
    "            self.quadp = (self.quadp+1)/2 # rescale to [0,1]\n",
    "            self.quadp = lognorm.ppf(self.quadp,self.__sigma) # inverse cdf\n",
    "            self.quadw /= 2 # rescale weights as well\n",
    "            self.quadp.shape = (1,1,self.__nquad)  # quadrature points in third dimension of 3-dim array\n",
    "        except(AttributeError):\n",
    "            # when __nquad or __sigma are not yet set\n",
    "            pass\n",
    "\n",
    "    def utility(self,c):\n",
    "        '''Utility function'''\n",
    "        return np.log(c)\n",
    "\n",
    "    def next_period_wealth(self,M,c,y=None):\n",
    "        '''Next period budget, returned for all quadrature points'''\n",
    "        M1 = self.R*(M-c)                 # next period wealth without income\n",
    "        if np.any(y==None):\n",
    "            M1.shape += (1,)*(3-M1.ndim)  # add singular dimensions up to 3\n",
    "            # interpolating over income ==> replace with quadrature points\n",
    "            if self.nquad>1:\n",
    "                return M1 + self.quadp    # 3-dim array\n",
    "            else:\n",
    "                return M1                 # special case of no income\n",
    "        else:                             # needed for simulated income\n",
    "            if self.nquad>1:\n",
    "                return M1 + y\n",
    "            else:\n",
    "                return M1                 # special case of no income\n",
    "\n",
    "    def interp_func(self,x,f):\n",
    "        '''Returns the interpolation function for given data'''\n",
    "        if self.interpolation=='linear':\n",
    "            return interpolate.interp1d(x,f,kind='slinear',fill_value=\"extrapolate\")\n",
    "        elif self.interpolation=='quadratic':\n",
    "            return interpolate.interp1d(x,f,kind='quadratic',fill_value=\"extrapolate\")\n",
    "        elif self.interpolation=='cubic':\n",
    "            return interpolate.interp1d(x,f,kind='cubic',fill_value=\"extrapolate\")\n",
    "        elif self.interpolation=='polynomial':\n",
    "            p = np.polynomial.polynomial.polyfit(x,f,self.ngrid_state-1)\n",
    "            return lambda x: np.polynomial.polynomial.polyval(x,p)\n",
    "        else:\n",
    "            print('Unknown interpolation type')\n",
    "            return None\n",
    "\n",
    "    def bellman_discretized(self,V0):\n",
    "        '''Bellman operator with discretized choice,\n",
    "           V0 is 1-dim vector of values on the state grid\n",
    "        '''\n",
    "        states = self.grid[np.newaxis,:]                # state grid as row vector\n",
    "        choices = self.chgrid[:,np.newaxis]             # choice grid as column vector\n",
    "        M = np.repeat(states,self.nchgrid,axis=0)       # current wealth, state grid in columns (repeated rows)\n",
    "        c = np.repeat(choices,self.ngrid,axis=1)        # choice grid in rows (repeated columns)\n",
    "        c *= self.grid/self.Mbar                        # scale values of choices to ensure c<=M\n",
    "        M1 = self.next_period_wealth(M,c)               # 3-dim array with quad point in last dimension\n",
    "        inter = self.interp_func(self.grid,V0)          # interpolating function for next period value function\n",
    "        V1 = inter(M1)                                  # value function at next period wealth, 3-dim array\n",
    "        EV = np.dot(V1,self.quadw)                      # expected value function, 2-dim matrix\n",
    "        MX = self.utility(c) + self.beta*EV             # maximand of Bellman equation, 2-dim matrix\n",
    "        MX[c>M] = -np.inf                               # infeasible choices should have -inf (just in case)\n",
    "        V1 = np.amax(MX,axis=0,keepdims=False)          # optimal choice as maximum in every column, 1-dim vector\n",
    "        c1 = c[np.argmax(MX,axis=0),range(self.ngrid)]  # choose the max attaining levels of c\n",
    "        return V1, c1\n",
    "\n",
    "    def solve_vfi (self,maxiter=500,tol=1e-4,callback=None):\n",
    "        '''Solves the model using value function iterations (successive approximations of Bellman operator)\n",
    "           Callback function is invoked at each iteration with keyword arguments.\n",
    "        '''\n",
    "        V0 = self.utility(self.grid) # on first iteration assume consuming everything\n",
    "        for iter in range(maxiter):\n",
    "            V1,c1 = self.bellman_discretized(V0)\n",
    "            err = np.amax(np.abs(V1-V0))\n",
    "            if callback: callback(iter=iter,model=self,value=V1,policy=c1,err=err) # callback for making plots\n",
    "            if err < tol:\n",
    "                break  # converged!\n",
    "            V0 = V1  # prepare for the next iteration\n",
    "        else:  # when iter went up to maxiter\n",
    "            raise RuntimeError('No convergence: maximum number of iterations achieved!')\n",
    "        self.solution = {'value':V1,'policy':c1}  # save the model solution to the object\n",
    "        return V1,c1\n",
    "\n",
    "    def solve_plot(self,solver,**kvarg):\n",
    "        '''Illustrate solution\n",
    "           Inputs: solver (string), and any inputs to the solver\n",
    "        '''\n",
    "        if solver=='vfi':\n",
    "            solver_func = self.solve_vfi\n",
    "        else:\n",
    "            raise ValueError('Unknown solver label')\n",
    "        fig1, (ax1,ax2) = plt.subplots(1,2,figsize=(14,8))\n",
    "        ax1.grid(b=True, which='both', color='0.65', linestyle='-')\n",
    "        ax2.grid(b=True, which='both', color='0.65', linestyle='-')\n",
    "        ax1.set_title('Value function convergence with %s'%solver)\n",
    "        ax2.set_title('Policy function convergence with %s'%solver)\n",
    "        ax1.set_xlabel('Wealth, M')\n",
    "        ax2.set_xlabel('Wealth, M')\n",
    "        ax1.set_ylabel('Value function')\n",
    "        ax2.set_ylabel('Policy function')\n",
    "        def callback(**kwargs):\n",
    "            print('|',end='')\n",
    "            grid = kwargs['model'].grid\n",
    "            v = kwargs['value']\n",
    "            c = kwargs['policy']\n",
    "            ax1.plot(grid[1:],v[1:],color='k',alpha=0.25)\n",
    "            ax2.plot(grid,c,color='k',alpha=0.25)\n",
    "        V,c = solver_func(callback=callback,**kvarg)\n",
    "        # add solutions\n",
    "        ax1.plot(self.grid[1:],V[1:],color='r',linewidth=2.5)\n",
    "        ax2.plot(self.grid,c,color='r',linewidth=2.5)\n",
    "        plt.show()\n",
    "        return V,c\n",
    "\n",
    "    def simulator(self,init_wealth=1,T=10,seed=None,plot=True):\n",
    "        '''Simulation of the model for given number of periods from given initial conditions'''\n",
    "        assert hasattr(self,'solution'), 'Need to solve the model before simulating!'\n",
    "        if seed!=None:\n",
    "            np.random.seed(seed)  # fix the seed if needed\n",
    "        init_wealth = np.asarray(init_wealth).ravel()  # flat np array of initial wealth\n",
    "        N = init_wealth.size  # number of trajectories to simulate\n",
    "        sim = {'M':np.empty((N,T+1)),'c':np.empty((N,T+1))}\n",
    "        sim['M'][:,0] = init_wealth  # initial wealth in the first column\n",
    "        inter = self.interp_func(self.grid,self.solution['policy'])  # interpolation function for policy function\n",
    "        for t in range(T+1):\n",
    "            sim['c'][:,t] = inter(sim['M'][:,t])  # optimal consumption in period t\n",
    "            if t<T:\n",
    "                y = lognorm.rvs(self.sigma,size=N) # draw random income\n",
    "                sim['M'][:,t+1] = self.next_period_wealth(sim['M'][:,t],sim['c'][:,t],y) # next period wealth\n",
    "        if plot:\n",
    "            fig, (ax1,ax2) = plt.subplots(2,1,figsize=(12,6))\n",
    "            ax1.set_title('Simulated wealth and consumption trajectories')\n",
    "            ax1.set_ylabel('Wealth')\n",
    "            ax2.set_ylabel('Consumption')\n",
    "            ax2.set_xlabel('Time period in the simulation')\n",
    "            for ax in (ax1,ax2):\n",
    "                ax.grid(b=True, which='both', color='0.95', linestyle='-')\n",
    "            for i in range(N):\n",
    "                ax1.plot(sim['M'][i,:],alpha=0.75)\n",
    "                ax2.plot(sim['c'][i,:],alpha=0.75)\n",
    "            plt.show()\n",
    "        return sim # return simulated data"
   ]
  },
  {
   "cell_type": "code",
   "execution_count": null,
   "metadata": {
    "hide-output": false,
    "slideshow": {
     "slide_type": "slide"
    }
   },
   "outputs": [],
   "source": [
    "m = deaton(ngrid=100,nchgrid=250,sigma=.2,R=1.05,beta=.8,nquad=10)\n",
    "print(m)\n",
    "v,c = m.solve_plot(solver='vfi')\n",
    "sims = m.simulator(init_wealth=[1,2,3],T=5)"
   ]
  },
  {
   "cell_type": "markdown",
   "metadata": {
    "slideshow": {
     "slide_type": "slide"
    }
   },
   "source": [
    "#### Changes in the class deaton()\n",
    "\n",
    "- save the solution in the object, update the `__repr__()` method to indicate if the model is solved  \n",
    "- make sure the next period budget can be computed with simulated income  \n",
    "- new `simulator()` method  \n",
    "- plotting the simulations  "
   ]
  },
  {
   "cell_type": "code",
   "execution_count": null,
   "metadata": {
    "hide-output": false,
    "slideshow": {
     "slide_type": "slide"
    }
   },
   "outputs": [],
   "source": [
    "# Previously developed simulator code (that requires the changes to the deaton() class!)\n",
    "\n",
    "def simulator(self, init_wealth=1, T=10, seed=None, plot=True):\n",
    "    '''Simulator for T periods of the model, init_wealth = initial wealth'''\n",
    "    if self.solution is None:\n",
    "        raise(RuntimeError('Model has to be solved before simulations'))\n",
    "    if seed:\n",
    "        np.random.seed(seed) # fix the seed in needed\n",
    "    interp = self.interp_func(self.grid,self.solution['policy']) # interpolator of the policy function\n",
    "    init_wealth = np.asarray(init_wealth).ravel() # initial wealth as flat np array\n",
    "    N = init_wealth.size  # number of individuals to simulate\n",
    "    sim = {'M': np.empty((N,T+1),dtype='float'),\n",
    "           'c': np.empty((N,T+1),dtype='float'),\n",
    "           'y': np.empty((N,T+1),dtype='float'),\n",
    "          }  # dictionary to hold the simulated values\n",
    "    sim['M'][:,0] = init_wealth # initialize wealth in first period\n",
    "    sim['y'][:,0] = np.full(N,np.NaN) # no income in the first period\n",
    "    for t in range(T+1):\n",
    "        sim['c'][:,t] = interp(sim['M'][:,t]) # optim consumption\n",
    "        if t < T: # until the last period\n",
    "            sim['y'][:,t+1] = np.random.lognormal(sigma=self.sigma,size=N)\n",
    "            sim['M'][:,t+1] = self.next_period_wealth(sim['M'][:,t],sim['c'][:,t],sim['y'][:,t+1])\n",
    "    self.sims = sim  # save simulation into the object\n",
    "    if plot:\n",
    "        N = self.sims['M'].shape[0] # number of simulated agents\n",
    "        fig, (ax1,ax2) = plt.subplots(2,1,figsize=(12,6))\n",
    "        ax1.set_title('Simulated wealth and consumption trajectories')\n",
    "        ax1.set_ylabel('Wealth')\n",
    "        ax2.set_ylabel('Consumption')\n",
    "        ax2.set_xlabel('Time period in the simulation')\n",
    "        for ax in (ax1,ax2):\n",
    "            ax.grid(b=True, which='both', color='0.95', linestyle='-')\n",
    "        for i in range(N):\n",
    "            ax1.plot(sim['M'][i,:],alpha=0.75)\n",
    "            ax2.plot(sim['c'][i,:],alpha=0.75)\n",
    "        plt.show()\n",
    "    return sim\n",
    "\n",
    "m = deaton(ngrid=100,nchgrid=250,sigma=.2,R=1.05,beta=.85,nquad=10)\n",
    "v,c = m.solve_vfi()\n",
    "print(m)\n",
    "\n",
    "# generate initial wealth\n",
    "init_wealth = np.random.lognormal(sigma=.1,size=10)\n",
    "# init_wealth = .85*np.ones(shape=5)\n",
    "simulator(m,init_wealth=init_wealth,T=50);\n",
    "# print('\\nSimulated wealth:\\n',m.sims['M'])\n",
    "# print('\\nSimulated consumption:\\n',m.sims['c'])\n",
    "# print('\\nIncome realizations:\\n',m.sims['y'])"
   ]
  },
  {
   "cell_type": "markdown",
   "metadata": {
    "slideshow": {
     "slide_type": "slide"
    }
   },
   "source": [
    "#### More simulations\n",
    "\n",
    "- Longer horizon, many people  \n",
    "- Change sigma parameter in the model  \n",
    "- Observe tendency to consumption smoothing  "
   ]
  },
  {
   "cell_type": "code",
   "execution_count": null,
   "metadata": {
    "hide-output": false,
    "slideshow": {
     "slide_type": "slide"
    }
   },
   "outputs": [],
   "source": [
    "m = deaton(R=1.05,beta=.925,nquad=7,sigma=0.5)\n",
    "m.solve_vfi(maxiter=500)\n",
    "# m.simulator(T=100,init_wealth=np.random.lognormal(sigma=0.1,size=3))\n",
    "simulator(m,T=100,init_wealth=np.random.lognormal(sigma=0.1,size=3),plot=True)"
   ]
  }
 ],
 "metadata": {
  "celltoolbar": "Slideshow",
  "date": 1627474986.7583911,
  "filename": "36_simulations.rst",
  "kernelspec": {
   "display_name": "Python",
   "language": "python3",
   "name": "python3"
  },
  "title": "Foundations of Computational Economics #36"
 },
 "nbformat": 4,
 "nbformat_minor": 4
}