{
 "cells": [
  {
   "cell_type": "markdown",
   "metadata": {
    "slideshow": {
     "slide_type": "slide"
    }
   },
   "source": [
    "# Foundations of Computational Economics #21\n",
    "\n",
    "by Fedor Iskhakov, ANU\n",
    "\n",
    "<img src=\"_static/img/dag3logo.png\" style=\"width:256px;\">"
   ]
  },
  {
   "cell_type": "markdown",
   "metadata": {
    "slideshow": {
     "slide_type": "fragment"
    }
   },
   "source": [
    "## Computing a stationary distribution of a Markov chain\n",
    "\n",
    "<img src=\"_static/img/lab.png\" style=\"width:64px;\">"
   ]
  },
  {
   "cell_type": "markdown",
   "metadata": {
    "slideshow": {
     "slide_type": "subslide"
    }
   },
   "source": [
    "<img src=\"_static/img/youtube.png\" style=\"width:65px;\">\n",
    "\n",
    "[https://youtu.be/eEbDbM17soU](https://youtu.be/eEbDbM17soU)\n",
    "\n",
    "Description: Successive approximations and direct linear solver."
   ]
  },
  {
   "cell_type": "markdown",
   "metadata": {
    "slideshow": {
     "slide_type": "slide"
    }
   },
   "source": [
    "Let stochastic matrix $ P $ denote the transition probability matrix of a Markov chain which takes values from $ S=\\{0,\\dots,n-1\\} $\n",
    "\n",
    "Assume that $ P $ is aperiodic and irreducible, so there exists a unique stationary distribution $ \\psi^\\star $ such that\n",
    "\n",
    "$$\n",
    "\\psi^\\star = \\psi^\\star \\cdot P\n",
    "$$\n",
    "\n",
    "Our task is to compute $ \\psi^\\star $"
   ]
  },
  {
   "cell_type": "markdown",
   "metadata": {
    "slideshow": {
     "slide_type": "slide"
    }
   },
   "source": [
    "### Method 1: successive approximations\n",
    "\n",
    "Due to convergence results, we can use the following algorithm (see previous video on Markov chains)\n",
    "\n",
    "1. Start from arbitrary distribution $ \\psi_0 $  \n",
    "1. Compute the updated distribution $ \\psi_t = \\psi_{t-1} P $ until $ \\psi_t $ and $ \\psi_{t-1} $ are indistinguishable  "
   ]
  },
  {
   "cell_type": "code",
   "execution_count": null,
   "metadata": {
    "hide-output": false,
    "slideshow": {
     "slide_type": "slide"
    }
   },
   "outputs": [],
   "source": [
    "import numpy as np\n",
    "P = np.array([[.5,.3,.2],[.5,.4,.1],[.1,.1,.8]])\n",
    "ψ = np.array([1,0,0])"
   ]
  },
  {
   "cell_type": "code",
   "execution_count": null,
   "metadata": {
    "hide-output": false,
    "slideshow": {
     "slide_type": "slide"
    }
   },
   "outputs": [],
   "source": [
    "def stationary_sa(P,psi0,tol=1e-6,maxiter=100,callback=None):\n",
    "    '''Computes stationary distribution for the Markov chain given by transition probability\n",
    "    matrix P, with given maximum number of iterations, and convergence tolerance.\n",
    "    callback function is called at each iteration if given.\n",
    "    Method: successive approximations\n",
    "    '''\n",
    "    pass\n",
    "\n",
    "stationary_sa(P,ψ)"
   ]
  },
  {
   "cell_type": "code",
   "execution_count": null,
   "metadata": {
    "hide-output": false,
    "slideshow": {
     "slide_type": "slide"
    }
   },
   "outputs": [],
   "source": [
    "def stationary_sa(P,psi0=[None,],tol=1e-6,maxiter=100,callback=None):\n",
    "    '''Computes stationary distribution for the Markov chain given by transition probability\n",
    "    matrix P, with given maximum number of iterations, and convergence tolerance.\n",
    "    callback function is called at each iteration if given.\n",
    "    Method: successive approximations\n",
    "    '''\n",
    "    if psi0[0]==None:\n",
    "        # degenrate initial distribution\n",
    "        psi0 = [0,]*P.shape[0]\n",
    "        psi0[0]=1.0\n",
    "    P,psi0 = np.asarray(P),np.asarray(psi0)  # convert to np arrays (in case lists were passed)\n",
    "    assert np.all(np.abs(P.sum(axis=1)-1)<1e-10), 'Passed P is not stochastic matrix'\n",
    "    assert np.abs(psi0.sum()-1)<1e-10, 'Passed probabilities do not sum up to one'\n",
    "    for i in range(maxiter):  # main loop\n",
    "        psi1 = psi0 @ P  # update approximation of psi^star\n",
    "        err = np.amax(abs(psi0-psi1))  # error is the max absolute deviation element-wise\n",
    "        if callback != None: callback(err=err,iter=i,psi=psi1)\n",
    "        if err<tol:\n",
    "            break  # break out if converged\n",
    "        psi0 = psi1  # get ready to the next iteration\n",
    "    else:\n",
    "        raise RuntimeError('Failed to converge in %d iterations'%maxiter)\n",
    "    return psi1\n",
    "\n",
    "def printme(**kwargs):\n",
    "    print('iter %d, psi = %r'%(kwargs['iter'],kwargs['psi']))\n",
    "stationary_sa(P,callback=printme)"
   ]
  },
  {
   "cell_type": "markdown",
   "metadata": {
    "slideshow": {
     "slide_type": "slide"
    }
   },
   "source": [
    "### Method 2: direct solution with linear solver\n",
    "\n",
    "$ \\psi^\\star \\in \\mathbb{R}^n $ is a row vector of probabilities, $ \\sum \\psi^\\star_i = 1 $\n",
    "\n",
    "$$\n",
    "\\psi^\\star = \\psi^\\star \\cdot P\n",
    "$$\n",
    "\n",
    "Write a linear system of equations:\n",
    "\n",
    "$$\n",
    "\\psi^\\star (I - P) = 0, \\quad \\psi^\\star\n",
    "$$\n",
    "\n",
    "$$\n",
    "(I - P') \\tilde{\\psi}^\\star = 0, \\quad \\tilde{\\psi}^\\star \\text{ is a column vector!}\n",
    "$$\n",
    "\n",
    "We can use the second form with the standard `np.linalg.solver`"
   ]
  },
  {
   "cell_type": "code",
   "execution_count": null,
   "metadata": {
    "hide-output": false,
    "slideshow": {
     "slide_type": "slide"
    }
   },
   "outputs": [],
   "source": [
    "# have to be careful with the zero solution!\n",
    "m = P.shape[0]\n",
    "A = np.eye(m) - P.T\n",
    "print(np.linalg.solve(A,np.zeros(m)))\n",
    "print(np.linalg.matrix_rank(A))"
   ]
  },
  {
   "cell_type": "markdown",
   "metadata": {
    "slideshow": {
     "slide_type": "slide"
    }
   },
   "source": [
    "### Include the linear constraint into the system itself\n",
    "\n",
    "Let $ e $ be the column vector of appropriate length with all elements equal 1\n",
    "\n",
    "The system\n",
    "\n",
    "$$\n",
    "\\left(\n",
    "\\begin{array}{cc}\n",
    "I - P' & e \\\\\n",
    "e' & 1\n",
    "\\end{array}\n",
    "\\right) \\cdot\n",
    "\\left(\n",
    "\\begin{array}{c}\n",
    "\\psi \\\\\n",
    "\\epsilon\n",
    "\\end{array}\n",
    "\\right)\n",
    "=\n",
    "\\left(\n",
    "\\begin{array}{c}\n",
    "e \\\\\n",
    "2\n",
    "\\end{array}\n",
    "\\right)\n",
    "$$\n",
    "\n",
    "has full rank and therefore can be solved directly"
   ]
  },
  {
   "cell_type": "code",
   "execution_count": null,
   "metadata": {
    "hide-output": false,
    "slideshow": {
     "slide_type": "slide"
    }
   },
   "outputs": [],
   "source": [
    "def stationary_linalg(P,psi0=None):\n",
    "    '''Computes stationary distribution for the Markov chain given by transition probability\n",
    "    matrix P. Method: linear solver.\n",
    "    '''\n",
    "    pass"
   ]
  },
  {
   "cell_type": "code",
   "execution_count": null,
   "metadata": {
    "hide-output": false,
    "slideshow": {
     "slide_type": "slide"
    }
   },
   "outputs": [],
   "source": [
    "def stationary_linalg(P,psi0=[None,]):\n",
    "    '''Computes stationary distribution for the Markov chain given by transition probability\n",
    "    matrix P. Method: linear solver.\n",
    "    '''\n",
    "    if psi0[0]==None:\n",
    "        # degenrate initial distribution\n",
    "        psi0 = [0,]*P.shape[0]\n",
    "        psi0[0]=1.0\n",
    "    P,psi0 = np.asarray(P),np.asarray(psi0)  # convert to np arrays (in case lists were passed)\n",
    "    assert np.all(np.abs(P.sum(axis=1)-1)<1e-10), 'Passed P is not stochastic matrix'\n",
    "    assert np.abs(psi0.sum()-1)<1e-10, 'Passed probabilities do not sum up to one'\n",
    "    m = P.shape[0]  # dimension of the problem\n",
    "    A = np.ones((m+1,m+1))  # square matrix of ones\n",
    "    A[:-1,:-1] = np.eye(m)-P.T\n",
    "    b = np.ones(m+1)\n",
    "    b[-1]=2\n",
    "    res = np.linalg.solve(A,b)\n",
    "    return res[:-1]\n",
    "\n",
    "print(stationary_linalg(P))"
   ]
  },
  {
   "cell_type": "markdown",
   "metadata": {
    "slideshow": {
     "slide_type": "slide"
    }
   },
   "source": [
    "#### Further learning resources\n",
    "\n",
    "- Post on Brilliant.org\n",
    "  [https://brilliant.org/wiki/stationary-distributions/](https://brilliant.org/wiki/stationary-distributions/)  "
   ]
  }
 ],
 "metadata": {
  "celltoolbar": "Slideshow",
  "date": 1627474986.198068,
  "filename": "21_stationary.rst",
  "kernelspec": {
   "display_name": "Python",
   "language": "python3",
   "name": "python3"
  },
  "title": "Foundations of Computational Economics #21"
 },
 "nbformat": 4,
 "nbformat_minor": 4
}