{
 "cells": [
  {
   "cell_type": "markdown",
   "metadata": {},
   "source": [
    "# Weekly exercise 8: Simple Matplotlib exercises\n",
    "\n",
    "Follow the compulsory QuantEcon DataScience tutorial at\n",
    "[https://datascience.quantecon.org/applications/visualization_rules.html](https://datascience.quantecon.org/applications/visualization_rules.html)"
   ]
  },
  {
   "cell_type": "markdown",
   "metadata": {},
   "source": [
    "## Task 1\n",
    "\n",
    "Import the necessary libraries"
   ]
  },
  {
   "cell_type": "code",
   "execution_count": null,
   "metadata": {
    "hide-output": false
   },
   "outputs": [],
   "source": [
    "import pandas as pd\n",
    "import matplotlib.pyplot as plt\n",
    "# print the graphs in the notebook\n",
    "%matplotlib inline"
   ]
  },
  {
   "cell_type": "markdown",
   "metadata": {},
   "source": [
    "## Task 2\n",
    "\n",
    "Import the dataset from [https://raw.githubusercontent.com/guipsamora/pandas_exercises/master/07_Visualization/Tips/tips.csv](https://raw.githubusercontent.com/guipsamora/pandas_exercises/master/07_Visualization/Tips/tips.csv)\n",
    "\n",
    "Assign it to a variable called tips\n",
    "\n",
    "Take the first look at the dataset"
   ]
  },
  {
   "cell_type": "code",
   "execution_count": null,
   "metadata": {
    "hide-output": false
   },
   "outputs": [],
   "source": [
    "# write your code here"
   ]
  },
  {
   "cell_type": "code",
   "execution_count": null,
   "metadata": {
    "hide-output": false
   },
   "outputs": [],
   "source": [
    "url = 'https://raw.githubusercontent.com/guipsamora/pandas_exercises/master/07_Visualization/Tips/tips.csv'\n",
    "tips = pd.read_csv(url)\n",
    "tips.head(n=15)"
   ]
  },
  {
   "cell_type": "markdown",
   "metadata": {},
   "source": [
    "## Task 3\n",
    "\n",
    "Delete the Unnamed 0 column"
   ]
  },
  {
   "cell_type": "code",
   "execution_count": null,
   "metadata": {
    "hide-output": false
   },
   "outputs": [],
   "source": [
    "# write your code here"
   ]
  },
  {
   "cell_type": "code",
   "execution_count": null,
   "metadata": {
    "hide-output": false
   },
   "outputs": [],
   "source": [
    "tips = tips.drop(['Unnamed: 0'], axis=1)\n",
    "tips.head(n=15)"
   ]
  },
  {
   "cell_type": "markdown",
   "metadata": {},
   "source": [
    "## Task 4\n",
    "\n",
    "Plot the total_bill column histogram:\n",
    "\n",
    "- create the histogram plot object  \n",
    "- set axes labels and plot title  \n",
    "\n",
    "\n",
    "Follow [https://matplotlib.org/gallery/pyplots/pyplot_text.html#sphx-glr-gallery-pyplots-pyplot-text-py](https://matplotlib.org/gallery/pyplots/pyplot_text.html#sphx-glr-gallery-pyplots-pyplot-text-py)"
   ]
  },
  {
   "cell_type": "code",
   "execution_count": null,
   "metadata": {
    "hide-output": false
   },
   "outputs": [],
   "source": [
    "# write your code here"
   ]
  },
  {
   "cell_type": "code",
   "execution_count": null,
   "metadata": {
    "hide-output": false
   },
   "outputs": [],
   "source": [
    "ax = tips['total_bill'].hist(figsize=(14,8), grid=False,bins=20)\n",
    "ax.set_xlabel('Total Bill')\n",
    "ax.set_ylabel('Frequency')\n",
    "ax.set_title('Distribution of tips')"
   ]
  },
  {
   "cell_type": "markdown",
   "metadata": {},
   "source": [
    "## Task 5\n",
    "\n",
    "Create a scatter plot presenting the relationship between total_bill and tip,\n",
    "using one function."
   ]
  },
  {
   "cell_type": "code",
   "execution_count": null,
   "metadata": {
    "hide-output": false
   },
   "outputs": [],
   "source": [
    "# write your code here"
   ]
  },
  {
   "cell_type": "code",
   "execution_count": null,
   "metadata": {
    "hide-output": false
   },
   "outputs": [],
   "source": [
    "ax = tips.plot('total_bill','tip',kind='scatter',figsize=(10,8))\n",
    "ax.set_xlabel('Total Bill ($)')\n",
    "ax.set_ylabel('Tip ($)')\n",
    "ax.set_title('Tips as function of bill amount')"
   ]
  },
  {
   "cell_type": "markdown",
   "metadata": {},
   "source": [
    "## Task 6\n",
    "\n",
    "Create one 3 by 3 image with the relationship of total_bill, tip and size.\n",
    "Again, use just one function."
   ]
  },
  {
   "cell_type": "code",
   "execution_count": null,
   "metadata": {
    "hide-output": false
   },
   "outputs": [],
   "source": [
    "# write your code here"
   ]
  },
  {
   "cell_type": "code",
   "execution_count": null,
   "metadata": {
    "hide-output": false
   },
   "outputs": [],
   "source": [
    "lbls = ['total_bill','tip','size']\n",
    "caps = ['Bill','Tip','Size']\n",
    "fig, ax = plt.subplots(3,3,figsize=(12,12))\n",
    "for i in range(3):\n",
    "    for j in range(3):\n",
    "        ax[i,j].scatter(tips[lbls[i]],tips[lbls[j]])\n",
    "        ax[i,j].set_xlabel(caps[i])\n",
    "        ax[i,j].set_ylabel(caps[j])\n",
    "plt.show()"
   ]
  },
  {
   "cell_type": "markdown",
   "metadata": {},
   "source": [
    "## Task 7\n",
    "\n",
    "Present the relationship between days and total_bill value.\n",
    "Use `jitter = True` argument for visual appeal."
   ]
  },
  {
   "cell_type": "code",
   "execution_count": null,
   "metadata": {
    "hide-output": false
   },
   "outputs": [],
   "source": [
    "# write your code here"
   ]
  },
  {
   "cell_type": "code",
   "execution_count": null,
   "metadata": {
    "hide-output": false
   },
   "outputs": [],
   "source": [
    "import seaborn as sns # jitter requires Seaborn :)\n",
    "fig, ax = plt.subplots(figsize=(10,8))\n",
    "ax = sns.stripplot(data=tips,x='day',y='total_bill',order=['Thur','Fri','Sat','Sun'],jitter=True,size=8)\n",
    "ax.set_xlabel('Day')\n",
    "ax.set_ylabel('Total Bill ($)')"
   ]
  },
  {
   "cell_type": "markdown",
   "metadata": {},
   "source": [
    "## Task 8\n",
    "\n",
    "Create two scatterplot graphs, one for Male and another for Female, presenting the total_bill value and tip relationship, differing by smoker or non-smoker. Add a legend."
   ]
  },
  {
   "cell_type": "code",
   "execution_count": null,
   "metadata": {
    "hide-output": false
   },
   "outputs": [],
   "source": [
    "# write your code here"
   ]
  },
  {
   "cell_type": "code",
   "execution_count": null,
   "metadata": {
    "hide-output": false
   },
   "outputs": [],
   "source": [
    "fig, ax = plt.subplots(1,2,figsize=(16,8))\n",
    "# datasets by sex\n",
    "tipsM = tips.groupby('sex').get_group('Male')\n",
    "tipsF = tips.groupby('sex').get_group('Female')\n",
    "\n",
    "sns.scatterplot(data=tipsM,x='total_bill',y='tip',hue='smoker',ax=ax[0])\n",
    "ax[0].set_xlabel('Total Bill ($)')\n",
    "ax[0].set_ylabel('Tip ($)')\n",
    "ax[0].set_title('Male')\n",
    "ax[0].legend()\n",
    "\n",
    "sns.scatterplot(data=tipsF,x='total_bill',y='tip',hue='smoker',ax=ax[1])\n",
    "ax[1].set_xlabel('Total Bill ($)')\n",
    "ax[1].set_ylabel('Tip ($)')\n",
    "ax[1].set_title('Male')\n",
    "ax[1].legend()"
   ]
  }
 ],
 "metadata": {
  "date": 1627474987.46642,
  "filename": "exercise08.rst",
  "kernelspec": {
   "display_name": "Python 3",
   "language": "python",
   "name": "python3"
  },
  "language_info": {
   "codemirror_mode": {
    "name": "ipython",
    "version": 3
   },
   "file_extension": ".py",
   "mimetype": "text/x-python",
   "name": "python",
   "nbconvert_exporter": "python",
   "pygments_lexer": "ipython3",
   "version": "3.7.6"
  },
  "title": "Weekly exercise 8: Simple Matplotlib exercises"
 },
 "nbformat": 4,
 "nbformat_minor": 4
}
