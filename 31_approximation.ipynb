{
 "cells": [
  {
   "cell_type": "markdown",
   "metadata": {
    "slideshow": {
     "slide_type": "slide"
    }
   },
   "source": [
    "# Foundations of Computational Economics #31\n",
    "\n",
    "by Fedor Iskhakov, ANU\n",
    "\n",
    "<img src=\"_static/img/dag3logo.png\" style=\"width:256px;\">"
   ]
  },
  {
   "cell_type": "markdown",
   "metadata": {
    "slideshow": {
     "slide_type": "fragment"
    }
   },
   "source": [
    "## Function approximation in Python\n",
    "\n",
    "<img src=\"_static/img/lecture.png\" style=\"width:64px;\">"
   ]
  },
  {
   "cell_type": "markdown",
   "metadata": {
    "slideshow": {
     "slide_type": "subslide"
    }
   },
   "source": [
    "<img src=\"_static/img/youtube.png\" style=\"width:65px;\">\n",
    "\n",
    "[https://youtu.be/liNputEfcXQ](https://youtu.be/liNputEfcXQ)\n",
    "\n",
    "Description: How to approximate functions which are only defined on grid of points. Spline and polynomial interpolation."
   ]
  },
  {
   "cell_type": "markdown",
   "metadata": {
    "slideshow": {
     "slide_type": "slide"
    }
   },
   "source": [
    "### Interpolation problem\n",
    "\n",
    "- $ f(x) $ is function of interest, hard to compute  \n",
    "- Have data on values of $ f(x) $ in $ n $ points\n",
    "  $ (x_1,\\dots,x_n) $  \n",
    "\n",
    "\n",
    "$$\n",
    "f(x_1), f(x_2), \\dots f(x_n)\n",
    "$$\n",
    "\n",
    "- Need to find the approximate value of the function $ f(x) $ in\n",
    "  arbitrary points $ x \\in [x_1,x_n] $  "
   ]
  },
  {
   "cell_type": "markdown",
   "metadata": {
    "slideshow": {
     "slide_type": "slide"
    }
   },
   "source": [
    "#### Approaches\n",
    "\n",
    "1. *Piece-wise* approach (connect the dots)  \n",
    "\n",
    "\n",
    "- Which functional form to use for connections?  \n",
    "- What are advantages and disadvantages?  \n",
    "\n",
    "\n",
    "1. Use a *similar* function $ s(x) $ to represent $ f(x) $\n",
    "  between the data points  \n",
    "\n",
    "\n",
    "- Which simpler function?  \n",
    "- What data should be used?  \n",
    "- How to control the accuracy of the approximation?  "
   ]
  },
  {
   "cell_type": "markdown",
   "metadata": {
    "slideshow": {
     "slide_type": "slide"
    }
   },
   "source": [
    "#### Distinction between function approximation (interpolation) and curve fitting\n",
    "\n",
    "- Functions approximation and interpolation refers to the situations\n",
    "  when **data** on function values is matched **exactly**  \n",
    "  - The approximation curve passes through the points of the data  \n",
    "- Curve fitting refers to the statistical problem when the data has\n",
    "  **noise**, the task is to find an approximation for the central\n",
    "  tendency in the data  \n",
    "  - Linear and non-linear regression models, econometrics  \n",
    "  - The model is *over-identified* (there is more data than needed to\n",
    "    exactly identify the regression function)  "
   ]
  },
  {
   "cell_type": "markdown",
   "metadata": {
    "slideshow": {
     "slide_type": "slide"
    }
   },
   "source": [
    "#### Extrapolation\n",
    "\n",
    "Extrapolation is computing the approximated function outside of the\n",
    "original data interval\n",
    "\n",
    "**Should be avoided in general**\n",
    "\n",
    "- Exact *only* when theoretical properties of the extrapolated function\n",
    "  are known  \n",
    "- Can be used with extreme caution and based on the analysis of the model  \n",
    "- Always try to introduce wider bounds for the grid instead  "
   ]
  },
  {
   "cell_type": "markdown",
   "metadata": {
    "slideshow": {
     "slide_type": "slide"
    }
   },
   "source": [
    "### Spline interpolation\n",
    "\n",
    "Spline = curve composed of independent pieces\n",
    "\n",
    "**Definition** A function $ s(x) $ on $ [a,b] $ is a spline of\n",
    "order $ n $ ( = degree $ n-1 $) iff\n",
    "\n",
    "- $ s $ is $ C^{n-2} $ on $ [a,b] $ (has continuous derivatives\n",
    "  up to order $ n-2 $),  \n",
    "- given *knot* points $ a=x_0<x_1<\\dots<x_m=b $, $ s(x) $ is a\n",
    "  polynomial of degree $ n-1 $ on each subinterval\n",
    "  $ [x_i,x_{i+1}] $, $ i=0,\\dots,m-1 $  "
   ]
  },
  {
   "cell_type": "markdown",
   "metadata": {
    "slideshow": {
     "slide_type": "slide"
    }
   },
   "source": [
    "#### Cubic splines = spline of order 4\n",
    "\n",
    "- Data set $ \\{(x_i,f(x_i), i=0,\\dots,n\\} $  \n",
    "- Functional form $ s(x) = a_i + b_i x + c_i x^2 + d_i x^3 $ on\n",
    "  $ [x_{i-1},x_i] $ for $ i=1,\\dots,n $  \n",
    "- $ 4n $ unknown coefficients:  \n",
    "- $ 2n $ equations to make sure each segment passes through its interval points +\n",
    "  $ 2(n-1) $ equations to ensure two continuous derivatives at each interior point  \n",
    "- Additional 2 equation for the $ x_0 $ and $ x_n $  \n",
    "  - $ s''(x_0)=s''(x_n)=0 $ (natural spline)  \n",
    "  - $ s'(x_0)=\\frac{s(x_1)-s(x_0)}{x_1-x_0} $,\n",
    "    $ s'(x_n)=\\frac{s(x_n)-s(x_{n-1})}{x_n-x_{n-1}} $\n",
    "    (secant-Hermite)  "
   ]
  },
  {
   "cell_type": "code",
   "execution_count": null,
   "metadata": {
    "hide-output": false,
    "slideshow": {
     "slide_type": "slide"
    }
   },
   "outputs": [],
   "source": [
    "import numpy as np\n",
    "import matplotlib.pyplot as plt\n",
    "%matplotlib inline\n",
    "\n",
    "np.random.seed(2008) # fix random number sequences\n",
    "x  = np.sort(np.random.uniform(-5,10,12)) # sorted random numbers on [-5,10]\n",
    "xr = np.linspace(-5,10,12) # regular grid on [-5,10]\n",
    "\n",
    "func=lambda x: np.exp(-x/4)*np.sin(x) + 1/(1+x**2) # function to interpolate"
   ]
  },
  {
   "cell_type": "code",
   "execution_count": null,
   "metadata": {
    "hide-output": false,
    "slideshow": {
     "slide_type": "slide"
    }
   },
   "outputs": [],
   "source": [
    "def plot1(ifunc,fdata=(x,func(x)),f=func,color='b',label='',extrapolation=False):\n",
    "    '''helper function to make plots'''\n",
    "    xd = np.linspace(-5,10,1000) # for making continuous lines\n",
    "    plt.figure(num=1, figsize=(10,8))\n",
    "    plt.scatter(fdata[0],fdata[1],color='r') # interpolation data\n",
    "    plt.plot(xd,f(xd),color='grey') # true function\n",
    "    if extrapolation:\n",
    "        xdi = xd\n",
    "    else:\n",
    "        # restriction for interpolation only\n",
    "        xdi=xd[np.logical_and(xd>=fdata[0][0],xd<=fdata[0][-1])]\n",
    "    if ifunc:\n",
    "        plt.plot(xdi,ifunc(xdi),color=color,label=label)\n",
    "        if label:\n",
    "            plt.legend()\n",
    "    elif label:\n",
    "        plt.title(label)"
   ]
  },
  {
   "cell_type": "code",
   "execution_count": null,
   "metadata": {
    "hide-output": false,
    "slideshow": {
     "slide_type": "slide"
    }
   },
   "outputs": [],
   "source": [
    "plot1(None,label='True function')"
   ]
  },
  {
   "cell_type": "code",
   "execution_count": null,
   "metadata": {
    "hide-output": false,
    "slideshow": {
     "slide_type": "slide"
    }
   },
   "outputs": [],
   "source": [
    "from scipy import interpolate # Interpolation routines\n",
    "fi = interpolate.interp1d(x,func(x)) # returns the interpolation function\n",
    "plot1(fi,label='interp1d')"
   ]
  },
  {
   "cell_type": "code",
   "execution_count": null,
   "metadata": {
    "hide-output": false,
    "slideshow": {
     "slide_type": "slide"
    }
   },
   "outputs": [],
   "source": [
    "help(interpolate.interp1d)"
   ]
  },
  {
   "cell_type": "code",
   "execution_count": null,
   "metadata": {
    "hide-output": false,
    "slideshow": {
     "slide_type": "slide"
    }
   },
   "outputs": [],
   "source": [
    "fi = interpolate.interp1d(x,func(x),kind='linear')\n",
    "plot1(fi,label='Linear')"
   ]
  },
  {
   "cell_type": "code",
   "execution_count": null,
   "metadata": {
    "hide-output": false,
    "slideshow": {
     "slide_type": "slide"
    }
   },
   "outputs": [],
   "source": [
    "for knd, clr in ('previous','m'),('next','b'),('nearest','g'):\n",
    "    fi = interpolate.interp1d(x,func(x),kind=knd)\n",
    "    plot1(fi,label=knd,color=clr)\n",
    "    plt.show()"
   ]
  },
  {
   "cell_type": "code",
   "execution_count": null,
   "metadata": {
    "hide-output": false,
    "slideshow": {
     "slide_type": "slide"
    }
   },
   "outputs": [],
   "source": [
    "for knd, clr in ('slinear','m'),('quadratic','b'),('cubic','g'):\n",
    "    fi = interpolate.interp1d(x,func(x),kind=knd)\n",
    "    plot1(fi,color=clr,label=knd)"
   ]
  },
  {
   "cell_type": "code",
   "execution_count": null,
   "metadata": {
    "hide-output": false,
    "slideshow": {
     "slide_type": "slide"
    }
   },
   "outputs": [],
   "source": [
    "# Approximation errors\n",
    "# x = np.sort(np.random.uniform(-5,10,11))  # generate new data\n",
    "for knd, clr in ('slinear','m'),('quadratic','b'),('cubic','g'):\n",
    "    fi = interpolate.interp1d(x,func(x),kind=knd,bounds_error=False)\n",
    "    xd = np.linspace(-5,10,1000)\n",
    "    erd=np.abs(func(xd)-fi(xd))\n",
    "    plt.plot(xd,erd,color=clr)\n",
    "    print('Max error with  %s splines is %1.5e'%(knd,np.nanmax(erd)))"
   ]
  },
  {
   "cell_type": "code",
   "execution_count": null,
   "metadata": {
    "hide-output": false,
    "slideshow": {
     "slide_type": "slide"
    }
   },
   "outputs": [],
   "source": [
    "# Approximation errors for regular grid\n",
    "for knd, clr in ('slinear','m'),('quadratic','b'),('cubic','g'):\n",
    "    fi = interpolate.interp1d(xr,func(xr),kind=knd,bounds_error=False)\n",
    "    xd = np.linspace(-5,10,1000)\n",
    "    erd=np.abs(func(xd)-fi(xd))\n",
    "    plt.plot(xd,erd,color=clr)\n",
    "    print('Max error with  %s splines is %1.5e'%(knd,np.nanmax(erd)))"
   ]
  },
  {
   "cell_type": "markdown",
   "metadata": {
    "slideshow": {
     "slide_type": "slide"
    }
   },
   "source": [
    "#### Accuracy of the interpolation\n",
    "\n",
    "How to reduce approximation errors?"
   ]
  },
  {
   "cell_type": "markdown",
   "metadata": {
    "slideshow": {
     "slide_type": "fragment"
    }
   },
   "source": [
    "- Number of nodes (more is better)  \n",
    "- Location of nodes (regular is better)  \n",
    "- Interpolation type (match function of interest)  \n",
    "\n",
    "\n",
    "*In economic models we usually can control all of these*"
   ]
  },
  {
   "cell_type": "markdown",
   "metadata": {
    "slideshow": {
     "slide_type": "slide"
    }
   },
   "source": [
    "### Polynomial approximation/interpolation\n",
    "\n",
    "Back to the beginning to explore the idea of replacing original\n",
    "$ f(x) $ with simpler $ g(x) $\n",
    "\n",
    "- Data set $ \\{(x_i,f(x_i)\\}, i=0,\\dots,n $  \n",
    "- Functional form is polynomial of degree $ n $ such that $ g(x_i)=f(x_i) $  \n",
    "- If $ x_i $ are distinct, coefficients of the polynomial are uniquely identified  \n",
    "\n",
    "\n",
    "Does polynomial $ g(x) $ converge to $ f(x) $ when there are\n",
    "more points?"
   ]
  },
  {
   "cell_type": "code",
   "execution_count": null,
   "metadata": {
    "hide-output": false,
    "slideshow": {
     "slide_type": "slide"
    }
   },
   "outputs": [],
   "source": [
    "from numpy.polynomial import polynomial\n",
    "degree = len(x)-1 # passing through all dots\n",
    "p = polynomial.polyfit(x,func(x),degree)\n",
    "fi = lambda x: polynomial.polyval(x,p)\n",
    "plot1(fi,label='Polynomial of degree %d'%degree,extrapolation=True)"
   ]
  },
  {
   "cell_type": "code",
   "execution_count": null,
   "metadata": {
    "hide-output": false,
    "slideshow": {
     "slide_type": "slide"
    }
   },
   "outputs": [],
   "source": [
    "# now with regular grid\n",
    "degree = len(x)-1 # passing through all dots\n",
    "p = polynomial.polyfit(xr,func(xr),degree)\n",
    "fi = lambda x: polynomial.polyval(x,p)\n",
    "plot1(fi,fdata=(xr,func(xr)),label='Polynomial of degree %d'%degree,extrapolation=True)"
   ]
  },
  {
   "cell_type": "code",
   "execution_count": null,
   "metadata": {
    "hide-output": false,
    "slideshow": {
     "slide_type": "slide"
    }
   },
   "outputs": [],
   "source": [
    "# how number of points affect the approximation (with degree=n-1)\n",
    "for n, clr in (5,'m'),(10,'b'),(15,'g'),(25,'r'):\n",
    "    x2 = np.linspace(-5,10,n)\n",
    "    p = polynomial.polyfit(x2,func(x2),n-1)\n",
    "    fi = lambda x: polynomial.polyval(x,p)\n",
    "    plot1(fi,fdata=(x2,func(x2)),label='%d points'%n,color=clr,extrapolation=True)\n",
    "    plt.show()"
   ]
  },
  {
   "cell_type": "code",
   "execution_count": null,
   "metadata": {
    "hide-output": false,
    "slideshow": {
     "slide_type": "slide"
    }
   },
   "outputs": [],
   "source": [
    "# how locations of points affect the approximation (with degree=n-1)\n",
    "np.random.seed(2025)\n",
    "n=8\n",
    "for clr in 'b','g','c':\n",
    "    x2 = np.linspace(-4,9,n) + np.random.uniform(-1,1,n) # perturb points a little\n",
    "    p = polynomial.polyfit(x2,func(x2),n-1)\n",
    "    fi = lambda x: polynomial.polyval(x,p)\n",
    "    plot1(fi,fdata=(x2,func(x2)),label='%d points'%n,color=clr,extrapolation=True)\n",
    "    plt.show()"
   ]
  },
  {
   "cell_type": "code",
   "execution_count": null,
   "metadata": {
    "hide-output": false,
    "slideshow": {
     "slide_type": "slide"
    }
   },
   "outputs": [],
   "source": [
    "# how degree of the polynomial affects the approximation\n",
    "for degree, clr in (7,'b'),(9,'g'),(11,'m'):\n",
    "    p=polynomial.polyfit(xr,func(xr),degree)\n",
    "    fi=lambda x: polynomial.polyval(x,p)\n",
    "    plot1(fi,fdata=(xr,func(xr)),label='Polynomial of degree %d'%degree,color=clr,extrapolation=True)"
   ]
  },
  {
   "cell_type": "markdown",
   "metadata": {
    "slideshow": {
     "slide_type": "slide"
    }
   },
   "source": [
    "#### Least squares approximation\n",
    "\n",
    "We could also go back to **function approximation** and fit polynomials\n",
    "of lower degree\n",
    "\n",
    "- Data set $ \\{(x_i,f(x_i)\\}, i=0,\\dots,n $  \n",
    "- **Any** functional form $ g(x) $ from class $ G $ that best\n",
    "  approximates $ f(x) $  \n",
    "\n",
    "\n",
    "$$\n",
    "g = \\arg\\min_{g \\in G} \\lVert f-g \\rVert ^2\n",
    "$$"
   ]
  },
  {
   "cell_type": "markdown",
   "metadata": {
    "slideshow": {
     "slide_type": "slide"
    }
   },
   "source": [
    "### Orthogonal polynomial approximation/interpolation\n",
    "\n",
    "- Polynomials over domain $ D $  \n",
    "- Weighting function $ w(x)>0 $  \n",
    "\n",
    "\n",
    "Inner product\n",
    "\n",
    "$$\n",
    "\\langle f,g \\rangle = \\int_D f(x)g(x)w(x)dx\n",
    "$$\n",
    "\n",
    "$ \\{\\phi_i\\} $ is a family of orthogonal polynomials w.r.t.\n",
    "$ w(x) $ iff\n",
    "\n",
    "$$\n",
    "\\langle \\phi_i,\\phi_j \\rangle = 0, i\\ne j\n",
    "$$"
   ]
  },
  {
   "cell_type": "markdown",
   "metadata": {
    "slideshow": {
     "slide_type": "slide"
    }
   },
   "source": [
    "#### Best polynomial approximation in L2-norm\n",
    "\n",
    "Let $ \\mathcal{P}_n $ denote the space of all polynomials of degree $ n $ over $ D $\n",
    "\n",
    "$$\n",
    "\\lVert f - p \\rVert_2 = \\inf_{q \\in \\mathcal{P}_n} \\lVert f - q \\rVert_2\n",
    "= \\inf_{q \\in \\mathcal{P}_n}  \\left[ \\int_D ( f(x)-g(x) )^2 dx  \\right]^{\\tfrac{1}{2}}\n",
    "$$\n",
    "\n",
    "if and only if\n",
    "\n",
    "$$\n",
    "\\langle f-p,q \\rangle = 0, \\text{ for all } q \\in \\mathcal{P}_n\n",
    "$$\n",
    "\n",
    "*Orthogonal projection is the best approximating polynomial in L2-norm*"
   ]
  },
  {
   "cell_type": "markdown",
   "metadata": {
    "slideshow": {
     "slide_type": "slide"
    }
   },
   "source": [
    "#### Uniform (infinity, sup-) norm\n",
    "\n",
    "$$\n",
    "\\lVert f(x) - g(x) \\rVert_{\\infty} = \\sup_{x \\in D} | f(x) - g(x) |\n",
    "= \\lim_{n \\rightarrow \\infty} \\left[ \\int_D ( f(x)-g(x) )^n dx  \\right]^{\\tfrac{1}{n}}\n",
    "$$\n",
    "\n",
    "Measures the absolute difference over the whole domain $ D $"
   ]
  },
  {
   "cell_type": "markdown",
   "metadata": {
    "slideshow": {
     "slide_type": "slide"
    }
   },
   "source": [
    "#### Chebyshev (minmax) approximation\n",
    "\n",
    "What is the best polynomial approximation in the uniform (infinity, sup) norm?\n",
    "\n",
    "$$\n",
    "\\lVert f - p \\rVert_{\\infty} = \\inf_{q \\in \\mathcal{P}_n} \\lVert f - q \\rVert_{\\infty}\n",
    "= \\inf_{q \\in \\mathcal{P}_n}  \\sup_{x \\in D} | f(x) - g(x) |\n",
    "$$\n",
    "\n",
    "Chebyshev proved existence and uniqueness of the best approximating polynomial in uniform norm."
   ]
  },
  {
   "cell_type": "markdown",
   "metadata": {
    "slideshow": {
     "slide_type": "slide"
    }
   },
   "source": [
    "#### Chebyshev polynomials\n",
    "\n",
    "- $ [a,b] = [-1,1] $ and $ w(x)=(1-x^2)^{(-1/2)} $  \n",
    "- $ T_n(x)=\\cos\\big(n\\cos^{-1}(x)\\big) $  \n",
    "- Recursive formulas:  \n",
    "\n",
    "\n",
    "$$\n",
    "\\begin{eqnarray}\n",
    "T_0(x)=1,\\\\\n",
    "T_1(x)=x,\\\\\n",
    "T_{n+1}(x)=2x T_n(x) - T_{n-1}(x)\n",
    "\\end{eqnarray}\n",
    "$$"
   ]
  },
  {
   "cell_type": "markdown",
   "metadata": {
    "slideshow": {
     "slide_type": "slide"
    }
   },
   "source": [
    "#### Accuracy of Chebyshev approximation\n",
    "\n",
    "Suppose $ f: [-1,1]\\rightarrow R $ is $ C^k $ function for some\n",
    "$ k\\ge 1 $, and let $ I_n $ be the degree $ n $ polynomial\n",
    "interpolation of $ f $ with nodes at zeros of $ T_{n+1}(x) $.\n",
    "Then\n",
    "\n",
    "$$\n",
    "\\lVert f - I_n \\rVert_{\\infty} \\le \\left( \\frac{2}{\\pi} \\log(n+1) +1 \\right) \\frac{(n-k)!}{n!}\\left(\\frac{\\pi}{2}\\right)^k \\lVert f^{(k)}\\rVert_{\\infty}\n",
    "$$\n",
    "\n",
    "📖 Judd (1988) Numerical Methods in Economics\n",
    "\n",
    "- achieves *best polynomial approximation in uniform norm*  \n",
    "- works for smooth functions  \n",
    "- easy to compute  \n",
    "- but *does not* approximate $ f'(x) $ well  "
   ]
  },
  {
   "cell_type": "markdown",
   "metadata": {
    "slideshow": {
     "slide_type": "slide"
    }
   },
   "source": [
    "#### General interval\n",
    "\n",
    "- Not hard to adapt the polynomials for the general interval\n",
    "  $ [a,b] $ through linear change of variable  \n",
    "\n",
    "\n",
    "$$\n",
    "y = 2\\frac{x-a}{b-a}-1\n",
    "$$\n",
    "\n",
    "- Orthogonality holds with weights function with the same change of\n",
    "  variable  "
   ]
  },
  {
   "cell_type": "markdown",
   "metadata": {
    "slideshow": {
     "slide_type": "slide"
    }
   },
   "source": [
    "#### Chebyshev approximation algorithm\n",
    "\n",
    "1. Given $ f(x) $ and $ [a,b] $  \n",
    "1. Compute Chebyshev interpolation nodes on $ [-1,1] $  \n",
    "1. Adjust nodes to $ [a,b] $ by change of variable, $ x_i $  \n",
    "1. Evaluate $ f $ at the nodes, $ f(x_i) $  \n",
    "1. Compute Chebyshev coefficients $ a_i = g\\big(f(x_i)\\big) $  \n",
    "1. Arrive at approximation  \n",
    "\n",
    "\n",
    "$$\n",
    "f(x) = \\sum_{i=0}^n a_i T_i(x)\n",
    "$$"
   ]
  },
  {
   "cell_type": "code",
   "execution_count": null,
   "metadata": {
    "hide-output": false,
    "slideshow": {
     "slide_type": "slide"
    }
   },
   "outputs": [],
   "source": [
    "import numpy.polynomial.chebyshev as cheb\n",
    "for degree, clr in (7,'b'),(9,'g'),(11,'m'):\n",
    "    fi=cheb.Chebyshev.interpolate(func,degree,[-5,10])\n",
    "    plot1(fi,fdata=(None,None),color=clr,label='Chebyshev with n=%d'%degree,extrapolation=True)"
   ]
  },
  {
   "cell_type": "markdown",
   "metadata": {
    "slideshow": {
     "slide_type": "slide"
    }
   },
   "source": [
    "### Multidimensional interpolation\n",
    "\n",
    "- there are multidimensional generalization to all the methods  \n",
    "- curse of dimensionality in the number of interpolation points when number of dimensions increase  \n",
    "- sparse Smolyak grids and adaptive sparse grids  \n",
    "- irregular grids require computationally expensive triangulation in the general case  \n",
    "- good application for machine learning!  \n",
    "\n",
    "\n",
    "**Generally much harder!**"
   ]
  },
  {
   "cell_type": "markdown",
   "metadata": {
    "slideshow": {
     "slide_type": "slide"
    }
   },
   "source": [
    "### Further learning resources\n",
    "\n",
    "- [https://docs.scipy.org/doc/scipy/reference/tutorial/interpolate.html](https://docs.scipy.org/doc/scipy/reference/tutorial/interpolate.html)  \n",
    "- [https://docs.scipy.org/doc/numpy/reference/generated/numpy.interp.html](https://docs.scipy.org/doc/numpy/reference/generated/numpy.interp.html)  \n",
    "- M.H. Mudde’s thesis on Chebyshev approximation [http://fse.studenttheses.ub.rug.nl/15406/1/Marieke_Mudde_2017_EC.pdf](http://fse.studenttheses.ub.rug.nl/15406/1/Marieke_Mudde_2017_EC.pdf)  "
   ]
  }
 ],
 "metadata": {
  "celltoolbar": "Slideshow",
  "date": 1627474986.570773,
  "filename": "31_approximation.rst",
  "kernelspec": {
   "display_name": "Python",
   "language": "python3",
   "name": "python3"
  },
  "title": "Foundations of Computational Economics #31"
 },
 "nbformat": 4,
 "nbformat_minor": 4
}