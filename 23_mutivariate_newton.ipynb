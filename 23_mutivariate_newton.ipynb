{
 "cells": [
  {
   "cell_type": "markdown",
   "metadata": {
    "slideshow": {
     "slide_type": "slide"
    }
   },
   "source": [
    "# Foundations of Computational Economics #23\n",
    "\n",
    "by Fedor Iskhakov, ANU\n",
    "\n",
    "<img src=\"_static/img/dag3logo.png\" style=\"width:256px;\">"
   ]
  },
  {
   "cell_type": "markdown",
   "metadata": {
    "slideshow": {
     "slide_type": "fragment"
    }
   },
   "source": [
    "## More on Newton-Raphson method\n",
    "\n",
    "<img src=\"_static/img/lecture.png\" style=\"width:64px;\">"
   ]
  },
  {
   "cell_type": "markdown",
   "metadata": {
    "slideshow": {
     "slide_type": "subslide"
    }
   },
   "source": [
    "<img src=\"_static/img/youtube.png\" style=\"width:65px;\">\n",
    "\n",
    "[https://youtu.be/DKG_bJhVbsM](https://youtu.be/DKG_bJhVbsM)\n",
    "\n",
    "Description: Failures of Newton method, domain of attraction. Multivariate Newton for optimization problems."
   ]
  },
  {
   "cell_type": "markdown",
   "metadata": {
    "slideshow": {
     "slide_type": "slide"
    }
   },
   "source": [
    "### Another look at Newton method\n",
    "\n",
    "- iterative solver  \n",
    "- Newton step $ x_{i+1} = x_i - \\frac{f(x_i)}{f'(x_i)} $  \n",
    "- fast (quadratic) convergence  \n",
    "\n",
    "\n",
    "Today:\n",
    "- potential problems\n",
    "- multivariate version"
   ]
  },
  {
   "cell_type": "code",
   "execution_count": null,
   "metadata": {
    "hide-output": false,
    "slideshow": {
     "slide_type": "slide"
    }
   },
   "outputs": [],
   "source": [
    "def newton(fun,grad,x0,tol=1e-6,maxiter=100,callback=None):\n",
    "    '''Newton method for solving equation f(x)=0\n",
    "    with given tolerance and number of iterations.\n",
    "    Callback function is invoked at each iteration if given.\n",
    "    '''\n",
    "    for i in range(maxiter):\n",
    "        x1 = x0 - fun(x0)/grad(x0)\n",
    "        err = abs(x1-x0)\n",
    "        if callback != None: callback(iter=i,err=err,x0=x0,x1=x1,fun=fun)\n",
    "        if err<tol: break\n",
    "        x0 = x1\n",
    "    else:\n",
    "        raise RuntimeError('Failed to converge in %d iterations'%maxiter)\n",
    "    return x1"
   ]
  },
  {
   "cell_type": "code",
   "execution_count": null,
   "metadata": {
    "hide-output": false,
    "slideshow": {
     "slide_type": "slide"
    }
   },
   "outputs": [],
   "source": [
    "f = lambda x: -4*x**3+5*x+1\n",
    "g = lambda x: -12*x**2+5\n",
    "x = newton(f,g,x0=-2.5,maxiter=7)\n",
    "print('Solution is x=%1.3f, f(x)=%1.12f' % (x,f(x)))"
   ]
  },
  {
   "cell_type": "code",
   "execution_count": null,
   "metadata": {
    "hide-output": false,
    "slideshow": {
     "slide_type": "slide"
    }
   },
   "outputs": [],
   "source": [
    "# make nice plot\n",
    "import numpy as np\n",
    "import matplotlib.pyplot as plt\n",
    "%matplotlib inline\n",
    "plt.rcParams['figure.figsize'] = [12, 8]\n",
    "\n",
    "def newton_pic(f,g,x0,    # function, gradient, initial point\n",
    "               a=0,b=1,   # bounds for the picture\n",
    "               **kwargs):  # additional parameters passed to solver\n",
    "    '''Illustrate the Newton method iterations'''\n",
    "    xd = np.linspace(a,b,1000)       # x grid\n",
    "    plt.plot(xd,f(xd),c='red')       # plot the function\n",
    "    plt.plot([a,b],[0,0],c='black')  # plot zero line\n",
    "    ylim=[f(a),min(f(b),0)]\n",
    "    def plot_step(**kwargs):\n",
    "        plot_step.counter += 1\n",
    "        x0,x1 = kwargs['x0'],kwargs['x1']\n",
    "        f0 = kwargs['fun'](x0)\n",
    "        plt.plot([x0,x0],[0,f0],c='green')\n",
    "        plt.plot([x0,x1],[f0,0],c='green')\n",
    "    plot_step.counter = 0\n",
    "    try:\n",
    "        newton(f,g,x0,callback=plot_step,**kwargs)\n",
    "        print('Converged in %d steps'%plot_step.counter)\n",
    "    except RuntimeError:  # catch the Runtime convergence error\n",
    "        print('Failed to converge in %d iterations!'%plot_step.counter)\n",
    "    plt.xlim((a,b))\n",
    "    plt.show()"
   ]
  },
  {
   "cell_type": "code",
   "execution_count": null,
   "metadata": {
    "hide-output": false,
    "slideshow": {
     "slide_type": "slide"
    }
   },
   "outputs": [],
   "source": [
    "newton_pic(f=f,g=g,x0=-2.5,a=-3,b=-.5)"
   ]
  },
  {
   "cell_type": "markdown",
   "metadata": {
    "slideshow": {
     "slide_type": "slide"
    }
   },
   "source": [
    "### When does Newton fail?\n",
    "\n",
    "1. Multiple solutions — *be aware*  \n",
    "1. Failures  \n",
    "  - diversion (domain of attraction)  \n",
    "  - cycles  \n",
    "  - function domain  \n",
    "  - differentiability  \n",
    "1. Reduced performance — may be slower in special cases  "
   ]
  },
  {
   "cell_type": "markdown",
   "metadata": {
    "slideshow": {
     "slide_type": "slide"
    }
   },
   "source": [
    "#### Multiple solutions"
   ]
  },
  {
   "cell_type": "code",
   "execution_count": null,
   "metadata": {
    "hide-output": false,
    "slideshow": {
     "slide_type": "fragment"
    }
   },
   "outputs": [],
   "source": [
    "x0 = -2.5  # -2.5 -0.595 0.46\n",
    "newton_pic(f=f,g=g,x0=-2.5,a=-3,b=1.5)"
   ]
  },
  {
   "cell_type": "markdown",
   "metadata": {
    "slideshow": {
     "slide_type": "slide"
    }
   },
   "source": [
    "#### Diversion"
   ]
  },
  {
   "cell_type": "code",
   "execution_count": null,
   "metadata": {
    "hide-output": false,
    "slideshow": {
     "slide_type": "fragment"
    }
   },
   "outputs": [],
   "source": [
    "f = lambda x: np.arctan(x)\n",
    "g = lambda x: 1/(1+x**2)\n",
    "newton_pic(f=f,g=g,x0=1.25,a=-20,b=20)\n",
    "newton_pic(f=f,g=g,x0=1.5,a=-20,b=20,maxiter=8)"
   ]
  },
  {
   "cell_type": "markdown",
   "metadata": {
    "slideshow": {
     "slide_type": "slide"
    }
   },
   "source": [
    "#### Cycles"
   ]
  },
  {
   "cell_type": "code",
   "execution_count": null,
   "metadata": {
    "hide-output": false,
    "slideshow": {
     "slide_type": "fragment"
    }
   },
   "outputs": [],
   "source": [
    "f = lambda x: -4*x**3+5*x+1 # function\n",
    "g = lambda x: -12*x**2+5    # derivative\n",
    "x0 = -0.5689842546416416\n",
    "newton_pic(f,g,x0,a=-1.5,b=1.5,maxiter=15)"
   ]
  },
  {
   "cell_type": "code",
   "execution_count": null,
   "metadata": {
    "hide-output": false,
    "slideshow": {
     "slide_type": "slide"
    }
   },
   "outputs": [],
   "source": [
    "f = lambda x: -4*x**3+5*x+1 # function\n",
    "g = lambda x: -12*x**2+5    # derivative\n",
    "h = lambda x: -24*x         # second derivative\n",
    "# find the unfortunate looping x0\n",
    "ns = lambda x0: x0 - f(x0)/g(x0) # Newton step\n",
    "ds = lambda x0: f(x0)*h(x0)/g(x0)**2 # derivative of ns\n",
    "f2 = lambda x0: ns(ns(x0))-x0\n",
    "g2 = lambda x0: ds(ns(x0))*ds(x0)-1\n",
    "\n",
    "x0 = newton(f2,g2,x0=-0.56,tol=1e-16)  # find the cycling starting point\n",
    "print('To cycle start with x0 = %1.16f'%x0)\n",
    "\n",
    "newton_pic(f,g,x0,a=-1.5,b=1.5,maxiter=15)"
   ]
  },
  {
   "cell_type": "markdown",
   "metadata": {
    "slideshow": {
     "slide_type": "slide"
    }
   },
   "source": [
    "#### Function domain and differentiability\n",
    "\n",
    "- undefined value of function or the derivative during Newton steps  "
   ]
  },
  {
   "cell_type": "code",
   "execution_count": null,
   "metadata": {
    "hide-output": false,
    "slideshow": {
     "slide_type": "fragment"
    }
   },
   "outputs": [],
   "source": [
    "f = lambda x: np.log(x)\n",
    "g = lambda x: 1/x\n",
    "x0 = 2.9\n",
    "newton_pic(f,g,x0,a=0.001,b=3)"
   ]
  },
  {
   "cell_type": "markdown",
   "metadata": {
    "slideshow": {
     "slide_type": "slide"
    }
   },
   "source": [
    "#### Suboptimal performance"
   ]
  },
  {
   "cell_type": "code",
   "execution_count": null,
   "metadata": {
    "hide-output": false,
    "slideshow": {
     "slide_type": "fragment"
    }
   },
   "outputs": [],
   "source": [
    "f = lambda x: x**9  # VERY SPECIAL CASE\n",
    "g = lambda x: 9*x**8\n",
    "x0 = 1.0\n",
    "newton_pic(f,g,x0,a=-1.5,b=1.5)\n",
    "def print_err(**kwargs):\n",
    "    print('{:4d}:  x = {:17.14f}  err = {:8.6e}'.format(kwargs['iter'],kwargs['x1'],kwargs['err']))\n",
    "newton(f,g,x0,callback=print_err)"
   ]
  },
  {
   "cell_type": "markdown",
   "metadata": {
    "slideshow": {
     "slide_type": "slide"
    }
   },
   "source": [
    "#### Conclusions for the use of Newton-Raphson method in economics\n",
    "\n",
    "- many of the problematic cases rarely happen!  \n",
    "- the problems that are real in economic applications:\n",
    "  1. multiple solutions\n",
    "  2. function domain constraints\n",
    "  3. domain of attraction  \n",
    "- good idea to combine slow robust solver (to get into the domain of attraction) with Newton method (for fast convergence)\n",
    "  - successive approximations + Newton method is a classic approach in estimation of dynamic programming models (NFXP estimator, Rust 1987)  "
   ]
  },
  {
   "cell_type": "markdown",
   "metadata": {
    "slideshow": {
     "slide_type": "slide"
    }
   },
   "source": [
    "#### Newton fractals\n",
    "\n",
    "- visualizing the domain of attraction for particular problems  \n",
    "\n",
    "\n",
    "$$\n",
    "x^3 - 1 = 0\n",
    "$$\n",
    "\n",
    "- solutions $ x=1 $ and two more in the complex number plan $ x=1 $  \n",
    "- draw the number of iterations to converge to any solution  "
   ]
  },
  {
   "cell_type": "markdown",
   "metadata": {
    "slideshow": {
     "slide_type": "slide"
    }
   },
   "source": [
    "<img src=\"_static/img/newton_fractal.png\" style=\"width:1200px;\">\n",
    "\n",
    "[https://www.youtube.com/watch?v=MWD2A0Vg2V0](https://www.youtube.com/watch?v=MWD2A0Vg2V0)"
   ]
  },
  {
   "cell_type": "markdown",
   "metadata": {
    "slideshow": {
     "slide_type": "slide"
    }
   },
   "source": [
    "### Multivariate Newton-Raphson\n",
    "\n",
    "Consider a system of $ n $ non-linear equations with $ n $ variables, given by\n",
    "\n",
    "$$\n",
    "G(x) = 0,\n",
    "$$\n",
    "\n",
    "- $ x \\in \\mathbb{R}^n $ and $ G(x) $ is $ n $-valued function.  \n",
    "- **Jacobian matrix** is $ n $-by-$ n $ matrix of partial derivatives $ \\nabla G(x) $  \n",
    "- Newton step:  \n",
    "\n",
    "\n",
    "$$\n",
    "x_{i+1} = x_{i} - \\big( \\nabla G(x_i) \\big)^{-1} G(x_i)\n",
    "$$"
   ]
  },
  {
   "cell_type": "markdown",
   "metadata": {
    "slideshow": {
     "slide_type": "slide"
    }
   },
   "source": [
    "#### Maximization of multivariate function\n",
    "\n",
    "- classic example for multivariate Newton is solution of F.O.C. in multivariate optimization problems  \n",
    "- consider $ F(x) \\rightarrow \\max $, where $ x \\in \\mathbb{R}^n $  \n",
    "- let $ G(x) $ be the **gradient** of $ F(x) $, which is $ n $-valued function (derivatives with respect to each variable).  \n",
    "\n",
    "\n",
    "$$\n",
    "G(x) = \\nabla F(x) = 0\n",
    "$$\n",
    "\n",
    "- Newton step in this case $ x_{i+1} = x_{i} - \\big( \\nabla^2 F(x_i) \\big)^{-1} \\nabla F(x_i) $  \n",
    "- $ \\nabla^2 F(x) $ is $ n $-by-$ n $ matrix of second derivatives is **Hessian matrix**  "
   ]
  },
  {
   "cell_type": "markdown",
   "metadata": {
    "slideshow": {
     "slide_type": "slide"
    }
   },
   "source": [
    "#### Example\n",
    "\n",
    "$$\n",
    "F(x,y) = 2.575 - 2 \\cos(x) \\cos(y+\\pi) - 0.575 \\cos(1.25 \\pi - 2x)\n",
    "$$"
   ]
  },
  {
   "cell_type": "code",
   "execution_count": null,
   "metadata": {
    "hide-output": false,
    "slideshow": {
     "slide_type": "slide"
    }
   },
   "outputs": [],
   "source": [
    "F = lambda x, y: 2.575 - 2*np.cos(x)*np.cos(y+np.pi) - 0.575*np.cos(1.25*np.pi - 2*x)\n",
    "\n",
    "def contour_plot(fun,levels=20,bound=1,npoints=100,ax=None):\n",
    "    '''Make a contour plot for illustrations'''\n",
    "    xx = np.linspace(-bound, bound, npoints)\n",
    "    yy = np.linspace(-bound, bound, npoints)\n",
    "    X,Y = np.meshgrid(xx, yy)\n",
    "    Z = fun(X, Y)\n",
    "    if ax==None:\n",
    "        fig, ax = plt.subplots(figsize=(10,8))\n",
    "    cnt = ax.contour(X,Y,Z, vmin=Z.min(), vmax=Z.max(),levels=np.linspace(Z.min(),Z.max(),levels))\n",
    "    ax.set_aspect('equal', 'box')\n",
    "    return cnt"
   ]
  },
  {
   "cell_type": "code",
   "execution_count": null,
   "metadata": {
    "hide-output": false,
    "slideshow": {
     "slide_type": "slide"
    }
   },
   "outputs": [],
   "source": [
    "contour_plot(F)\n",
    "contour_plot(F,bound=np.pi)"
   ]
  },
  {
   "cell_type": "markdown",
   "metadata": {
    "slideshow": {
     "slide_type": "slide"
    }
   },
   "source": [
    "#### Jacobian and Hessian\n",
    "\n",
    "$$\n",
    "F(x,y) = 2.575 - 2 \\cos(x) \\cos(y+\\pi) - 0.575 \\cos(1.25 \\pi - 2x)\n",
    "$$\n",
    "\n",
    "$$\n",
    "G(x,y) =\n",
    "\\begin{pmatrix}\n",
    "2 \\sin(x) \\cos(y+\\pi) - 1.15 \\sin(1.25\\pi - 2x) \\\\\n",
    "2 \\cos(x) \\sin(y+\\pi) \\\\\n",
    "\\end{pmatrix}\n",
    "$$\n",
    "\n",
    "$$\n",
    "H(x,y) =\n",
    "\\begin{pmatrix}\n",
    "2 \\cos(x) \\cos(y+\\pi) + 2.3 \\cos(1.25\\pi - 2x) & -2 \\sin(x) \\sin(y+\\pi) \\\\\n",
    "-2 \\sin(x) \\sin(y+\\pi) & 2 \\cos(x) \\cos(y+\\pi) \\\\\n",
    "\\end{pmatrix}\n",
    "$$"
   ]
  },
  {
   "cell_type": "code",
   "execution_count": null,
   "metadata": {
    "hide-output": false,
    "slideshow": {
     "slide_type": "slide"
    }
   },
   "outputs": [],
   "source": [
    "G = lambda x, y: [2*np.sin(x)*np.cos(y+np.pi) - 2*0.575 * np.sin(1.25*np.pi - 2*x),\n",
    "                  2*np.cos(x)*np.sin(y+np.pi)]\n",
    "H = lambda x, y: [[2*np.cos(x)*np.cos(y+np.pi) - 2*0.575 * np.sin(1.25*np.pi - 2*x),\n",
    "                   -2*np.sin(x)*np.sin(y+np.pi)],\n",
    "                  [-2*np.sin(x)*np.sin(y+np.pi),\n",
    "                    2*np.cos(x)*np.cos(y+np.pi)]]"
   ]
  },
  {
   "cell_type": "code",
   "execution_count": null,
   "metadata": {
    "hide-output": false,
    "slideshow": {
     "slide_type": "slide"
    }
   },
   "outputs": [],
   "source": [
    "fig, axs = plt.subplots(1, 2)\n",
    "contour_plot(lambda x,y: G(x,y)[0],ax=axs[0],bound=np.pi)\n",
    "contour_plot(lambda x,y: G(x,y)[1],ax=axs[1],bound=np.pi)"
   ]
  },
  {
   "cell_type": "code",
   "execution_count": null,
   "metadata": {
    "hide-output": false,
    "slideshow": {
     "slide_type": "slide"
    }
   },
   "outputs": [],
   "source": [
    "fig, axs = plt.subplots(2, 2)\n",
    "contour_plot(lambda x,y: H(x,y)[0][0],ax=axs[0,0],bound=np.pi)\n",
    "contour_plot(lambda x,y: H(x,y)[0][1],ax=axs[0,1],bound=np.pi)\n",
    "contour_plot(lambda x,y: H(x,y)[1][0],ax=axs[1,0],bound=np.pi)\n",
    "contour_plot(lambda x,y: H(x,y)[1][1],ax=axs[1,1],bound=np.pi)"
   ]
  },
  {
   "cell_type": "code",
   "execution_count": null,
   "metadata": {
    "hide-output": false,
    "slideshow": {
     "slide_type": "slide"
    }
   },
   "outputs": [],
   "source": [
    "def newton2(fun,grad,x0,tol=1e-6,maxiter=100,callback=None):\n",
    "    '''Newton method for solving equation f(x)=0, x is vector of 2 elements,\n",
    "    with given tolerance and number of iterations.\n",
    "    Callback function is invoked at each iteration if given.\n",
    "    '''\n",
    "    # conversion to array function of array argument\n",
    "    npfun = lambda x: np.asarray(fun(x[0],x[1]))\n",
    "    npgrad = lambda x: np.asarray(grad(x[0],x[1]))\n",
    "    for i in range(maxiter):\n",
    "        x1 = x0 - np.linalg.inv(npgrad(x0)) @ npfun(x0)  # matrix version\n",
    "        err = np.amax(np.abs(x1-x0))  # vector version\n",
    "        if callback != None: callback(iter=i,err=err,x0=x0,x1=x1,fun=fun)\n",
    "        if err<tol: break\n",
    "        x0 = x1\n",
    "    else:\n",
    "        raise RuntimeError('Failed to converge in %d iterations'%maxiter)\n",
    "    return x1"
   ]
  },
  {
   "cell_type": "code",
   "execution_count": null,
   "metadata": {
    "hide-output": false,
    "slideshow": {
     "slide_type": "slide"
    }
   },
   "outputs": [],
   "source": [
    "def plot_step(**kwargs):\n",
    "    plot_step.counter += 1\n",
    "    x0,x1 = kwargs['x0'],kwargs['x1']\n",
    "    b = max(np.amax(np.abs(x0)),np.amax(np.abs(x1)))+1\n",
    "    if plot_step.counter == 1 or b>plot_step.bound:\n",
    "        plot_step.bound=b  # save the bound for later calls\n",
    "        if plot_step.counter > 1:\n",
    "            # remove old conrours if resdrawing\n",
    "            for c in plot_step.contours.collections:\n",
    "                c.remove()\n",
    "        plot_step.contours = contour_plot(F,bound=b,ax=ax)\n",
    "    ax.plot([x0[0],x1[0]],[x0[1],x1[1]],c='r')\n",
    "    if plot_step.counter == 1:\n",
    "        ax.scatter(x0[0],x0[1],c='r',edgecolors='r')\n",
    "plot_step.counter = 0"
   ]
  },
  {
   "cell_type": "code",
   "execution_count": null,
   "metadata": {
    "hide-output": false,
    "slideshow": {
     "slide_type": "slide"
    }
   },
   "outputs": [],
   "source": [
    "x0 = np.array([-1.8,-.2])\n",
    "# x0 = np.array([-.8,-.2])\n",
    "# x0 = np.array([-.2,1.8])\n",
    "# x0 = np.array([-.2,-.2])\n",
    "# x0 = np.array([-.25,1.5])\n",
    "fig, ax = plt.subplots(1,1)\n",
    "xs = newton2(G,H,x0,callback=plot_step)\n",
    "plt.show()\n",
    "print('Converged in %d steps'%plot_step.counter)\n",
    "print('x*    = (%1.5f,%1.5f)'%tuple(xs))\n",
    "print('G(x*) = (%1.5e,%1.5e)'%tuple(G(*tuple(xs))))"
   ]
  },
  {
   "cell_type": "markdown",
   "metadata": {
    "slideshow": {
     "slide_type": "slide"
    }
   },
   "source": [
    "### Further learning resources\n",
    "\n",
    "- Oscar Veliz videos on Newton method and domains of attraction\n",
    "  [https://www.youtube.com/watch?v=E24zUEKqgwQ](https://www.youtube.com/watch?v=E24zUEKqgwQ)\n",
    "  [https://www.youtube.com/watch?v=zyXRo8Qjj0A](https://www.youtube.com/watch?v=zyXRo8Qjj0A)\n",
    "  [https://www.youtube.com/watch?v=MWD2A0Vg2V0](https://www.youtube.com/watch?v=MWD2A0Vg2V0)  \n",
    "- NFXP estimator\n",
    "  [https://en.wikipedia.org/wiki/Dynamic_discrete_choice#Estimation_with_nested_fixed_point_algorithm](https://en.wikipedia.org/wiki/Dynamic_discrete_choice#Estimation_with_nested_fixed_point_algorithm)  "
   ]
  }
 ],
 "metadata": {
  "celltoolbar": "Slideshow",
  "date": 1627474986.25937,
  "filename": "23_mutivariate_newton.rst",
  "kernelspec": {
   "display_name": "Python",
   "language": "python3",
   "name": "python3"
  },
  "title": "Foundations of Computational Economics #23"
 },
 "nbformat": 4,
 "nbformat_minor": 4
}